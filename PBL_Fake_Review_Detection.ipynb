{
  "nbformat": 4,
  "nbformat_minor": 0,
  "metadata": {
    "colab": {
      "provenance": [],
      "mount_file_id": "1jtNOiZvnHRp2aw-nBTJZ5Ef5SwPC3E1f",
      "authorship_tag": "ABX9TyP4+ppKZhPiAZeD7pP294Is",
      "include_colab_link": true
    },
    "kernelspec": {
      "name": "python3",
      "display_name": "Python 3"
    },
    "language_info": {
      "name": "python"
    }
  },
  "cells": [
    {
      "cell_type": "markdown",
      "metadata": {
        "id": "view-in-github",
        "colab_type": "text"
      },
      "source": [
        "<a href=\"https://colab.research.google.com/github/Preet-kal/FakeReviewDetection/blob/main/PBL_Fake_Review_Detection.ipynb\" target=\"_parent\"><img src=\"https://colab.research.google.com/assets/colab-badge.svg\" alt=\"Open In Colab\"/></a>"
      ]
    },
    {
      "cell_type": "code",
      "execution_count": null,
      "metadata": {
        "colab": {
          "base_uri": "https://localhost:8080/"
        },
        "id": "7ptWzbq4t_SA",
        "outputId": "e3ef645c-b34d-4ec6-8fb1-4373fa816240"
      },
      "outputs": [
        {
          "output_type": "stream",
          "name": "stderr",
          "text": [
            "[nltk_data] Downloading package wordnet to /root/nltk_data...\n"
          ]
        },
        {
          "output_type": "execute_result",
          "data": {
            "text/plain": [
              "True"
            ]
          },
          "metadata": {},
          "execution_count": 1
        }
      ],
      "source": [
        "import numpy as np\n",
        "import pandas as pd\n",
        "import seaborn as sns\n",
        "import matplotlib.pyplot as plt\n",
        "%matplotlib inline\n",
        "import warnings\n",
        "warnings.filterwarnings('ignore')\n",
        "from nltk.corpus import stopwords\n",
        "from sklearn.feature_extraction.text import TfidfTransformer, CountVectorizer\n",
        "from sklearn.metrics import classification_report, confusion_matrix\n",
        "from sklearn.model_selection import train_test_split\n",
        "import string, nltk\n",
        "from nltk import word_tokenize\n",
        "from nltk.stem import PorterStemmer\n",
        "from nltk.stem import WordNetLemmatizer\n",
        "nltk.download('wordnet')"
      ]
    },
    {
      "cell_type": "code",
      "source": [
        "nltk.download('omw-1.4')"
      ],
      "metadata": {
        "colab": {
          "base_uri": "https://localhost:8080/"
        },
        "id": "87HUkDQD2bo7",
        "outputId": "2bd5c991-eb74-4c36-b765-05af4856e1e4"
      },
      "execution_count": null,
      "outputs": [
        {
          "output_type": "stream",
          "name": "stderr",
          "text": [
            "[nltk_data] Downloading package omw-1.4 to /root/nltk_data...\n"
          ]
        },
        {
          "output_type": "execute_result",
          "data": {
            "text/plain": [
              "True"
            ]
          },
          "metadata": {},
          "execution_count": 2
        }
      ]
    },
    {
      "cell_type": "code",
      "source": [
        "from google.colab import drive\n",
        "drive.mount('/content/drive')"
      ],
      "metadata": {
        "id": "VmFDH69i7SNM"
      },
      "execution_count": null,
      "outputs": []
    },
    {
      "cell_type": "code",
      "source": [
        "df = pd.read_csv('Preprocessed Fake Reviews Detection Dataset.csv')"
      ],
      "metadata": {
        "id": "ZEEDg5W3F6va"
      },
      "execution_count": null,
      "outputs": []
    },
    {
      "cell_type": "code",
      "source": [
        "df.head()"
      ],
      "metadata": {
        "colab": {
          "base_uri": "https://localhost:8080/",
          "height": 206
        },
        "id": "Pu4-3PY-H3DM",
        "outputId": "59eae3a8-a730-48e4-b28b-34dcb4e28b07"
      },
      "execution_count": null,
      "outputs": [
        {
          "output_type": "execute_result",
          "data": {
            "text/plain": [
              "   Unnamed: 0            category  rating label  \\\n",
              "0           0  Home_and_Kitchen_5     5.0    CG   \n",
              "1           1  Home_and_Kitchen_5     5.0    CG   \n",
              "2           2  Home_and_Kitchen_5     5.0    CG   \n",
              "3           3  Home_and_Kitchen_5     1.0    CG   \n",
              "4           4  Home_and_Kitchen_5     5.0    CG   \n",
              "\n",
              "                                               text_  \n",
              "0  love this!  well made, sturdy, and very comfor...  \n",
              "1  love it, a great upgrade from the original.  i...  \n",
              "2  this pillow saved my back. i love the look and...  \n",
              "3  missing information on how to use it, but it i...  \n",
              "4  very nice set. good quality. we have had the s...  "
            ],
            "text/html": [
              "\n",
              "  <div id=\"df-6b58310c-4b25-4dfd-8721-7891f19105e3\" class=\"colab-df-container\">\n",
              "    <div>\n",
              "<style scoped>\n",
              "    .dataframe tbody tr th:only-of-type {\n",
              "        vertical-align: middle;\n",
              "    }\n",
              "\n",
              "    .dataframe tbody tr th {\n",
              "        vertical-align: top;\n",
              "    }\n",
              "\n",
              "    .dataframe thead th {\n",
              "        text-align: right;\n",
              "    }\n",
              "</style>\n",
              "<table border=\"1\" class=\"dataframe\">\n",
              "  <thead>\n",
              "    <tr style=\"text-align: right;\">\n",
              "      <th></th>\n",
              "      <th>Unnamed: 0</th>\n",
              "      <th>category</th>\n",
              "      <th>rating</th>\n",
              "      <th>label</th>\n",
              "      <th>text_</th>\n",
              "    </tr>\n",
              "  </thead>\n",
              "  <tbody>\n",
              "    <tr>\n",
              "      <th>0</th>\n",
              "      <td>0</td>\n",
              "      <td>Home_and_Kitchen_5</td>\n",
              "      <td>5.0</td>\n",
              "      <td>CG</td>\n",
              "      <td>love this!  well made, sturdy, and very comfor...</td>\n",
              "    </tr>\n",
              "    <tr>\n",
              "      <th>1</th>\n",
              "      <td>1</td>\n",
              "      <td>Home_and_Kitchen_5</td>\n",
              "      <td>5.0</td>\n",
              "      <td>CG</td>\n",
              "      <td>love it, a great upgrade from the original.  i...</td>\n",
              "    </tr>\n",
              "    <tr>\n",
              "      <th>2</th>\n",
              "      <td>2</td>\n",
              "      <td>Home_and_Kitchen_5</td>\n",
              "      <td>5.0</td>\n",
              "      <td>CG</td>\n",
              "      <td>this pillow saved my back. i love the look and...</td>\n",
              "    </tr>\n",
              "    <tr>\n",
              "      <th>3</th>\n",
              "      <td>3</td>\n",
              "      <td>Home_and_Kitchen_5</td>\n",
              "      <td>1.0</td>\n",
              "      <td>CG</td>\n",
              "      <td>missing information on how to use it, but it i...</td>\n",
              "    </tr>\n",
              "    <tr>\n",
              "      <th>4</th>\n",
              "      <td>4</td>\n",
              "      <td>Home_and_Kitchen_5</td>\n",
              "      <td>5.0</td>\n",
              "      <td>CG</td>\n",
              "      <td>very nice set. good quality. we have had the s...</td>\n",
              "    </tr>\n",
              "  </tbody>\n",
              "</table>\n",
              "</div>\n",
              "    <div class=\"colab-df-buttons\">\n",
              "\n",
              "  <div class=\"colab-df-container\">\n",
              "    <button class=\"colab-df-convert\" onclick=\"convertToInteractive('df-6b58310c-4b25-4dfd-8721-7891f19105e3')\"\n",
              "            title=\"Convert this dataframe to an interactive table.\"\n",
              "            style=\"display:none;\">\n",
              "\n",
              "  <svg xmlns=\"http://www.w3.org/2000/svg\" height=\"24px\" viewBox=\"0 -960 960 960\">\n",
              "    <path d=\"M120-120v-720h720v720H120Zm60-500h600v-160H180v160Zm220 220h160v-160H400v160Zm0 220h160v-160H400v160ZM180-400h160v-160H180v160Zm440 0h160v-160H620v160ZM180-180h160v-160H180v160Zm440 0h160v-160H620v160Z\"/>\n",
              "  </svg>\n",
              "    </button>\n",
              "\n",
              "  <style>\n",
              "    .colab-df-container {\n",
              "      display:flex;\n",
              "      gap: 12px;\n",
              "    }\n",
              "\n",
              "    .colab-df-convert {\n",
              "      background-color: #E8F0FE;\n",
              "      border: none;\n",
              "      border-radius: 50%;\n",
              "      cursor: pointer;\n",
              "      display: none;\n",
              "      fill: #1967D2;\n",
              "      height: 32px;\n",
              "      padding: 0 0 0 0;\n",
              "      width: 32px;\n",
              "    }\n",
              "\n",
              "    .colab-df-convert:hover {\n",
              "      background-color: #E2EBFA;\n",
              "      box-shadow: 0px 1px 2px rgba(60, 64, 67, 0.3), 0px 1px 3px 1px rgba(60, 64, 67, 0.15);\n",
              "      fill: #174EA6;\n",
              "    }\n",
              "\n",
              "    .colab-df-buttons div {\n",
              "      margin-bottom: 4px;\n",
              "    }\n",
              "\n",
              "    [theme=dark] .colab-df-convert {\n",
              "      background-color: #3B4455;\n",
              "      fill: #D2E3FC;\n",
              "    }\n",
              "\n",
              "    [theme=dark] .colab-df-convert:hover {\n",
              "      background-color: #434B5C;\n",
              "      box-shadow: 0px 1px 3px 1px rgba(0, 0, 0, 0.15);\n",
              "      filter: drop-shadow(0px 1px 2px rgba(0, 0, 0, 0.3));\n",
              "      fill: #FFFFFF;\n",
              "    }\n",
              "  </style>\n",
              "\n",
              "    <script>\n",
              "      const buttonEl =\n",
              "        document.querySelector('#df-6b58310c-4b25-4dfd-8721-7891f19105e3 button.colab-df-convert');\n",
              "      buttonEl.style.display =\n",
              "        google.colab.kernel.accessAllowed ? 'block' : 'none';\n",
              "\n",
              "      async function convertToInteractive(key) {\n",
              "        const element = document.querySelector('#df-6b58310c-4b25-4dfd-8721-7891f19105e3');\n",
              "        const dataTable =\n",
              "          await google.colab.kernel.invokeFunction('convertToInteractive',\n",
              "                                                    [key], {});\n",
              "        if (!dataTable) return;\n",
              "\n",
              "        const docLinkHtml = 'Like what you see? Visit the ' +\n",
              "          '<a target=\"_blank\" href=https://colab.research.google.com/notebooks/data_table.ipynb>data table notebook</a>'\n",
              "          + ' to learn more about interactive tables.';\n",
              "        element.innerHTML = '';\n",
              "        dataTable['output_type'] = 'display_data';\n",
              "        await google.colab.output.renderOutput(dataTable, element);\n",
              "        const docLink = document.createElement('div');\n",
              "        docLink.innerHTML = docLinkHtml;\n",
              "        element.appendChild(docLink);\n",
              "      }\n",
              "    </script>\n",
              "  </div>\n",
              "\n",
              "\n",
              "<div id=\"df-1fd50618-37b0-44fc-b1bb-56591a3d763d\">\n",
              "  <button class=\"colab-df-quickchart\" onclick=\"quickchart('df-1fd50618-37b0-44fc-b1bb-56591a3d763d')\"\n",
              "            title=\"Suggest charts\"\n",
              "            style=\"display:none;\">\n",
              "\n",
              "<svg xmlns=\"http://www.w3.org/2000/svg\" height=\"24px\"viewBox=\"0 0 24 24\"\n",
              "     width=\"24px\">\n",
              "    <g>\n",
              "        <path d=\"M19 3H5c-1.1 0-2 .9-2 2v14c0 1.1.9 2 2 2h14c1.1 0 2-.9 2-2V5c0-1.1-.9-2-2-2zM9 17H7v-7h2v7zm4 0h-2V7h2v10zm4 0h-2v-4h2v4z\"/>\n",
              "    </g>\n",
              "</svg>\n",
              "  </button>\n",
              "\n",
              "<style>\n",
              "  .colab-df-quickchart {\n",
              "      --bg-color: #E8F0FE;\n",
              "      --fill-color: #1967D2;\n",
              "      --hover-bg-color: #E2EBFA;\n",
              "      --hover-fill-color: #174EA6;\n",
              "      --disabled-fill-color: #AAA;\n",
              "      --disabled-bg-color: #DDD;\n",
              "  }\n",
              "\n",
              "  [theme=dark] .colab-df-quickchart {\n",
              "      --bg-color: #3B4455;\n",
              "      --fill-color: #D2E3FC;\n",
              "      --hover-bg-color: #434B5C;\n",
              "      --hover-fill-color: #FFFFFF;\n",
              "      --disabled-bg-color: #3B4455;\n",
              "      --disabled-fill-color: #666;\n",
              "  }\n",
              "\n",
              "  .colab-df-quickchart {\n",
              "    background-color: var(--bg-color);\n",
              "    border: none;\n",
              "    border-radius: 50%;\n",
              "    cursor: pointer;\n",
              "    display: none;\n",
              "    fill: var(--fill-color);\n",
              "    height: 32px;\n",
              "    padding: 0;\n",
              "    width: 32px;\n",
              "  }\n",
              "\n",
              "  .colab-df-quickchart:hover {\n",
              "    background-color: var(--hover-bg-color);\n",
              "    box-shadow: 0 1px 2px rgba(60, 64, 67, 0.3), 0 1px 3px 1px rgba(60, 64, 67, 0.15);\n",
              "    fill: var(--button-hover-fill-color);\n",
              "  }\n",
              "\n",
              "  .colab-df-quickchart-complete:disabled,\n",
              "  .colab-df-quickchart-complete:disabled:hover {\n",
              "    background-color: var(--disabled-bg-color);\n",
              "    fill: var(--disabled-fill-color);\n",
              "    box-shadow: none;\n",
              "  }\n",
              "\n",
              "  .colab-df-spinner {\n",
              "    border: 2px solid var(--fill-color);\n",
              "    border-color: transparent;\n",
              "    border-bottom-color: var(--fill-color);\n",
              "    animation:\n",
              "      spin 1s steps(1) infinite;\n",
              "  }\n",
              "\n",
              "  @keyframes spin {\n",
              "    0% {\n",
              "      border-color: transparent;\n",
              "      border-bottom-color: var(--fill-color);\n",
              "      border-left-color: var(--fill-color);\n",
              "    }\n",
              "    20% {\n",
              "      border-color: transparent;\n",
              "      border-left-color: var(--fill-color);\n",
              "      border-top-color: var(--fill-color);\n",
              "    }\n",
              "    30% {\n",
              "      border-color: transparent;\n",
              "      border-left-color: var(--fill-color);\n",
              "      border-top-color: var(--fill-color);\n",
              "      border-right-color: var(--fill-color);\n",
              "    }\n",
              "    40% {\n",
              "      border-color: transparent;\n",
              "      border-right-color: var(--fill-color);\n",
              "      border-top-color: var(--fill-color);\n",
              "    }\n",
              "    60% {\n",
              "      border-color: transparent;\n",
              "      border-right-color: var(--fill-color);\n",
              "    }\n",
              "    80% {\n",
              "      border-color: transparent;\n",
              "      border-right-color: var(--fill-color);\n",
              "      border-bottom-color: var(--fill-color);\n",
              "    }\n",
              "    90% {\n",
              "      border-color: transparent;\n",
              "      border-bottom-color: var(--fill-color);\n",
              "    }\n",
              "  }\n",
              "</style>\n",
              "\n",
              "  <script>\n",
              "    async function quickchart(key) {\n",
              "      const quickchartButtonEl =\n",
              "        document.querySelector('#' + key + ' button');\n",
              "      quickchartButtonEl.disabled = true;  // To prevent multiple clicks.\n",
              "      quickchartButtonEl.classList.add('colab-df-spinner');\n",
              "      try {\n",
              "        const charts = await google.colab.kernel.invokeFunction(\n",
              "            'suggestCharts', [key], {});\n",
              "      } catch (error) {\n",
              "        console.error('Error during call to suggestCharts:', error);\n",
              "      }\n",
              "      quickchartButtonEl.classList.remove('colab-df-spinner');\n",
              "      quickchartButtonEl.classList.add('colab-df-quickchart-complete');\n",
              "    }\n",
              "    (() => {\n",
              "      let quickchartButtonEl =\n",
              "        document.querySelector('#df-1fd50618-37b0-44fc-b1bb-56591a3d763d button');\n",
              "      quickchartButtonEl.style.display =\n",
              "        google.colab.kernel.accessAllowed ? 'block' : 'none';\n",
              "    })();\n",
              "  </script>\n",
              "</div>\n",
              "    </div>\n",
              "  </div>\n"
            ]
          },
          "metadata": {},
          "execution_count": 12
        }
      ]
    },
    {
      "cell_type": "code",
      "source": [
        "df.isnull().sum()"
      ],
      "metadata": {
        "colab": {
          "base_uri": "https://localhost:8080/"
        },
        "id": "H_EDVzUZICb7",
        "outputId": "988c5ccd-86ba-4000-9db3-353af8749b9e"
      },
      "execution_count": null,
      "outputs": [
        {
          "output_type": "execute_result",
          "data": {
            "text/plain": [
              "Unnamed: 0    0\n",
              "category      0\n",
              "rating        0\n",
              "label         0\n",
              "text_         0\n",
              "dtype: int64"
            ]
          },
          "metadata": {},
          "execution_count": 13
        }
      ]
    },
    {
      "cell_type": "code",
      "source": [
        "df.info()"
      ],
      "metadata": {
        "colab": {
          "base_uri": "https://localhost:8080/"
        },
        "id": "ZCjvU0QCIEs2",
        "outputId": "1d2679b6-eb66-49ce-b84b-6344f8b3706d"
      },
      "execution_count": null,
      "outputs": [
        {
          "output_type": "stream",
          "name": "stdout",
          "text": [
            "<class 'pandas.core.frame.DataFrame'>\n",
            "RangeIndex: 40432 entries, 0 to 40431\n",
            "Data columns (total 5 columns):\n",
            " #   Column      Non-Null Count  Dtype  \n",
            "---  ------      --------------  -----  \n",
            " 0   Unnamed: 0  40432 non-null  int64  \n",
            " 1   category    40432 non-null  object \n",
            " 2   rating      40432 non-null  float64\n",
            " 3   label       40432 non-null  object \n",
            " 4   text_       40432 non-null  object \n",
            "dtypes: float64(1), int64(1), object(3)\n",
            "memory usage: 1.5+ MB\n"
          ]
        }
      ]
    },
    {
      "cell_type": "code",
      "source": [
        "df.describe()"
      ],
      "metadata": {
        "colab": {
          "base_uri": "https://localhost:8080/",
          "height": 781
        },
        "id": "pd_qrnU-Jo-3",
        "outputId": "af86238d-2d74-4782-f6fa-55430fc2ce06"
      },
      "execution_count": null,
      "outputs": [
        {
          "output_type": "execute_result",
          "data": {
            "text/plain": [
              "         Unnamed: 0        rating\n",
              "count  40432.000000  40432.000000\n",
              "mean   20215.500000      4.256579\n",
              "std    11671.857379      1.144354\n",
              "min        0.000000      1.000000\n",
              "25%    10107.750000      4.000000\n",
              "50%    20215.500000      5.000000\n",
              "75%    30323.250000      5.000000\n",
              "max    40431.000000      5.000000"
            ],
            "text/html": [
              "\n",
              "  <div id=\"df-8438a5d1-9fa3-42b1-a6d0-6a72f20f8465\" class=\"colab-df-container\">\n",
              "    <div>\n",
              "<style scoped>\n",
              "    .dataframe tbody tr th:only-of-type {\n",
              "        vertical-align: middle;\n",
              "    }\n",
              "\n",
              "    .dataframe tbody tr th {\n",
              "        vertical-align: top;\n",
              "    }\n",
              "\n",
              "    .dataframe thead th {\n",
              "        text-align: right;\n",
              "    }\n",
              "</style>\n",
              "<table border=\"1\" class=\"dataframe\">\n",
              "  <thead>\n",
              "    <tr style=\"text-align: right;\">\n",
              "      <th></th>\n",
              "      <th>Unnamed: 0</th>\n",
              "      <th>rating</th>\n",
              "    </tr>\n",
              "  </thead>\n",
              "  <tbody>\n",
              "    <tr>\n",
              "      <th>count</th>\n",
              "      <td>40432.000000</td>\n",
              "      <td>40432.000000</td>\n",
              "    </tr>\n",
              "    <tr>\n",
              "      <th>mean</th>\n",
              "      <td>20215.500000</td>\n",
              "      <td>4.256579</td>\n",
              "    </tr>\n",
              "    <tr>\n",
              "      <th>std</th>\n",
              "      <td>11671.857379</td>\n",
              "      <td>1.144354</td>\n",
              "    </tr>\n",
              "    <tr>\n",
              "      <th>min</th>\n",
              "      <td>0.000000</td>\n",
              "      <td>1.000000</td>\n",
              "    </tr>\n",
              "    <tr>\n",
              "      <th>25%</th>\n",
              "      <td>10107.750000</td>\n",
              "      <td>4.000000</td>\n",
              "    </tr>\n",
              "    <tr>\n",
              "      <th>50%</th>\n",
              "      <td>20215.500000</td>\n",
              "      <td>5.000000</td>\n",
              "    </tr>\n",
              "    <tr>\n",
              "      <th>75%</th>\n",
              "      <td>30323.250000</td>\n",
              "      <td>5.000000</td>\n",
              "    </tr>\n",
              "    <tr>\n",
              "      <th>max</th>\n",
              "      <td>40431.000000</td>\n",
              "      <td>5.000000</td>\n",
              "    </tr>\n",
              "  </tbody>\n",
              "</table>\n",
              "</div>\n",
              "    <div class=\"colab-df-buttons\">\n",
              "\n",
              "  <div class=\"colab-df-container\">\n",
              "    <button class=\"colab-df-convert\" onclick=\"convertToInteractive('df-8438a5d1-9fa3-42b1-a6d0-6a72f20f8465')\"\n",
              "            title=\"Convert this dataframe to an interactive table.\"\n",
              "            style=\"display:none;\">\n",
              "\n",
              "  <svg xmlns=\"http://www.w3.org/2000/svg\" height=\"24px\" viewBox=\"0 -960 960 960\">\n",
              "    <path d=\"M120-120v-720h720v720H120Zm60-500h600v-160H180v160Zm220 220h160v-160H400v160Zm0 220h160v-160H400v160ZM180-400h160v-160H180v160Zm440 0h160v-160H620v160ZM180-180h160v-160H180v160Zm440 0h160v-160H620v160Z\"/>\n",
              "  </svg>\n",
              "    </button>\n",
              "\n",
              "  <style>\n",
              "    .colab-df-container {\n",
              "      display:flex;\n",
              "      gap: 12px;\n",
              "    }\n",
              "\n",
              "    .colab-df-convert {\n",
              "      background-color: #E8F0FE;\n",
              "      border: none;\n",
              "      border-radius: 50%;\n",
              "      cursor: pointer;\n",
              "      display: none;\n",
              "      fill: #1967D2;\n",
              "      height: 32px;\n",
              "      padding: 0 0 0 0;\n",
              "      width: 32px;\n",
              "    }\n",
              "\n",
              "    .colab-df-convert:hover {\n",
              "      background-color: #E2EBFA;\n",
              "      box-shadow: 0px 1px 2px rgba(60, 64, 67, 0.3), 0px 1px 3px 1px rgba(60, 64, 67, 0.15);\n",
              "      fill: #174EA6;\n",
              "    }\n",
              "\n",
              "    .colab-df-buttons div {\n",
              "      margin-bottom: 4px;\n",
              "    }\n",
              "\n",
              "    [theme=dark] .colab-df-convert {\n",
              "      background-color: #3B4455;\n",
              "      fill: #D2E3FC;\n",
              "    }\n",
              "\n",
              "    [theme=dark] .colab-df-convert:hover {\n",
              "      background-color: #434B5C;\n",
              "      box-shadow: 0px 1px 3px 1px rgba(0, 0, 0, 0.15);\n",
              "      filter: drop-shadow(0px 1px 2px rgba(0, 0, 0, 0.3));\n",
              "      fill: #FFFFFF;\n",
              "    }\n",
              "  </style>\n",
              "\n",
              "    <script>\n",
              "      const buttonEl =\n",
              "        document.querySelector('#df-8438a5d1-9fa3-42b1-a6d0-6a72f20f8465 button.colab-df-convert');\n",
              "      buttonEl.style.display =\n",
              "        google.colab.kernel.accessAllowed ? 'block' : 'none';\n",
              "\n",
              "      async function convertToInteractive(key) {\n",
              "        const element = document.querySelector('#df-8438a5d1-9fa3-42b1-a6d0-6a72f20f8465');\n",
              "        const dataTable =\n",
              "          await google.colab.kernel.invokeFunction('convertToInteractive',\n",
              "                                                    [key], {});\n",
              "        if (!dataTable) return;\n",
              "\n",
              "        const docLinkHtml = 'Like what you see? Visit the ' +\n",
              "          '<a target=\"_blank\" href=https://colab.research.google.com/notebooks/data_table.ipynb>data table notebook</a>'\n",
              "          + ' to learn more about interactive tables.';\n",
              "        element.innerHTML = '';\n",
              "        dataTable['output_type'] = 'display_data';\n",
              "        await google.colab.output.renderOutput(dataTable, element);\n",
              "        const docLink = document.createElement('div');\n",
              "        docLink.innerHTML = docLinkHtml;\n",
              "        element.appendChild(docLink);\n",
              "      }\n",
              "    </script>\n",
              "  </div>\n",
              "\n",
              "\n",
              "<div id=\"df-0ec069e7-5d24-43fb-b4af-392174d776ce\">\n",
              "  <button class=\"colab-df-quickchart\" onclick=\"quickchart('df-0ec069e7-5d24-43fb-b4af-392174d776ce')\"\n",
              "            title=\"Suggest charts\"\n",
              "            style=\"display:none;\">\n",
              "\n",
              "<svg xmlns=\"http://www.w3.org/2000/svg\" height=\"24px\"viewBox=\"0 0 24 24\"\n",
              "     width=\"24px\">\n",
              "    <g>\n",
              "        <path d=\"M19 3H5c-1.1 0-2 .9-2 2v14c0 1.1.9 2 2 2h14c1.1 0 2-.9 2-2V5c0-1.1-.9-2-2-2zM9 17H7v-7h2v7zm4 0h-2V7h2v10zm4 0h-2v-4h2v4z\"/>\n",
              "    </g>\n",
              "</svg>\n",
              "  </button>\n",
              "\n",
              "<style>\n",
              "  .colab-df-quickchart {\n",
              "      --bg-color: #E8F0FE;\n",
              "      --fill-color: #1967D2;\n",
              "      --hover-bg-color: #E2EBFA;\n",
              "      --hover-fill-color: #174EA6;\n",
              "      --disabled-fill-color: #AAA;\n",
              "      --disabled-bg-color: #DDD;\n",
              "  }\n",
              "\n",
              "  [theme=dark] .colab-df-quickchart {\n",
              "      --bg-color: #3B4455;\n",
              "      --fill-color: #D2E3FC;\n",
              "      --hover-bg-color: #434B5C;\n",
              "      --hover-fill-color: #FFFFFF;\n",
              "      --disabled-bg-color: #3B4455;\n",
              "      --disabled-fill-color: #666;\n",
              "  }\n",
              "\n",
              "  .colab-df-quickchart {\n",
              "    background-color: var(--bg-color);\n",
              "    border: none;\n",
              "    border-radius: 50%;\n",
              "    cursor: pointer;\n",
              "    display: none;\n",
              "    fill: var(--fill-color);\n",
              "    height: 32px;\n",
              "    padding: 0;\n",
              "    width: 32px;\n",
              "  }\n",
              "\n",
              "  .colab-df-quickchart:hover {\n",
              "    background-color: var(--hover-bg-color);\n",
              "    box-shadow: 0 1px 2px rgba(60, 64, 67, 0.3), 0 1px 3px 1px rgba(60, 64, 67, 0.15);\n",
              "    fill: var(--button-hover-fill-color);\n",
              "  }\n",
              "\n",
              "  .colab-df-quickchart-complete:disabled,\n",
              "  .colab-df-quickchart-complete:disabled:hover {\n",
              "    background-color: var(--disabled-bg-color);\n",
              "    fill: var(--disabled-fill-color);\n",
              "    box-shadow: none;\n",
              "  }\n",
              "\n",
              "  .colab-df-spinner {\n",
              "    border: 2px solid var(--fill-color);\n",
              "    border-color: transparent;\n",
              "    border-bottom-color: var(--fill-color);\n",
              "    animation:\n",
              "      spin 1s steps(1) infinite;\n",
              "  }\n",
              "\n",
              "  @keyframes spin {\n",
              "    0% {\n",
              "      border-color: transparent;\n",
              "      border-bottom-color: var(--fill-color);\n",
              "      border-left-color: var(--fill-color);\n",
              "    }\n",
              "    20% {\n",
              "      border-color: transparent;\n",
              "      border-left-color: var(--fill-color);\n",
              "      border-top-color: var(--fill-color);\n",
              "    }\n",
              "    30% {\n",
              "      border-color: transparent;\n",
              "      border-left-color: var(--fill-color);\n",
              "      border-top-color: var(--fill-color);\n",
              "      border-right-color: var(--fill-color);\n",
              "    }\n",
              "    40% {\n",
              "      border-color: transparent;\n",
              "      border-right-color: var(--fill-color);\n",
              "      border-top-color: var(--fill-color);\n",
              "    }\n",
              "    60% {\n",
              "      border-color: transparent;\n",
              "      border-right-color: var(--fill-color);\n",
              "    }\n",
              "    80% {\n",
              "      border-color: transparent;\n",
              "      border-right-color: var(--fill-color);\n",
              "      border-bottom-color: var(--fill-color);\n",
              "    }\n",
              "    90% {\n",
              "      border-color: transparent;\n",
              "      border-bottom-color: var(--fill-color);\n",
              "    }\n",
              "  }\n",
              "</style>\n",
              "\n",
              "  <script>\n",
              "    async function quickchart(key) {\n",
              "      const quickchartButtonEl =\n",
              "        document.querySelector('#' + key + ' button');\n",
              "      quickchartButtonEl.disabled = true;  // To prevent multiple clicks.\n",
              "      quickchartButtonEl.classList.add('colab-df-spinner');\n",
              "      try {\n",
              "        const charts = await google.colab.kernel.invokeFunction(\n",
              "            'suggestCharts', [key], {});\n",
              "      } catch (error) {\n",
              "        console.error('Error during call to suggestCharts:', error);\n",
              "      }\n",
              "      quickchartButtonEl.classList.remove('colab-df-spinner');\n",
              "      quickchartButtonEl.classList.add('colab-df-quickchart-complete');\n",
              "    }\n",
              "    (() => {\n",
              "      let quickchartButtonEl =\n",
              "        document.querySelector('#df-0ec069e7-5d24-43fb-b4af-392174d776ce button');\n",
              "      quickchartButtonEl.style.display =\n",
              "        google.colab.kernel.accessAllowed ? 'block' : 'none';\n",
              "    })();\n",
              "  </script>\n",
              "</div>\n",
              "    </div>\n",
              "  </div>\n"
            ]
          },
          "metadata": {},
          "execution_count": 15
        },
        {
          "output_type": "display_data",
          "data": {
            "text/plain": [
              "<google.colab._quickchart_helpers.SectionTitle at 0x7b405b1ec850>"
            ],
            "text/html": [
              "<h4 class=\"colab-quickchart-section-title\">Distributions</h4>\n",
              "<style>\n",
              "  .colab-quickchart-section-title {\n",
              "      clear: both;\n",
              "  }\n",
              "</style>"
            ]
          },
          "metadata": {}
        },
        {
          "output_type": "display_data",
          "data": {
            "text/plain": [
              "from matplotlib import pyplot as plt\n",
              "_df_0['Unnamed: 0'].plot(kind='hist', bins=20, title='Unnamed: 0')\n",
              "plt.gca().spines[['top', 'right',]].set_visible(False)"
            ],
            "text/html": [
              "      <div class=\"colab-quickchart-chart-with-code\" id=\"chart-51e160f3-4780-47aa-bb62-03b1732a644a\">\n",
              "        <img style=\"width: 180px;\" src=\"data:image/png;base64,iVBORw0KGgoAAAANSUhEUgAAAjEAAAGrCAYAAAAxesZMAAAAOXRFWHRTb2Z0d2FyZQBNYXRwbG90\n",
              "bGliIHZlcnNpb24zLjcuMSwgaHR0cHM6Ly9tYXRwbG90bGliLm9yZy/bCgiHAAAACXBIWXMAAA9h\n",
              "AAAPYQGoP6dpAAAocklEQVR4nO3df3RUdX7/8dcwoQNiEn4lm+CQZMkvy6/8wKRZUHS7S4k/NtBA\n",
              "C1ZXCCaEVQ9tYwVTZAVcN3S7UNl2OQShqUoLqyHYLB6li+gaqiUgRlc4IAFCEjYhrrpJQIj5cb9/\n",
              "8GUOY37AxNwkn/B8nHPPyb2fz3zm/Xa8+jozd+Y6LMuyBAAAYJhBfV0AAABAdxBiAACAkQgxAADA\n",
              "SIQYAABgJEIMAAAwEiEGAAAYiRADAACMRIgBAABGIsQAAAAjEWIA4Cq33367Vq1a1ddlALgOhBgA\n",
              "nYqIiNCWLVvaHb/rrrv01FNP9UFF/dNHH32k6dOna9iwYRozZoxWrVol7ugC2I8QAwDfQGNjo2bO\n",
              "nKlp06bpD3/4g/bs2aMtW7boueee6+vSgAGPEAPgG6moqJDD4dALL7yguLg4+fv7KyUlRUePHvXM\n",
              "WbhwoebPn6/HHntMo0aN0re+9S2tXLnSM37p0iX91V/9lW655Rb5+/srNjZWv/zlL72eJyIiQqtW\n",
              "rdLMmTN18803Kzo6Wvv27dPbb7+tyZMny9/fX9///vdVW1vrte4//uM/KjIyUiNGjND06dP1wQcf\n",
              "eMZbWlq0bNkyhYSEKCgoSLm5uT73X1RUpNbWVj3zzDMaOnSoJk2apCeeeEL/9m//5vNaAHxDiAHQ\n",
              "I1566SW98cYb+vTTT+V2u/WjH/3Ia3zXrl26/fbbVVdXp1dffVVr167VW2+9JUmyLEv33HOPjhw5\n",
              "ovr6eq1fv145OTnas2eP1xoFBQX62c9+pvr6eqWlpemBBx7QL37xC7355pv6/e9/ry+//FJPP/20\n",
              "Z/6SJUtUWlqq3/72t/r000/113/915o5c6b++Mc/SpJ+9rOf6eWXX9a+fftUXV0tPz8/HThwwOs5\n",
              "H3nkEd13332d9l1WVqaEhAT5+fl5jiUlJenUqVNqaGjo1j9LANeHEAOgR/z4xz9WaGiohgwZooyM\n",
              "DB08eNBrfNq0aZo/f76cTqe+853vKD4+XqWlpZKkoUOHKiMjQ8OHD9egQYN07733KjU1Vf/zP//j\n",
              "tUZmZqbi4uLkdDr10EMPqba2Vk888YSCgoLk7++vOXPmeNb87LPP9MILL+iXv/yl3G63/Pz89Nhj\n",
              "jykwMFC7d++WdDkUPf744xo/frxcLpdWrVqlESNGeD3nxo0bPfM70tDQoOHDh3sdu7IGIQawl9+1\n",
              "pwC4UQ0ePFjNzc3tjjc3N2vw4MFex8aMGeP5e9iwYbp48aJaWlo871BcPX5lTmNjoySpqalJK1as\n",
              "UHFxsc6dOyeHw6Evv/xS8+bN83pMaGio1+M7OnZlzfLycknSn/3Zn3mt8dVXX6m6ulqSVF1drW9/\n",
              "+9ueMafTqbCwsE7/eXQkICDAs94VX3zxhWcMgH0IMQA6NW7cOJ04ccLrWFtbm06dOqXIyMgee571\n",
              "69fr17/+tX79618rOjpagwYN0qxZs77RN3xCQkIkXf7mUGfBxO12q6KiwrPf2tqqqqoqn54nPj5e\n",
              "//mf/+kV2A4dOqRx48YRYgCb8XESgE4tWrRI//7v/669e/eqpaVFjY2NWrFihecalp5SX18vl8ul\n",
              "oKAgtbW16ZVXXmn3UZKvwsPDNXv2bD366KM6c+aMpMvfJHr99ddVU1MjSVqwYIHWrVunY8eOqamp\n",
              "SWvWrNHnn3/u0/Okp6fL6XTq6aef1sWLF/Xxxx/r5z//uR599NFvVD+AayPEAOjUvHnztGHDBj3x\n",
              "xBMaPXq0oqOj9fHHH2vv3r0aOXJkjz3PP/zDP2js2LEKDw/XmDFj9Oabb2r27NnfeN3/+q//0pQp\n",
              "UzRjxgzPt56ef/55zzs8y5cvV3p6uu6880653W599dVX7T5+WrJkie6+++5On8Pf31979uzRO++8\n",
              "o1GjRun73/++Fi1apL//+7//xvUD6JrD4heZAACAgXgnBgAAGIkQAwAAjESIAQAARiLEAAAAIxFi\n",
              "AACAkQgxAADASIQYAABgpAEfYjZs2NDXJQAAABsM+BBz5efGAQDAwDLgQwwAABiYCDEAAMBIhBgA\n",
              "AGAkQgwAADASIQYAABiJEAMAAIxEiAEAAEYixAAAACMRYgAAgJEIMQAAwEiEGAAAYCRCDAAAMJJt\n",
              "IebSpUuaPXu2YmJiFBcXpxkzZqi8vLzDubt379att96q6Ohopaenq6Gh4brGAADAjcvWd2IWL16s\n",
              "48eP68MPP9SsWbOUmZnZbs758+f18MMP69VXX9WJEyc0ZswYPfPMM9ccAwAANzbbQsyQIUN0zz33\n",
              "yOFwSJJSUlJUUVHRbt7rr7+uhIQE3XrrrZKkRx55RNu3b7/mWEeamprU0NDgtbW2tvZwZwAAoD/w\n",
              "660n2rBhg2bNmtXueGVlpcLDwz37ERERqqmpUUtLS5djfn7tS8/Ly9Pq1au9jqWkpPRgFwB8FfHk\n",
              "a7atXbH2XtvWBgYSu87Dvj4He+XC3p/+9KcqLy9XXl6erc+Tm5ur+vp6ry05OdnW5wQAAH3D9hDz\n",
              "85//XEVFRXr99dd10003tRsPCwvTmTNnPPsVFRUKDQ2Vn59fl2MdcblcCggI8NqcTmfPNwUAAPqc\n",
              "rSFm/fr12r59u37zm99o+PDhHc5JTU3V4cOHdezYMUnSxo0bNX/+/GuOAQCAG5tt18RUV1fr8ccf\n",
              "17hx4/Td735X0uV3Sg4cOKAf//jHGjNmjJYsWSJ/f39t2bJFs2fPVktLiyZOnKgXXnhBkrocAwAA\n",
              "NzbbQozb7ZZlWR2OrVmzxms/LS1NaWlpHc7tagwAANy4+MVeAABgJEIMAAAwEiEGAAAYiRADAACM\n",
              "RIgBAABGIsQAAAAjEWIAAICRCDEAAMBIhBgAAGAkQgwAADASIQYAABiJEAMAAIxEiAEAAEYixAAA\n",
              "ACMRYgAAgJEIMQAAwEiEGAAAYCRCDAAAMBIhBgAAGIkQAwAAjESIAQAARiLEAAAAIxFiAACAkQgx\n",
              "AADASIQYAABgJEIMAAAwEiEGAAAYiRADAACMRIgBAABGIsQAAAAjEWIAAICRCDEAAMBIhBgAAGAk\n",
              "QgwAADASIQYAABjJ1hCzdOlSRUREyOFwqKysrMM5BQUFio+P92yjR49Wenq6JKmiokJOp9Nr/OTJ\n",
              "k3aWDAAADOFn5+Jz587VsmXLdPvtt3c6JyMjQxkZGZ79iRMn6oEHHvDs+/v7dxqAAADAjcvWEDN9\n",
              "+nSf5h84cEB1dXVKS0vr1vM1NTWpqanJ61hra2u31gIAAP1bv7omZuvWrfrhD3+owYMHe45duHBB\n",
              "SUlJSkxM1Jo1a7oMJXl5eQoMDPTaSktLe6N0AADQy/pNiLlw4YJ27Nihhx9+2HMsNDRUZ8+e1cGD\n",
              "B7V3716VlJRo3bp1na6Rm5ur+vp6ry05Obk3ygcAAL2s34SYV155RRMmTND48eM9x1wul4KDgyVJ\n",
              "I0eO1KJFi1RSUtLpGi6XSwEBAV6b0+m0vXYAAND7+k2I2bp1q9e7MJJUV1en5uZmSZevdykqKlJC\n",
              "QkJflAcAAPoZW0NMdna23G63qqurNXPmTEVFRUmSMjMzVVxc7Jl3/PhxlZWVad68eV6P379/vxIS\n",
              "EhQXF6fExESFhIRoxYoVdpYMAAAMYeu3k/Lz8zs8vmXLFq/92NhYNTY2tpuXnp7u+c0YAACAq/Wb\n",
              "j5MAAAB8QYgBAABGIsQAAAAjEWIAAICRCDEAAMBIhBgAAGAkQgwAADASIQYAABiJEAMAAIxEiAEA\n",
              "AEYixAAAACMRYgAAgJEIMQAAwEiEGAAAYCRCDAAAMBIhBgAAGIkQAwAAjESIAQAARiLEAAAAIxFi\n",
              "AACAkQgxAADASIQYAABgJEIMAAAwEiEGAAAYiRADAACMRIgBAABGIsQAAAAjEWIAAICRCDEAAMBI\n",
              "hBgAAGAkQgwAADASIQYAABiJEAMAAIxEiAEAAEYixAAAACPZGmKWLl2qiIgIORwOlZWVdTjn7bff\n",
              "1tChQxUfH+/ZLl686BnfunWroqOjFRkZqaysLDU3N9tZMgAAMIStIWbu3Lnav3+/wsPDu5wXGxur\n",
              "srIyzzZ06FBJ0unTp7Vy5UqVlJSovLxc586d0+bNm+0sGQAAGMLWEDN9+nS53e5uP76wsFBpaWkK\n",
              "CQmRw+HQkiVLtH379k7nNzU1qaGhwWtrbW3t9vMDAID+q19cE3Py5EklJiYqKSlJGzdu9ByvrKz0\n",
              "ehcnIiJClZWVna6Tl5enwMBAr620tNTW2gEAQN/o8xCTmJio6upqHT58WLt27dKmTZv08ssvd2ut\n",
              "3Nxc1dfXe23Jyck9XDEAAOgP+jzEBAQEKDAwUJLkdrt1//33q6SkRJIUFhamM2fOeOZWVFQoLCys\n",
              "07VcLpcCAgK8NqfTaW8DAACgT/R5iKmpqVFbW5skqbGxUbt371ZCQoIkac6cOSouLlZtba0sy9Km\n",
              "TZs0f/78viwXAAD0E7aGmOzsbLndblVXV2vmzJmKioqSJGVmZqq4uFiStHPnTk2aNElxcXFKSUnR\n",
              "jBkzlJGRIUkaN26cVq9erWnTpikqKkpBQUHKzs62s2QAAGAIh2VZVl8XYaecnBytX7++r8sAblgR\n",
              "T75m29oVa++1bW1gILHrPOzrc7DPP04CAADoDkIMAAAwEiEGAAAYiRADAACMRIgBAABGIsQAAAAj\n",
              "EWIAAICRCDEAAMBIhBgAAGAkQgwAADASIQYAABiJEAMAAIxEiAEAAEYixAAAACMRYgAAgJEIMQAA\n",
              "wEiEGAAAYCRCDAAAMBIhBgAAGIkQAwAAjESIAQAARiLEAAAAIxFiAACAkQgxAADASIQYAABgJEIM\n",
              "AAAwEiEGAAAYiRADAACMRIgBAABGIsQAAAAjEWIAAICRCDEAAMBIhBgAAGAkQgwAADASIQYAABjJ\n",
              "1hCzdOlSRUREyOFwqKysrMM5+/btU3JyssaPH68JEyZo2bJlamtrkyRVVFTI6XQqPj7es508edLO\n",
              "kgEAgCFsDTFz587V/v37FR4e3umcESNGaMeOHTp69Kjef/99vfvuu3rxxRc94/7+/iorK/NskZGR\n",
              "dpYMAAAM4Wfn4tOnT7/mnISEBM/fQ4YMUXx8vCoqKrr1fE1NTWpqavI61tra2q21AABA/9avromp\n",
              "ra1VYWGh7rvvPs+xCxcuKCkpSYmJiVqzZk2XoSQvL0+BgYFeW2lpaW+UDgAAelm/CTENDQ36wQ9+\n",
              "oGXLlum2226TJIWGhurs2bM6ePCg9u7dq5KSEq1bt67TNXJzc1VfX++1JScn91YLAACgF/WLENPY\n",
              "2KjU1FTNmjVLOTk5nuMul0vBwcGSpJEjR2rRokUqKSnpdB2Xy6WAgACvzel02l4/AADofX0eYs6f\n",
              "P6/U1FSlpqbqqaee8hqrq6tTc3OzpMvXuxQVFXldQwMAAG5ctoaY7Oxsud1uVVdXa+bMmYqKipIk\n",
              "ZWZmqri4WJK0YcMGlZaWqqioyPM16meffVaStH//fiUkJCguLk6JiYkKCQnRihUr7CwZAAAYwmFZ\n",
              "ltXXRdgpJydH69ev7+sygBtWxJOv2bZ2xdp7bVsbGEjsOg/7+hzs84+TAAAAuoMQAwAAjESIAQAA\n",
              "RiLEAAAAI/kcYvbs2WNHHQAAAD7xOcSsWbNGsbGx2rBhgxoaGuyoCQAA4Jp8DjH/+7//qx07dujj\n",
              "jz9WTEyMHnnkER09etSO2gAAADrVrWtiEhIS9Pzzz+uNN97Q7t27NXnyZM2YMUO/+93vero+AACA\n",
              "DnUrxOzdu1ezZs1Senq6Hn30UdXW1io7O1t/+Zd/2dP1AQAAdMjP1wf86Z/+qUaPHq2lS5cqPT3d\n",
              "c4PFuXPnauvWrT1eIAAAQEd8DjHbtm3TlClTOhx7/fXXv3FBAAAA18Pnj5Pef/99ff755579zz77\n",
              "TM8//3yPFgUAAHAtPoeYjRs3auTIkZ79UaNGaePGjT1aFAAAwLX4HGI6uul1a2trjxQDAABwvXwO\n",
              "MaGhoXr55Zc9+7/61a8UGhrao0UBAABci88X9j733HOaNWuWli1bJkm66aab9N///d89XhgAAEBX\n",
              "fA4xt956q44eParjx49LkmJjYz1fswYAAOgtPocYSXI4HBo+fLhaWlp09uxZSVJYWFiPFgYAANAV\n",
              "n0PMf/zHf2jp0qUaPHiwBg26fEmNw+FQXV1djxcHAADQGZ9DzDPPPKODBw8qNjbWjnoAAACui8/f\n",
              "Tho9ejQBBgAA9DmfQ8zs2bP13HPPqa6uTg0NDZ4NAACgN/n8cdKKFSskSTk5OXI4HLIsSw6Hgx+8\n",
              "AwAAvcrnENPW1mZHHQAAAD7x+eMk6fJNIF966SVJ0h//+EfV1NT0aFEAAADX0q0bQC5atEirVq2S\n",
              "dPku1n/zN3/T03UBAAB0yecQs3nzZv3f//2fAgICJEmRkZH69NNPe7wwAACArvgcYlwul4YOHep1\n",
              "zM+vWz/8CwAA0G0+h5igoCB98skncjgcki7/gi+3HAAAAL2tW3exvv/++3Xs2DGNHTtWAQEB2r17\n",
              "tx21AQAAdMrnEBMVFaUDBw7o+PHjsiyLu1gDAIA+4XOIqayslCQNGzZMkriLNQAA6BM+h5gpU6Z4\n",
              "fqn30qVL+vLLLzVq1CjuYg0AAHqVzyHm61+nLioq0ocffthjBQEAAFyPbv1i79XS09P12muv9UQt\n",
              "AAAA183nEHP1nau/+OILvfHGG53exXrp0qWKiIiQw+FQWVlZp2tu3bpV0dHRioyMVFZWlpqbm69r\n",
              "DAAA3Lh8DjHDhw/XiBEjNHz4cAUHBysnJ0e/+MUvOpw7d+5c7d+/X+Hh4Z2ud/r0aa1cuVIlJSUq\n",
              "Ly/XuXPntHnz5muOAQCAG5vPIaatrU2tra1qa2tTc3Ozjh49qtTU1A7nTp8+XW63u8v1CgsLlZaW\n",
              "ppCQEDkcDi1ZskTbt2+/5lhHmpqavN4pamhoUGtrq68tAgAAA/T5/QIqKyu93qmJiIjwfI27q7GO\n",
              "5OXlafXq1V7HUlJSerji/1/Lk/ZdB1Sx9l7b1jaRnf+s7cJriIGE/96hv/L5nZhBgwbJ6XS2264c\n",
              "70u5ubmqr6/32pKTk/u0JgAAYA+f34lZs2aNLl68qB/96EeSpE2bNmno0KH6u7/7u24VEBYWppMn\n",
              "T3r2KyoqPD+c19VYR1wul1wul9exvg5WAADAHj6/E7Nr1y49++yzcrvdcrvd+slPfqKioiINGzbM\n",
              "8yu+vpgzZ46Ki4tVW1sry7K0adMmzZ8//5pjAADgxuZziGlsbPT6dd66ujo1NjZ2ODc7O1tut1vV\n",
              "1dWaOXOmoqKiJEmZmZkqLi6WJI0bN06rV6/WtGnTFBUVpaCgIGVnZ19zDAAA3Nh8/jjp8ccfV1xc\n",
              "nO655x5J0htvvKFVq1Z1ODc/P7/D41u2bPHaz8rKUlZWVodzuxoDAAA3Lp9DTHZ2tqZNm6a33npL\n",
              "kpSTk6MJEyb0eGEAAABd6dZXrEeNGqVJkybprrvuUktLi7766iv9yZ/8SU/XBgAA0Cmfr4kpLCxU\n",
              "SkqKMjIyJElHjhzR7Nmze7ouAACALvkcYvLy8nT48GENHz5ckhQXF6czZ870dF0AAABd8jnEOJ1O\n",
              "jRo1yusYHyUBAIDe5nOI8ff317lz5+RwOCRJb775pkaOHNnjhQEAAHTF5wt7/+mf/kl33323Tp06\n",
              "pdtvv12nT5/Wa6+Zd28bAABgNp9CzJU7WL/11lt69913ZVmWpk6d6rk+BgAAoLf4FGIGDRqkxYsX\n",
              "68MPP9Tdd99tV00AAADX5PM1MdHR0SovL7ejFgAAgOvm8zUxn3/+ueLj4zV16lTdfPPNnuNFRUU9\n",
              "WhgAAEBXrjvELF68WJs3b9aCBQuUlpamESNG2FkXAABAl647xBw6dEiStGDBAiUmJurw4cO2FQUA\n",
              "AHAtPl8TI0mWZfV0HQAAAD657ndiLl68qN/97neyLEuXLl3y/H3F5MmTbSkQAACgIz6FmLS0NM/+\n",
              "1X87HA6dOnWqZysDAADownWHmIqKChvLAAAA8E23rokBAADoa4QYAABgJEIMAAAwEiEGAAAYiRAD\n",
              "AACMRIgBAABGIsQAAAAjEWIAAICRCDEAAMBIhBgAAGAkQgwAADASIQYAABiJEAMAAIxEiAEAAEYi\n",
              "xAAAACMRYgAAgJEIMQAAwEiEGAAAYCRbQ8yJEyc0depUxcTEKCkpSUeOHGk3p6CgQPHx8Z5t9OjR\n",
              "Sk9PlyRVVFTI6XR6jZ88edLOkgEAgCH87Fw8Oztbixcv1sKFC1VYWKiFCxfq4MGDXnMyMjKUkZHh\n",
              "2Z84caIeeOABz76/v7/KysrsLBMAABjItndi6urqdOjQIT344IOSpDlz5qiqqkrl5eWdPubAgQOq\n",
              "q6tTWlpat56zqalJDQ0NXltra2u31gIAAP2bbSGmqqpKoaGh8vO7/GaPw+FQWFiYKisrO33M1q1b\n",
              "9cMf/lCDBw/2HLtw4YKSkpKUmJioNWvWdBlK8vLyFBgY6LWVlpb2XFMAAKDf6DcX9l64cEE7duzQ\n",
              "ww8/7DkWGhqqs2fP6uDBg9q7d69KSkq0bt26TtfIzc1VfX2915acnNwb5QMAgF5mW4gZO3asampq\n",
              "1NLSIkmyLEuVlZUKCwvrcP4rr7yiCRMmaPz48Z5jLpdLwcHBkqSRI0dq0aJFKikp6fQ5XS6XAgIC\n",
              "vDan09mDXQEAgP7CthATHBysxMREbdu2TZK0c+dOud1uRUVFdTh/69atXu/CSJevq2lubpZ0+XqX\n",
              "oqIiJSQk2FUyAAAwiK0fJ+Xn5ys/P18xMTFau3atCgoKJEmZmZkqLi72zDt+/LjKyso0b948r8fv\n",
              "379fCQkJiouLU2JiokJCQrRixQo7SwYAAIaw9SvWsbGxeu+999od37JlS7t5jY2N7ealp6d7fjMG\n",
              "AADgav3mwl4AAABfEGIAAICRCDEAAMBIhBgAAGAkQgwAADASIQYAABiJEAMAAIxEiAEAAEYixAAA\n",
              "ACMRYgAAgJEIMQAAwEiEGAAAYCRCDAAAMBIhBgAAGIkQAwAAjESIAQAARiLEAAAAIxFiAACAkQgx\n",
              "AADASIQYAABgJEIMAAAwEiEGAAAYiRADAACMRIgBAABGIsQAAAAjEWIAAICRCDEAAMBIhBgAAGAk\n",
              "QgwAADASIQYAABiJEAMAAIxEiAEAAEYixAAAACMRYgAAgJEIMQAAwEi2hpgTJ05o6tSpiomJUVJS\n",
              "ko4cOdJuzttvv62hQ4cqPj7es128eNEzvnXrVkVHRysyMlJZWVlqbm62s2QAAGAIW0NMdna2Fi9e\n",
              "rE8++UTLly/XwoULO5wXGxursrIyzzZ06FBJ0unTp7Vy5UqVlJSovLxc586d0+bNm+0sGQAAGMK2\n",
              "EFNXV6dDhw7pwQcflCTNmTNHVVVVKi8vv+41CgsLlZaWppCQEDkcDi1ZskTbt2/vdH5TU5MaGhq8\n",
              "ttbW1m/cCwAA6H9sCzFVVVUKDQ2Vn5+fJMnhcCgsLEyVlZXt5p48eVKJiYlKSkrSxo0bPccrKysV\n",
              "Hh7u2Y+IiOjw8Vfk5eUpMDDQaystLe3BrgAAQH/R5xf2JiYmqrq6WocPH9auXbu0adMmvfzyy91a\n",
              "Kzc3V/X19V5bcnJyD1cMAAD6A9tCzNixY1VTU6OWlhZJkmVZqqysVFhYmNe8gIAABQYGSpLcbrfu\n",
              "v/9+lZSUSJLCwsJ05swZz9yKiop2j7+ay+VSQECA1+Z0Onu6NQAA0A/YFmKCg4OVmJiobdu2SZJ2\n",
              "7twpt9utqKgor3k1NTVqa2uTJDU2Nmr37t1KSEiQdPk6muLiYtXW1sqyLG3atEnz58+3q2QAAGAQ\n",
              "Wz9Oys/PV35+vmJiYrR27VoVFBRIkjIzM1VcXCzpcriZNGmS4uLilJKSohkzZigjI0OSNG7cOK1e\n",
              "vVrTpk1TVFSUgoKClJ2dbWfJAADAEH52Lh4bG6v33nuv3fEtW7Z4/n7sscf02GOPdbpGVlaWsrKy\n",
              "bKkPAACYq88v7AUAAOgOQgwAADASIQYAABiJEAMAAIxEiAEAAEYixAAAACMRYgAAgJEIMQAAwEiE\n",
              "GAAAYCRCDAAAMBIhBgAAGIkQAwAAjESIAQAARiLEAAAAIxFiAACAkQgxAADASIQYAABgJEIMAAAw\n",
              "EiEGAAAYiRADAACMRIgBAABGIsQAAAAjEWIAAICRCDEAAMBIhBgAAGAkQgwAADASIQYAABiJEAMA\n",
              "AIxEiAEAAEYixAAAACMRYgAAgJEIMQAAwEiEGAAAYCRCDAAAMBIhBgAAGMnWEHPixAlNnTpVMTEx\n",
              "SkpK0pEjR9rN2bdvn5KTkzV+/HhNmDBBy5YtU1tbmySpoqJCTqdT8fHxnu3kyZN2lgwAAAxha4jJ\n",
              "zs7W4sWL9cknn2j58uVauHBhuzkjRozQjh07dPToUb3//vt699139eKLL3rG/f39VVZW5tkiIyPt\n",
              "LBkAABjCthBTV1enQ4cO6cEHH5QkzZkzR1VVVSovL/eal5CQoHHjxkmShgwZovj4eFVUVHTrOZua\n",
              "mtTQ0OC1tba2fqM+AABA/2RbiKmqqlJoaKj8/PwkSQ6HQ2FhYaqsrOz0MbW1tSosLNR9993nOXbh\n",
              "wgUlJSUpMTFRa9as6TKU5OXlKTAw0GsrLS3tuaYAAEC/0W8u7G1oaNAPfvADLVu2TLfddpskKTQ0\n",
              "VGfPntXBgwe1d+9elZSUaN26dZ2ukZubq/r6eq8tOTm5t1oAAAC9yLYQM3bsWNXU1KilpUWSZFmW\n",
              "KisrFRYW1m5uY2OjUlNTNWvWLOXk5HiOu1wuBQcHS5JGjhypRYsWqaSkpNPndLlcCggI8NqcTmcP\n",
              "dwYAAPoD20JMcHCwEhMTtW3bNknSzp075Xa7FRUV5TXv/PnzSk1NVWpqqp566imvsbq6OjU3N0u6\n",
              "fL1LUVGREhIS7CoZAAAYxNaPk/Lz85Wfn6+YmBitXbtWBQUFkqTMzEwVFxdLkjZs2KDS0lIVFRV5\n",
              "vkb97LPPSpL279+vhIQExcXFKTExUSEhIVqxYoWdJQMAAEP42bl4bGys3nvvvXbHt2zZ4vl7xYoV\n",
              "nQaT9PR0paen21YfAAAwV7+5sBcAAMAXhBgAAGAkQgwAADASIQYAABiJEAMAAIxEiAEAAEYixAAA\n",
              "ACMRYgAAgJEIMQAAwEiEGAAAYCRCDAAAMBIhBgAAGIkQAwAAjESIAQAARiLEAAAAIxFiAACAkQgx\n",
              "AADASIQYAABgJEIMAAAwEiEGAAAYiRADAACMRIgBAABGIsQAAAAjEWIAAICRCDEAAMBIhBgAAGAk\n",
              "QgwAADASIQYAABiJEAMAAIxEiAEAAEYixAAAACMRYgAAgJEIMQAAwEiEGAAAYCRCDAAAMJKtIebE\n",
              "iROaOnWqYmJilJSUpCNHjnQ4b+vWrYqOjlZkZKSysrLU3Nx8XWMAAODGZWuIyc7O1uLFi/XJJ59o\n",
              "+fLlWrhwYbs5p0+f1sqVK1VSUqLy8nKdO3dOmzdvvuYYAAC4sdkWYurq6nTo0CE9+OCDkqQ5c+ao\n",
              "qqpK5eXlXvMKCwuVlpamkJAQORwOLVmyRNu3b7/mWEeamprU0NDgtbW2ttrVIgAA6EN+di1cVVWl\n",
              "0NBQ+fldfgqHw6GwsDBVVlYqKirKM6+yslLh4eGe/YiICFVWVl5zrCN5eXlavXq117Fbb71VOTk5\n",
              "PdLTFa2trQotLVVycrKcTmePri1JOTlv9viavmhtbVWpjf35Kr2H1+uN/vryNRzIr9/Xe+vrc6Wn\n",
              "9bfX7oqeeg076m8gvYb99fWTvvlr2Flvdr5+4eHh+tu//dsu59gWYvpCbm5uu8Dicrnkcrl69Hka\n",
              "GhoUGBioPXv2KCAgoEfX7g/oz2wDub+B3JtEf6YbyP31195sCzFjx45VTU2NWlpa5OfnJ8uyVFlZ\n",
              "qbCwMK95YWFhOnnypGe/oqLCM6ersY7YEVgAAED/ZNs1McHBwUpMTNS2bdskSTt37pTb7fb6KEm6\n",
              "fK1McXGxamtrZVmWNm3apPnz519zDAAA3Nhs/XZSfn6+8vPzFRMTo7Vr16qgoECSlJmZqeLiYknS\n",
              "uHHjtHr1ak2bNk1RUVEKCgpSdnb2NccAAMCNzdZrYmJjY/Xee++1O75lyxav/aysLGVlZXW4Rldj\n",
              "fcXlcunpp58esB9d0Z/ZBnJ/A7k3if5MN5D766+9OSzLsvq6CAAAAF9x2wEAAGAkQgwAADASIQYA\n",
              "ABiJEAMAAIxEiOmG6707d38SERGh2NhYxcfHKz4+Xr/61a8kdd1Ld8d6w9KlSxURESGHw6GysrJv\n",
              "XHN/6rWz3jp7DU3qTZIuXbqk2bNnKyYmRnFxcZoxY4bnnmp1dXVKTU1VdHS0Jk6cqHfeecfzODvG\n",
              "eru/u+66S9/+9rc9r+G//Mu/GNffX/zFX2jy5MmKj4/XHXfcoQ8++EDSwDj3uupvoJx/klRQUCCH\n",
              "w6FXX31VkuHnnQWfffe737UKCgosy7KsV155xbrtttv6tqDrEB4ebn3wwQftjnfVS3fHesNvf/tb\n",
              "q6qqql1fdvTT27121ltnr+G1auxPvVmWZV28eNF67bXXrLa2NsuyLOtf//VfrTvvvNOyLMvKyMiw\n",
              "nn76acuyLKu0tNS65ZZbrK+++sq2sd7u784777R27drV4eNM6e+LL77w/F1UVGRNnjzZsqyBce5Z\n",
              "Vuf9DZTz7/Tp09Z3vvMdKyUlxfPvosnnHSHGR+fOnbP8/f2t5uZmy7Isq62tzfrWt75lnThxoo8r\n",
              "61pHJ2BXvXR3rLdd3Zcd/fRlr9cbYkzs7WoHDx60wsPDLcuyrGHDhlk1NTWesaSkJOs3v/mNbWO9\n",
              "4er+ugoxJvZXUFBgxcXFDbhz7+v9WdbAOP9aW1ut733ve9ahQ4e8/l00+bzj4yQfdXV37v7uoYce\n",
              "0qRJk/Twww/r008/7bKX7o71JTv66W+9fv01lOzpuzdt2LBBs2bN0meffabm5maFhIR4xq7cud6O\n",
              "sd5ypb8rnnzySU2aNEnz5s3TqVOnJMm4/h566CGNHTtWK1eu1EsvvTTgzr2v93f1cZPPv/Xr12va\n",
              "tGmaMmWK55jp5x0h5gbxzjvv6KOPPtLhw4c1evRoLViwoK9Lgo8G4mv405/+VOXl5crLy+vrUmzx\n",
              "9f5eeuklHTt2TB999JHuuOMO3XfffX1cYfe8+OKLqqqq0k9+8hMtX768r8vpcR31Z/r59/HHH2vn\n",
              "zp166qmn+rqUntXj7+0McP3hLc5v6ve//7118803G/U2aGdupI+TrnblNbQss97Ovto///M/W1Om\n",
              "TPG6BuGmm27q9C1oO8bs1FF/X+dyuaw//OEPlmWZ198VQ4YMsWprawfUuff1/q68RleYeP5t3LjR\n",
              "CgkJscLDw63w8HDL5XJZQUFB1saNG40+7wgx3XDnnXd6XYw1ZcqUvi3oGs6fP+/1H9J169ZZd9xx\n",
              "h2VZXffS3bHe9PX/0dvRT1/1enVvXb2G16qxP/a2bt06KzEx0fr888+9ji9YsMDrYsAxY8Z4Lga0\n",
              "Y6w3+2tubrZqa2s9+4WFhVZYWJhn34T+vvjiC+vs2bOe/V27dlm33HKL1dbWNiDOvc76G2jn35Xn\n",
              "vnJNjMnnHSGmG44dO2alpKRY0dHR1pQpU6yPPvqor0vq0smTJ634+Hhr0qRJ1sSJE620tDTr9OnT\n",
              "lmV13Ut3x3rD4sWLrVtuucVyOp1WcHCwFRkZaVs/vd1rR7119Rqa1JtlWVZVVZUlyRo3bpwVFxdn\n",
              "xcXFWcnJyZZlWVZtba01Y8YMKyoqyho/fry1b98+z+PsGOvN/s6fP29NmTLFmjhxojV58mTrz//8\n",
              "z62ysjKj+quoqLCSkpI8PXzve9/zBO2BcO511t9AOv+uuDrEmHzecQNIAABgJC7sBQAARiLEAAAA\n",
              "IxFiAACAkQgxAADASIQYAABgJEIMAAAwEiEGAAAYiRADAACMRIgBAABGIsQAAAAj/T+SdkeRfJ27\n",
              "SAAAAABJRU5ErkJggg==\n",
              "\">\n",
              "      </div>\n",
              "      <script type=\"text/javascript\">\n",
              "        (() => {\n",
              "          const chartElement = document.getElementById(\"chart-51e160f3-4780-47aa-bb62-03b1732a644a\");\n",
              "          async function getCodeForChartHandler(event) {\n",
              "            const chartCodeResponse =  await google.colab.kernel.invokeFunction(\n",
              "                'getCodeForChart', [\"chart-51e160f3-4780-47aa-bb62-03b1732a644a\"], {});\n",
              "            const responseJson = chartCodeResponse.data['application/json'];\n",
              "            await google.colab.notebook.addCell(responseJson.code, 'code');\n",
              "          }\n",
              "          chartElement.onclick = getCodeForChartHandler;\n",
              "        })();\n",
              "      </script>\n",
              "      <style>\n",
              "        .colab-quickchart-chart-with-code  {\n",
              "            display: block;\n",
              "            float: left;\n",
              "            border: 1px solid transparent;\n",
              "        }\n",
              "\n",
              "        .colab-quickchart-chart-with-code:hover {\n",
              "            cursor: pointer;\n",
              "            border: 1px solid #aaa;\n",
              "        }\n",
              "      </style>"
            ]
          },
          "metadata": {}
        },
        {
          "output_type": "display_data",
          "data": {
            "text/plain": [
              "from matplotlib import pyplot as plt\n",
              "_df_1['rating'].plot(kind='hist', bins=20, title='rating')\n",
              "plt.gca().spines[['top', 'right',]].set_visible(False)"
            ],
            "text/html": [
              "      <div class=\"colab-quickchart-chart-with-code\" id=\"chart-9609634e-ceba-44ac-8931-7af76f74aa68\">\n",
              "        <img style=\"width: 180px;\" src=\"data:image/png;base64,iVBORw0KGgoAAAANSUhEUgAAAiAAAAGrCAYAAAD5FiyaAAAAOXRFWHRTb2Z0d2FyZQBNYXRwbG90\n",
              "bGliIHZlcnNpb24zLjcuMSwgaHR0cHM6Ly9tYXRwbG90bGliLm9yZy/bCgiHAAAACXBIWXMAAA9h\n",
              "AAAPYQGoP6dpAAAcg0lEQVR4nO3de7DUdf348deeQ62pXAQsFeEgcfHGRckz5CVRRwtyhFDHUgNN\n",
              "wiyGHGpSJiv163BqSvJSFDmEo84Y3h3vlZFalni/NWIkCJqIIRy0dNXD5/eHw/mxcpE9ns972eXx\n",
              "mNkZ9rMfPp/Xe46Lz9n9nN1ClmVZAAAk1FDtAQCA7Y8AAQCSEyAAQHICBABIToAAAMkJEAAgOQEC\n",
              "ACQnQACA5AQIAJCcAAGSmjlzZhxzzDHVHgOosoKPYgfy0r9//zjvvPNi8uTJ1R4F2MZ4BQTokHfe\n",
              "eafaIwA1TIAAW2X06NExderU+PKXvxy77LJLTJs2LU488cTo06dPdO3aNYYMGRK//OUv2/cfM2ZM\n",
              "LFu2LKZOnRo777xz7LfffhERcf7558ehhx5adtxvf/vbcfLJJ0f37t2jb9++8atf/ars3PPmzYuB\n",
              "AwdG165dY8KECTF16tQYPXp0knUD+RAgwFabN29eTJw4MVatWhUXX3xxjB07Np599tlobW2NWbNm\n",
              "xfTp0+Oee+6JiIi77ror+vXrF7/4xS/izTffjGeffXazx73yyitj8uTJsXr16rjkkkti6tSpsXjx\n",
              "4oiIuP/+++Mb3/hGXH755bFmzZqYPHly/Pa3v02yXiA/AgTYascdd1yMHTs2GhoaYqeddorTTz89\n",
              "evToEQ0NDfHFL34xvvCFL8Tvf//7io97/PHHx5FHHhkNDQ1x/PHHR8+ePePRRx+NiIirrroqxo0b\n",
              "F2PGjInGxsYYO3ZsjB07trOXBiQmQICtttdee7X/uVQqxXe/+90YPHhwdO/ePXr06BF33XVXrFy5\n",
              "suLj7rHHHmX3d9ppp3jjjTciIuLll1+Opqamssf79+9f+fDANkWAAFutoeH//5Mxa9asuO222+K2\n",
              "226L1atXx5o1a2LMmDGx4S/Wbbh/R/Xp0ydefPHFsm0fvA/UHgECdEhra2sUi8XYddddY926dXH9\n",
              "9ddv9PbLbrvtFosWLfpI5/nqV78at956a9xzzz3R1tYWd999d9x5550f6ZhA9QkQoEO++93vRt++\n",
              "faOpqSn22GOPuPfee2P8+PFl+/zwhz+MW2+9NXr06BHDhg3r0HkOP/zwmD17dnzzm9+MHj16xJw5\n",
              "c+KUU06JHXbYoRNWAVSLDyIDas748ePjU5/6VMyZM6faowAd5BUQYJt34403xtq1a+Pdd9+N+fPn\n",
              "x+233x6nnHJKtccCPoIu1R4A4MPcdttt8fWvfz3eeeedaGpqit/+9rfxuc99rtpjAR+Bt2AAgOS8\n",
              "BQMAJCdAAIDkBAgAkJwAAQCS22YD5NJLL632CABATrbZAPFdDwBQv7bZAAEA6pcAAQCSEyAAQHIC\n",
              "BABIToAAAMkJEAAgOQECACQnQACA5AQIAJCcAAEAkhMgAEByAgQASK5LXgdetWpVHHXUUe33//e/\n",
              "/8ULL7wQK1eujJ49e+Z1WgCgBuQWIL169Yonnnii/f7PfvazuO+++8QHAJBfgHzQ3Llzo6WlZZOP\n",
              "lUqlKJVKZdva2tpSjAUAVEGSAHnwwQdj9erVceyxx27y8ZaWlrjgggvKto0aNSq3efqfe0cux136\n",
              "4y/mclwAqDdJLkKdO3duTJw4Mbp02XTvzJgxI1pbW8tuzc3NKUYDAKog91dA3nzzzbjuuuvi4Ycf\n",
              "3uw+xWIxisVi2bbGxsa8RwMAqiT3V0Dmz58fw4cPj7333jvvUwEANSL3AJk7d26cccYZeZ8GAKgh\n",
              "ub8F8+CDD+Z9CgCgxvgkVAAgOQECACQnQACA5AQIAJCcAAEAkhMgAEByAgQASE6AAADJCRAAIDkB\n",
              "AgAkJ0AAgOQECACQnAABAJITIABAcgIEAEhOgAAAyQkQACA5AQIAJCdAAIDkBAgAkJwAAQCSEyAA\n",
              "QHICBABIToAAAMkJEAAgOQECACQnQACA5AQIAJCcAAEAkhMgAEByAgQASE6AAADJCRAAIDkBAgAk\n",
              "J0AAgOQECACQnAABAJITIABAcgIEAEhOgAAAyQkQACC5XAOkVCrF1KlTY9CgQTF06NA49dRT8zwd\n",
              "AFAjuuR58HPPPTcKhUI8//zzUSgUYsWKFXmeDgCoEbkFyH//+9+YO3duvPTSS1EoFCIiYrfddsvr\n",
              "dABADcntLZh//etf0bNnz5g5c2Z85jOficMOOyzuvffeTe5bKpVi7dq1Zbe2tra8RgMAqiy3AHnv\n",
              "vffixRdfjH333TceeeSRuOyyy+Kkk06KV199daN9W1paonv37mW3hQsX5jUaAFBluQVIv379oqGh\n",
              "IU455ZSIiDjggANir732iqeffnqjfWfMmBGtra1lt+bm5rxGAwCqLLcA6d27dxx11FFxzz33RETE\n",
              "kiVLYsmSJbHPPvtstG+xWIxu3bqV3RobG/MaDQCoslx/C+bXv/51nHHGGXHOOedEQ0NDzJkzJ/r0\n",
              "6ZPnKQGAGpBrgAwYMCAWLFiQ5ykAgBrkk1ABgOQECACQnAABAJITIABAcgIEAEhOgAAAyQkQACA5\n",
              "AQIAJCdAAIDkBAgAkJwAAQCSEyAAQHICBABIToAAAMkJEAAgOQECACQnQACA5AQIAJCcAAEAkhMg\n",
              "AEByAgQASE6AAADJCRAAIDkBAgAkJ0AAgOQECACQnAABAJITIABAcgIEAEhOgAAAyQkQACA5AQIA\n",
              "JCdAAIDkBAgAkJwAAQCSEyAAQHICBABIToAAAMkJEAAgOQECACQnQACA5AQIAJBcrgHSv3//GDJk\n",
              "SIwYMSJGjBgR8+fPz/N0AECN6JL3CebPnx8jRozI+zQAQA3JPUC2RqlUilKpVLatra2tStMAAHnL\n",
              "/RqQiRMnxtChQ+OMM86I1157bZP7tLS0RPfu3ctuCxcuzHs0AKBKcg2Q+++/P5566ql47LHHonfv\n",
              "3jFp0qRN7jdjxoxobW0tuzU3N+c5GgBQRbm+BdOvX7+IiPjYxz4WZ599dgwePHiT+xWLxSgWi2Xb\n",
              "Ghsb8xwNAKii3F4B+e9//xtr1qxpv3/ttdfGAQcckNfpAIAaktsrIK+++mocf/zx0dbWFlmWxYAB\n",
              "A+Kqq67K63QAQA3JLUAGDBgQjz/+eF6HBwBqmE9CBQCSEyAAQHICBABIToAAAMkJEAAgOQECACQn\n",
              "QACA5AQIAJCcAAEAkhMgAEByAgQASE6AAADJCRAAIDkBAgAkJ0AAgOQECACQnAABAJITIABAcgIE\n",
              "AEhOgAAAyQkQACA5AQIAJCdAAIDkBAgAkJwAAQCSEyAAQHICBABIToAAAMkJEAAgOQECACQnQACA\n",
              "5AQIAJCcAAEAkhMgAEByAgQASK7iALnnnnvymAMA2I5UHCAXXnhhDBkyJC699NJYu3ZtHjMBAHWu\n",
              "4gD561//Gr/73e/imWeeicGDB8c3v/nN+Mc//pHHbABAnerQNSAHHHBAXHHFFXH33XfH7bffHsOG\n",
              "DYujjz46nn766c6eDwCoQx0KkD/+8Y8xbty4mDBhQnzrW9+KFStWxJlnnhlf+tKXOns+AKAOdan0\n",
              "L+yzzz7Ru3fvmDZtWkyYMCEaGxsjIuKEE06IuXPndvqAAED9qfgVkGuuuSYeeOCBOPHEE9vjY727\n",
              "7rprk39n3rx5USgU4pZbbunQkABAfak4QB599NF4/fXX2++vWrUqrrjiis3uv3Tp0rjiiiti1KhR\n",
              "HZsQAKg7FQfI7Nmzo2fPnu33e/XqFbNnz97kvuvWrYvJkyfH5ZdfHsVicbPHLJVKsXbt2rJbW1tb\n",
              "paMBADWi4gDJsmyjbZuLhVmzZsUhhxwSI0eO3OIxW1paonv37mW3hQsXVjoaAFAjKg6Q3XffPa67\n",
              "7rr2+/Pnz4/dd999o/2eeeaZuPHGG+O888770GPOmDEjWltby27Nzc2VjgYA1IiKfwvmkksuiXHj\n",
              "xsX3vve9iIjYcccd49Zbb91ovwceeCCWLl0agwYNioiIFStWxJQpU+KVV16Js846q2zfYrG40Vs0\n",
              "H7zAFQCoHxUHyN577x3/+Mc/YtGiRRERMWTIkE3GwllnnVUWGqNHj46zzz47xo8f3/FpAYC6UHGA\n",
              "REQUCoXo0aNHvPfee/Hyyy9HRES/fv06dTAAoH5VHCBXXnllTJs2LT72sY9FQ8P7l5AUCoVYuXLl\n",
              "Fv/en//85w4NCADUn4oD5P/+7//i4YcfjiFDhuQxDwCwHaj4t2B69+4tPgCAj6TiABk/fnxccskl\n",
              "sXLlyrIPDgMA2FoVvwXz/e9/PyIipk+fHoVCIbIsi0Kh4JNLAYCtVnGArFu3Lo85AIDtSMVvwUS8\n",
              "/4V0V199dURErFmzJl555ZVOHQoAqG8d+jK6r33ta3H++edHxPvfhnvyySd39lwAQB2rOEB+85vf\n",
              "xN///vfo1q1bRER8+tOfjtdee63TBwMA6lfFAVIsFuMTn/hE2bYuXTr0gaoAwHaq4gDZdddd4/nn\n",
              "n49CoRAR738yqo9hBwAq0aFvw/3KV74Szz33XPTt2ze6desWt99+ex6zAQB1quIAGThwYDz00EOx\n",
              "aNGiyLJss9+GCwCwORUHyLJlyyIiYqeddoqI8G24AEDFKg6QkSNHtn8C6ttvvx3/+9//olevXh/6\n",
              "bbgAAOtVHCAf/JXbm266KZ588slOGwgAqH8d+iTUDU2YMCHuuOOOzpgFANhOVPwKyIbffNvW1hYP\n",
              "PfSQb8MFACpScYD06NGj/RqQxsbGGDRoUFx22WV5zAYA1CnfhgsAJPeRrwEBAKhUxa+ANDQ0tH8M\n",
              "+4ayLItCoRBtbW2dMhgAUL8qDpALL7ww3nrrrTjrrLMiIuLXv/51fOITn4izzz67s2cDAOpUxQFy\n",
              "8803x6OPPtp+/6KLLoqRI0fG97///U4dDACoXxVfA/LGG2+UferpypUr44033ujUoQCA+lbxKyDf\n",
              "+c53Yvjw4TF27NiIiLj77rvj/PPP7+y5AIA6VnGAnHnmmXHIIYfEggULIiJi+vTpsd9++3X6YABA\n",
              "/ao4QCIievXqFUOHDo3Ro0fHe++9F++88058/OMf7+zZAIA6VfE1IDfccEOMGjUqTj/99IiIePbZ\n",
              "Z2P8+PGdPRcAUMcqDpCWlpZ47LHHokePHhERMXz48HjxxRc7ey4AoI5VHCCNjY3Rq1evsm3efgEA\n",
              "KlFxgHTt2jVeffXV9k9Dvffee6Nnz56dPhgAUL8qvgj1Jz/5SYwZMyZeeOGFOPTQQ2PJkiVxxx13\n",
              "5DEbAFCnKgqQdevWRVtbWyxYsCAefPDByLIsDj744PbrQQAAtkZFAdLQ0BBTpkyJJ598MsaMGZPX\n",
              "TABAnav4GpBBgwbF4sWL85gFANhOVHwNyOuvvx4jRoyIgw8+OHbeeef27TfddFOnDgYA1K+tDpAp\n",
              "U6bEb37zm5g0aVIcd9xxscsuu+Q5FwBQx7Y6QB555JGIiJg0aVIceOCB8dhjj+U2FABQ3yq+BiQi\n",
              "Isuyzp4DANiObPUrIG+99VY8/fTTkWVZvP322+1/Xm/YsGG5DAgA1J+KAuS4445rv7/hnwuFQrzw\n",
              "wgudOxkAULe2OkCWLl1a8cGPOeaYWLFiRTQ0NETXrl3jsssuiwMOOKDi4wAA9aXiX8OtxHXXXdf+\n",
              "Kak333xznHbaafHkk0/meUoAoAbkGiAbfkR7a2tr+xfYfVCpVIpSqVS2ra2tLc/RAIAqyjVAIiIm\n",
              "TpwYCxYsiIiIO++8c5P7tLS0xAUXXFC2bdSoUXmPBgBUSYd+DbcSV111VSxfvjwuuuiiOOeccza5\n",
              "z4wZM6K1tbXs1tzcnPdoAECV5B4g602aNCkWLFgQq1at2uixYrEY3bp1K7s1NjamGg0ASCy3AFmz\n",
              "Zk38+9//br9/yy23RK9evaJnz555nRIAqBG5XQPS2toaJ554Yrz11lvR0NAQu+66a9x+++2bvRAV\n",
              "ANh+5BYgTU1NsXDhwrwODwDUsGTXgAAArCdAAIDkBAgAkJwAAQCSEyAAQHICBABIToAAAMkJEAAg\n",
              "OQECACQnQACA5AQIAJCcAAEAkhMgAEByAgQASE6AAADJCRAAIDkBAgAkJ0AAgOQECACQnAABAJIT\n",
              "IABAcgIEAEhOgAAAyQkQACA5AQIAJCdAAIDkBAgAkJwAAQCSEyAAQHICBABIToAAAMkJEAAgOQEC\n",
              "ACQnQACA5AQIAJCcAAEAkhMgAEByAgQASE6AAADJCRAAIDkBAgAkl1uAvP322zF+/PgYPHhwDB8+\n",
              "PI4++uhYvHhxXqcDAGpIrq+ATJkyJRYtWhRPPvlkjBs3LiZPnpzn6QCAGpFbgOywww4xduzYKBQK\n",
              "ERExatSoWLp0aV6nAwBqSJdUJ7r00ktj3Lhxm3ysVCpFqVQq29bW1pZiLACgCpJchDpz5sxYvHhx\n",
              "tLS0bPLxlpaW6N69e9lt4cKFKUYDAKog9wD52c9+FjfddFPcddddseOOO25ynxkzZkRra2vZrbm5\n",
              "Oe/RAIAqyfUtmFmzZsW1114bf/zjH6NHjx6b3a9YLEaxWCzb1tjYmOdoAEAV5RYgL730UnznO9+J\n",
              "AQMGxBFHHBER74fGQw89lNcpAYAakVuA7LnnnpFlWV6HBwBqmE9CBQCSEyAAQHICBABIToAAAMkJ\n",
              "EAAgOQECACQnQACA5AQIAJCcAAEAkhMgAEByAgQASE6AAADJCRAAIDkBAgAkJ0AAgOQECACQnAAB\n",
              "AJITIABAcgIEAEhOgAAAyQkQACA5AQIAJCdAAIDkBAgAkJwAAQCSEyAAQHICBABIToAAAMkJEAAg\n",
              "OQECACQnQACA5AQIAJCcAAEAkhMgAEByAgQASE6AAADJCRAAIDkBAgAkJ0AAgOQECACQnAABAJIT\n",
              "IABAcrkGyLRp06J///5RKBTiiSeeyPNUAEANyTVATjjhhPjLX/4STU1NeZ4GAKgxXfI8+Oc+97mt\n",
              "2q9UKkWpVCrb1tbWlsdIAMA2INcA2VotLS1xwQUXlG0bNWpUlaYBgG1D/3PvyO3YS3/8xdyOvTW2\n",
              "iYtQZ8yYEa2trWW35ubmao8FAORkm3gFpFgsRrFYLNvW2NhYpWkAgLxtE6+AAADbl1wD5Mwzz4w9\n",
              "99wzXnrppfj85z8fAwcOzPN0AECNyPUtmDlz5uR5eACgRnkLBgBIToAAAMkJEAAgOQECACQnQACA\n",
              "5AQIAJCcAAEAkhMgAEByAgQASE6AAADJCRAAIDkBAgAkJ0AAgOQECACQnAABAJITIABAcgIEAEhO\n",
              "gAAAyQkQACA5AQIAJCdAAIDkBAgAkJwAAQCSEyAAQHICBABIToAAAMkJEAAgOQECACQnQACA5AQI\n",
              "AJCcAAEAkhMgAEByAgQASE6AAADJCRAAIDkBAgAkJ0AAgOQECACQnAABAJITIABAcgIEAEgu1wD5\n",
              "5z//GQcffHAMHjw4DjrooHj22WfzPB0AUCNyDZAzzzwzpkyZEs8//3ycc845cdppp+V5OgCgRuQW\n",
              "ICtXroxHHnkkTj311IiIOP7442P58uWxePHijfYtlUqxdu3asltbW1teowEAVdYlrwMvX748dt99\n",
              "9+jS5f1TFAqF6NevXyxbtiwGDhxYtm9LS0tccMEFZdv23nvvmD59eqfP1dbWFrsvXBjNzc3R2NjY\n",
              "qceePv3eTj1eR7S1tcXCnNZXbfW8tgjrq3X1vL56XlvEtr2+CZ1wjM2tL6//ZzU1NcW3v/3tD92v\n",
              "kGVZlscAjz76aJx88smxaNGi9m3Nzc3x4x//OI488siyfUulUpRKpbJtxWIxisVip8+1du3a6N69\n",
              "e7S2tka3bt06/fjVVs/rq+e1RVhfravn9dXz2iKsr1pyewWkb9++8corr8R7770XXbp0iSzLYtmy\n",
              "ZdGvX7+N9s0rNgCAbVNu14B88pOfjAMPPDCuueaaiIi48cYbY88999zo7RcAYPuT2ysgERFz5syJ\n",
              "0047LWbOnBndunWLefPm5Xk6AKBG5BogQ4YMib/97W95nqJixWIxfvSjH9XtWz71vL56XluE9dW6\n",
              "el5fPa8twvqqJbeLUAEANsdHsQMAyQkQACA5AQIAJCdAAIDktqsAqcVv5+3fv38MGTIkRowYESNG\n",
              "jIj58+dHxJbX0tHHUpg2bVr0798/CoVCPPHEEx955m1trZtb3+Z+jrW0vrfffjvGjx8fgwcPjuHD\n",
              "h8fRRx/d/t1OK1eujC984QsxaNCg2H///eP+++9v/3t5PJZ6faNHj4699tqr/ef385//vObWFxFx\n",
              "zDHHxLBhw2LEiBFx2GGHxeOPPx4R9fH829za6uG5t6F58+ZFoVCIW265JSJq/LmXbUeOOOKIbN68\n",
              "eVmWZdn111+ffeYzn6nuQFuhqakpe/zxxzfavqW1dPSxFO67775s+fLlG60rj/VUY62bW9/mfo4f\n",
              "Nue2tL633noru+OOO7J169ZlWZZll19+eXb44YdnWZZlp59+evajH/0oy7IsW7hwYdanT5/snXfe\n",
              "ye2x1Os7/PDDs5tvvnmTf69W1pdlWbZ69er2P990003ZsGHDsiyrj+ff5tZWD8+99ZYsWZJ99rOf\n",
              "zUaNGtX+32MtP/e2mwB59dVXs65du2bvvvtulmVZtm7duuxTn/pU9s9//rPKk23Zpp48W1pLRx9L\n",
              "bcN15bGeaq91awOkVteXZVn28MMPZ01NTVmWZdlOO+2UvfLKK+2PHXTQQdkf/vCH3B5LYcP1bSlA\n",
              "anV98+bNy4YPH16Xz7/1a8uy+nnutbW1ZUcddVT2yCOPlP33WMvPve3mLZgtfTvvtm7ixIkxdOjQ\n",
              "OOOMM+K1117b4lo6+lg15bGebXGtH/w5RuSz9lQuvfTSGDduXKxatSrefffd2G233dof69+/fyxb\n",
              "tiyXx1JZv771zj333Bg6dGicdNJJ8cILL0RE1OT6Jk6cGH379o0f/OAHcfXVV9fV8++Da9twe60/\n",
              "92bNmhWHHHJIjBw5sn1brT/3tpsAqVX3339/PPXUU/HYY49F7969Y9KkSdUeiQ6ot5/jzJkzY/Hi\n",
              "xdHS0lLtUXLxwfVdffXV8dxzz8VTTz0Vhx12WBx77LFVnrDjrrrqqli+fHlcdNFFcc4551R7nE61\n",
              "qbXVw3PvmWeeiRtvvDHOO++8ao/SuTr9NZVtVLVfEuwM//73v7Odd9655l463JTt7S2YDa3/OWZZ\n",
              "7b0MnGVZ9tOf/jQbOXJk2XvuO+6442Zfss3jsTxtan0fVCwWs//85z9ZltXe+ja0ww47ZCtWrKi7\n",
              "59/6ta3/Ga1Xq8+92bNnZ7vttlvW1NSUNTU1ZcViMdt1112z2bNn1/Rzb7sJkCx7/33cDS8cGjly\n",
              "ZHUH+hBvvvlm2T+CF198cXbYYYdlWbbltXT0sZQ++D/oPNZTzbVuuL4t/Rw/bM5tbX0XX3xxduCB\n",
              "B2avv/562fZJkyaVXbS2xx57tF+0lsdjKdf37rvvZitWrGi/f8MNN2T9+vVrv18r61u9enX28ssv\n",
              "t9+/+eabsz59+mTr1q2r+eff5tZWT8+9DW14DUgtP/e2qwB57rnnslGjRmWDBg3KRo4cmT311FPV\n",
              "HmmL/vWvf2UjRozIhg4dmu2///7Zcccdly1ZsiTLsi2vpaOPpTBlypSsT58+WWNjY/bJT34y+/Sn\n",
              "P53beqqx1k2tb0s/x1pa3/Lly7OIyAYMGJANHz48Gz58eNbc3JxlWZatWLEiO/roo7OBAwdm++67\n",
              "b/anP/2p/e/l8VjK9b355pvZyJEjs/333z8bNmxYduSRR2ZPPPFEza1v6dKl2UEHHdS+jqOOOqo9\n",
              "kmv9+be5tdXLc++DNgyQWn7u+TI6ACA5F6ECAMkJEAAgOQECACQnQACA5AQIAJCcAAEAkhMgAEBy\n",
              "AgQASE6AAADJCRAAILn/B10H9uyT+8EdAAAAAElFTkSuQmCC\n",
              "\">\n",
              "      </div>\n",
              "      <script type=\"text/javascript\">\n",
              "        (() => {\n",
              "          const chartElement = document.getElementById(\"chart-9609634e-ceba-44ac-8931-7af76f74aa68\");\n",
              "          async function getCodeForChartHandler(event) {\n",
              "            const chartCodeResponse =  await google.colab.kernel.invokeFunction(\n",
              "                'getCodeForChart', [\"chart-9609634e-ceba-44ac-8931-7af76f74aa68\"], {});\n",
              "            const responseJson = chartCodeResponse.data['application/json'];\n",
              "            await google.colab.notebook.addCell(responseJson.code, 'code');\n",
              "          }\n",
              "          chartElement.onclick = getCodeForChartHandler;\n",
              "        })();\n",
              "      </script>\n",
              "      <style>\n",
              "        .colab-quickchart-chart-with-code  {\n",
              "            display: block;\n",
              "            float: left;\n",
              "            border: 1px solid transparent;\n",
              "        }\n",
              "\n",
              "        .colab-quickchart-chart-with-code:hover {\n",
              "            cursor: pointer;\n",
              "            border: 1px solid #aaa;\n",
              "        }\n",
              "      </style>"
            ]
          },
          "metadata": {}
        },
        {
          "output_type": "display_data",
          "data": {
            "text/plain": [
              "<google.colab._quickchart_helpers.SectionTitle at 0x7b405b1ecd60>"
            ],
            "text/html": [
              "<h4 class=\"colab-quickchart-section-title\">2-d distributions</h4>\n",
              "<style>\n",
              "  .colab-quickchart-section-title {\n",
              "      clear: both;\n",
              "  }\n",
              "</style>"
            ]
          },
          "metadata": {}
        },
        {
          "output_type": "display_data",
          "data": {
            "text/plain": [
              "from matplotlib import pyplot as plt\n",
              "_df_2.plot(kind='scatter', x='Unnamed: 0', y='rating', s=32, alpha=.8)\n",
              "plt.gca().spines[['top', 'right',]].set_visible(False)"
            ],
            "text/html": [
              "      <div class=\"colab-quickchart-chart-with-code\" id=\"chart-45e69c7e-9dd9-4f5a-88fc-65863e3a6802\">\n",
              "        <img style=\"width: 180px;\" src=\"data:image/png;base64,iVBORw0KGgoAAAANSUhEUgAAAjwAAAGkCAYAAAA10v8pAAAAOXRFWHRTb2Z0d2FyZQBNYXRwbG90\n",
              "bGliIHZlcnNpb24zLjcuMSwgaHR0cHM6Ly9tYXRwbG90bGliLm9yZy/bCgiHAAAACXBIWXMAAA9h\n",
              "AAAPYQGoP6dpAAAnz0lEQVR4nO3df3RU9Z3/8ddkJpmoMEETkACZDDE/ukqSAUwMdFlgPf6sZ8UF\n",
              "vqirEBcP0HNaVmO7wDnFnm5dU89iNEe3a9tzGo/kK0UNUnetbj0rFdm1Da6kLOwBEiRMhIRAgAQU\n",
              "hmTy+f5hma+jUUmYO5N8eD7OuUfmfubmvt/3zvW8zp3PzLiMMUYAAAAWS0l2AQAAAE4j8AAAAOsR\n",
              "eAAAgPUIPAAAwHoEHgAAYD0CDwAAsB6BBwAAWI/AAwAArEfg+ZPa2tpklwAAABxC4PmTgwcPJrsE\n",
              "AADgEAIPAACwHoEHAABYj8ADAACsR+ABAADWI/AAAADrEXgAAID1CDwAAMB6BB4AAGA9Ag8AALAe\n",
              "gQcAAFiPwAMAABx1tjeiY6fDOtsbSVoNnqTtGQAAWO3oqbDqf9+qN3cd0ZneiC5Ldeu2KeN134xc\n",
              "ZY3yJrQW7vAAAIC4O3oqrO9u2KH/+4eQPg73yZPi0sfhPtX/4aC+8+IOHTsdTmg9BB4AABB39b9v\n",
              "VUvnKY0d5dWVV6TpCq9HV16RprGjvGrpPKX69w4mtB4CDwAAiKuzvRG9ueuI0j1uedyxUcPjTpHX\n",
              "49YbuzsSOqcnIYGnrq5OLpdLmzdvliR1dnbq1ltvVUFBgaZMmaKtW7dGn+vEGAAASJzT4T6d6Y0o\n",
              "zTNwzPB6UnTmXESnw30Jq8nxwNPa2qpf/OIXqqioiK5bvXq1Kioq1NzcrLq6Ot17773q7e11bAwA\n",
              "ACTOKK9Hl6W6da6vf8DxcF+/Lktza5Q3cZ+dcjTw9Pf368EHH9Qzzzwjr/f/z8Z+6aWXtGLFCklS\n",
              "WVmZJkyYoHfeecexMQAAkDjpqW7dOuVqne2LqC8SG3r6Iv0K90V023XjlZ7qTlhNjkarmpoaffOb\n",
              "39T06dOj67q6utTb26vx48dH1wUCAYVCIUfGBhIOhxUOx84Oj0SS990AAADY5v4ZAf3hwAm1dJ6S\n",
              "1+OW15OicN+nYadg3GjdNyM3ofU4dodn165damho0A9+8AOndjFk1dXVysjIiFkaGxuTXRYAANbI\n",
              "GuXVs/dO1X035GpUukd9/Uaj0j2674ZcPXPv1IR/D49jd3jeffddtba2qqCgQJLU0dGhZcuW6Uc/\n",
              "+pE8Ho86Ojqid2RaW1vl9/uVmZkZ97GBrFmzRlVVVTHr1q5d68hxAADgUpU1yquHbirUijnX6HS4\n",
              "T6O8noS+jfVZjt3h+fa3v6329na1traqtbVVFRUV+vnPf65vf/vbWrhwoZ577jlJ0vbt23Xo0CHN\n",
              "nj1bkhwZ+zyv1yufzxezuN3JOQEAANguPdWtrFHepIUdKUk/LfHEE0/o/vvvV0FBgdLS0lRfX6/U\n",
              "1FTHxgAAwKXNZYwxyS5iOKiqqlJNTU2yywAAAA7gm5YBAID1CDwAAMB6BB4AAGA9Ag8AALAegQcA\n",
              "AFiPwAMAAKxH4AEAANYj8AAAAOsReAAAgPUIPAAAwHoEHgAAYD0CDwAAsB6BBwAAWI/AAwAArEfg\n",
              "AQAA1iPwAAAA6xF4AACA9Qg8AADAegQeAABgPQIPAACwHoEHAABYj8ADAACsR+ABAADWI/AAAADr\n",
              "EXgAAID1CDwAAMB6BB4AAGA9Ag8AALAegQcAAFiPwAMAAKxH4AEAANYj8AAAAOsReAAAgPUcDTw3\n",
              "33yzSkpKFAwGNWvWLO3YsUOSFAgEVFRUpGAwqGAwqI0bN0a3aW5u1syZM1VYWKiysjLt3r37oscA\n",
              "AMAlzjjoxIkT0X9v2rTJlJSUGGOMyc3NNTt27Bhwm7lz55q6ujpjjDEvv/yyuf766y967EI8/PDD\n",
              "g3o+AAAYORy9wzNmzJjov7u7u+Vyub7y+Z2dnXr//fd13333SZLmz5+vtrY2tbS0DHlsIOFwWD09\n",
              "PTFLJBKJQ8cAAGA4cnwOz+LFi5WTk6O1a9dq/fr1MeuLi4u1dOlSHT16VJLU1tam7OxseTweSZLL\n",
              "5ZLf71coFBry2ECqq6uVkZERszQ2Njp5GAAAQBI5HnheeOEFtbW16bHHHtOqVaskSVu3btXOnTv1\n",
              "wQcfKCsrS0uWLHG6jBhr1qxRd3d3zFJeXp7QGgAAQOJ4ErWjJUuWaMWKFerq6pLf75ckpaam6qGH\n",
              "HlJhYaEkKScnR+3t7err65PH45ExRqFQSH6/Xz6fb0hjA/F6vfJ6vTHr3G63swcAAAAkjWN3eE6e\n",
              "PKnDhw9HH2/evFmZmZlKT0/XyZMno+s3bNigqVOnSpLGjRunadOmqb6+XpLU0NCgSZMmKT8/f8hj\n",
              "AAAALmOMceIPHzx4UAsXLtSZM2eUkpKisWPHat26dfL5fJo/f74ikYiMMcrLy1Ntba0CgYAkae/e\n",
              "vaqsrFRXV5d8Pp/q6upUXFx8UWMXoqqqSjU1NXE/DgAAIPkcCzwjDYEHAAB78U3LAADAegQeAABg\n",
              "PQIPAACwHoEHAABYj8ADAACsR+ABAADWI/AAAADrEXgAAID1CDwAAMB6BB4AAGA9Ag8AALAegQcA\n",
              "AFiPwAMAAKxH4AEAANYj8AAAAOsReAAAgPUIPAAAwHoEHgAAYD0CDwAAsB6BBwAAWI/AAwAArEfg\n",
              "AQAA1iPwAAAA6xF4AACA9Qg8AADAegQeAABgPQIPAACwHoEHAABYj8ADAACsR+ABAADWI/AAAADr\n",
              "EXgAAID1HA08N998s0pKShQMBjVr1izt2LFDktTc3KyZM2eqsLBQZWVl2r17d3QbJ8YAAMAlzjjo\n",
              "xIkT0X9v2rTJlJSUGGOMmTt3rqmrqzPGGPPyyy+b66+/Pvo8J8YuxMMPPzyo5wMAgJHDZYwxiQhW\n",
              "zz//vJ5++mn99re/VX5+vo4fPy6PxyNjjLKzs7Vt2zb5fL64j+Xn519QfVVVVaqpqXH4KAAAgGTw\n",
              "OL2DxYsXa8uWLZKk3/zmN2pra1N2drY8nk937XK55Pf7FQqFlJGREfexgQJPOBxWOByOWReJRBw7\n",
              "BgAAILkcn7T8wgsvqK2tTY899phWrVrl9O4uSHV1tTIyMmKWxsbGZJcFAAAckrBPaS1ZskRbtmzR\n",
              "pEmT1N7err6+PkmSMUahUEh+v185OTlxHxvImjVr1N3dHbOUl5cn4CgAAIBkcCzwnDx5UocPH44+\n",
              "3rx5szIzMzVu3DhNmzZN9fX1kqSGhgZNmjRJ+fn5jowNxOv1yufzxSxut9upQwEAAJLMsUnLBw8e\n",
              "1MKFC3XmzBmlpKRo7NixWrdunYLBoPbu3avKykp1dXXJ5/Oprq5OxcXFkuTI2IVg0jIAAPZK2Ke0\n",
              "hjsCDwAA9uKblgEAgPUIPAAAwHoEHgAAYD0CDwAAsB6BBwAAWI/AAwAArEfgAQAA1iPwAAAA6xF4\n",
              "AACA9Qg8AADAegQeAABgPQIPAACwHoEHAABYj8ADAACsR+ABAADWI/AAAADrEXgAAID1CDwAAMB6\n",
              "BB4AAGA9Ag8AALAegQcAAFiPwAMAAKxH4AEAANYj8AAAAOsReAAAgPUIPAAAwHoEHgAAYD0CDwAA\n",
              "sB6BBwAAWI/AAwAArEfgAQAA1iPwAAAA6xF4AACA9RwLPGfPntW8efNUWFio0tJS3XTTTWppaZEk\n",
              "zZkzR5MnT1YwGFQwGNRTTz0V3a6zs1O33nqrCgoKNGXKFG3duvWixwAAwKXN4+QfX7ZsmW677Ta5\n",
              "XC49++yzevDBB/W73/1OkvTUU09p3rx5X9hm9erVqqio0Jtvvqnt27frrrvu0oEDB5SamjrkMQAA\n",
              "cGlz7A5Penq6br/9drlcLklSRUWFWltbv3a7l156SStWrJAklZWVacKECXrnnXcuauzzwuGwenp6\n",
              "YpZIJHJR/QIAgOErYXN4amtrdeedd0Yfr169WsXFxVq0aJE+/PBDSVJXV5d6e3s1fvz46PMCgYBC\n",
              "odCQxwZSXV2tjIyMmKWxsTHeLQMAgGEiIYHn8ccfV0tLi6qrqyVJ69ev1549e7Rz507NmjVLd9xx\n",
              "RyLKiFqzZo26u7tjlvLy8oTWAAAAEsfxwLNu3Tpt2rRJb7zxhi6//HJJUk5OjiTJ5XLpO9/5jj78\n",
              "8EN1dXUpMzNTHo9HHR0d0e1bW1vl9/uHPDYQr9crn88Xs7jdbifaBwAAw4CjgaempkYbNmzQW2+9\n",
              "pTFjxkiS+vr6dOTIkehzGhoadPXVVyszM1OStHDhQj333HOSpO3bt+vQoUOaPXv2RY0BAIBLm2Of\n",
              "0vroo4/0yCOPKC8vT3PnzpX06Z2Vt99+W9/61rcUDoeVkpKirKwsvfbaa9HtnnjiCd1///0qKChQ\n",
              "Wlqa6uvro5+0GuoYAAC4tLmMMSbZRQwHVVVVqqmpSXYZAADAAXzTMgAAsB6BBwAAWI/AAwAArEfg\n",
              "AQAA1iPwAAAA6xF4AACA9Qg8AADAegQeAABgPQIPAACwHoEHAABYj8ADAACsR+ABAADWI/AAAADr\n",
              "EXgAAID1CDwAAMB6BB4AAGA9Ag8AALAegQcAAFiPwAMAAKxH4AEAANbzDHaDrVu3fmHdmDFjVFhY\n",
              "qPT09LgUBQAAEE+DDjwrV67U//zP/ygvL08ul0v79+9XUVGRuru7VV9fr7lz5zpRJwAAwJAN+i2t\n",
              "6dOn6z/+4z/U3Nysffv26e2331ZFRYV+/etf6/vf/74TNQIAAFyUQQee999/X3PmzIk+nj17tv77\n",
              "v/9b119/vXp7e+NZGwAAQFwMOvCkpKTEzOPZunWrUlI+/TMulyt+lQEAAMTJoOfw/PM//7Puvvtu\n",
              "paamSpJ6e3v1q1/9SqdPn9bDDz8c9wIBAAAu1qADz8yZM7V//37t2bNHklRUVKS0tDRJ0pIlS+Jb\n",
              "HQAAQBwMOvBIktvtVmZmpvr6+tTR0SFJ8vv9cS0MAAAgXgYdeJ5//nmtXLlSqampMXN3Ojs7414c\n",
              "AABAPAw68Pz4xz/W9u3bVVRU5EQ9AAAAcTfoT2llZWURdgAAwIgy6MAzb948Pf300+rs7FRPT090\n",
              "AQAAGK5cxhgzmA3Oz9uRPp27Y4yRy+VSJBKJe3GJVFVVpZqammSXAQAAHDDoOzz9/f3RJRKJRP/7\n",
              "eWfPntW8efNUWFio0tJS3XTTTWppaZEkdXZ26tZbb1VBQYGmTJkS80WGTowBAIBL26ADz2AsW7ZM\n",
              "e/fu1R//+EfdeeedevDBByVJq1evVkVFhZqbm1VXV6d77703+rMUTowBAIBL2wUHntmzZ0uSrrzy\n",
              "Sl111VXR5fzjz0tPT9ftt98e/bmJiooKtba2SpJeeuklrVixQpJUVlamCRMm6J133nFs7PPC4XDM\n",
              "/KOenp4R/5YcAAD4chf8sfRf/epXkqSmpqYh7ai2tlZ33nmnurq61Nvbq/Hjx0fHAoGAQqGQI2MD\n",
              "qa6u1o9+9KOYdRUVFUPqCwAADH8XfIcnOztbkrR+/Xrl5ubGLOvXr//KbR9//HG1tLSourr64qqN\n",
              "kzVr1qi7uztmKS8vT3ZZAADAIYOew7Np06YLWnfeunXrtGnTJr3xxhu6/PLLlZmZKY/HE/1JCklq\n",
              "bW2V3+93ZGwgXq9XPp8vZnG73YM6DgAAYOS44MDz7//+73r44Yd16NAhVVVVRZelS5d+6TY1NTXa\n",
              "sGGD3nrrLY0ZMya6fuHChXruueckSdu3b9ehQ4eic4ScGAMAAJe2C57Dk56erjFjxiglJUUZGRnR\n",
              "9Tk5OVq7du0Xnv/RRx/pkUceUV5enubOnSvp0zsrf/jDH/TEE0/o/vvvV0FBgdLS0lRfX6/U1FRJ\n",
              "cmQMAABc2gb9xYN//OMfVVpa6lQ9ScMXDwIAYK9B/3hoaWmpGhsb1dTUpLNnz0bXr1y5Mq6FAQAA\n",
              "xMugA8/jjz+uV155RaFQSLNnz9Zbb72lG2+8kcADAACGrUF/SuvFF1/Uf/3Xf2nSpElqaGjQ9u3b\n",
              "Y35fCwAAYLgZdFJJT09Xenq6+vv7ZYxRUVGR9u/f70RtAAAAcTHot7Quu+wy9fb2KhgM6nvf+54m\n",
              "TZrEzzIAAIBhbdB3eP7lX/5F586d05NPPqmenh7953/+59d+0zIAAEAyDeoOTyQS0fr16/XEE0/o\n",
              "iiuu0C9+8Qun6gIAAIibQd3hcbvd2rJli1O1AAAAOGLQb2ndfvvt+sd//EcdPnxYPT090QUAAGC4\n",
              "GvQ3LX/2I+gul0vGGLlcrhE/cZlvWgYAwF6D/pRWf3+/E3UAAAA4hm8MBAAA1iPwAAAA6xF4AACA\n",
              "9Qg8AADAegQeAABgPQIPAACwHoEHAABYj8ADAACsR+ABAADWI/AAAADrEXgAAID1CDwAAMB6BB4A\n",
              "AGA9Ag8AALAegQcAAFiPwAMAAKxH4AEAANYj8AAAAOsReAAAgPUIPAAAwHoEHgAAYD1HA8/KlSsV\n",
              "CATkcrnU1NQUXR8IBFRUVKRgMKhgMKiNGzdGx5qbmzVz5kwVFhaqrKxMu3fvvugxAABwaXM08CxY\n",
              "sEDbtm1Tbm7uF8Y2btyopqYmNTU1adGiRdH1y5cv17Jly7Rv3z6tWrVKlZWVFz0GAAAubS5jjHF6\n",
              "J4FAQJs3b1YwGBzw8XmdnZ3Kz8/X8ePH5fF4ZIxRdna2tm3bJp/PN6Sx/Pz8L9QTDocVDodj1q1d\n",
              "u1a1tbVOHQIAAJBESZvDs3jxYhUXF2vp0qU6evSoJKmtrU3Z2dnyeDySJJfLJb/fr1AoNOSxgVRX\n",
              "VysjIyNmaWxsTEDXAAAgGZISeLZu3aqdO3fqgw8+UFZWlpYsWZLQ/a9Zs0bd3d0xS3l5eUJrAAAA\n",
              "ieNJxk79fr8kKTU1VQ899JAKCwslSTk5OWpvb1dfX1/0ralQKCS/3y+fzzeksYF4vV55vd6YdW63\n",
              "29mmAQBA0iT8Ds/HH3+skydPRh9v2LBBU6dOlSSNGzdO06ZNU319vSSpoaFBkyZNUn5+/pDHAAAA\n",
              "HJ20vHz5cr3++uvq6OhQZmamRo8erd/+9reaP3++IpGIjDHKy8tTbW2tAoGAJGnv3r2qrKxUV1eX\n",
              "fD6f6urqVFxcfFFjF6Kqqko1NTVxPwYAACD5EvIprZGAwAMAgL34pmUAAGA9Ag8AALAegQcAAFiP\n",
              "wAMAAKxH4AEAANYj8AAAAOsReAAAgPUIPAAAwHoEHgAAYD0CDwAAsB6BBwAAWI/AAwAArEfgAQAA\n",
              "1iPwAAAA6xF4AACA9Qg8AADAegQeAABgPQIPAACwHoEHAABYj8ADAACsR+ABAADWI/AAAADrEXgA\n",
              "AID1CDwAAMB6BB4AAGA9Ag8AALAegQcAAFiPwAMAAKxH4AEAANYj8AAAAOsReAAAgPUIPAAAwHoE\n",
              "HgAAYD1HA8/KlSsVCATkcrnU1NQUXd/c3KyZM2eqsLBQZWVl2r17t6NjAADg0uZo4FmwYIG2bdum\n",
              "3NzcmPXLly/XsmXLtG/fPq1atUqVlZWOjgEAgEubyxhjnN5JIBDQ5s2bFQwG1dnZqfz8fB0/flwe\n",
              "j0fGGGVnZ2vbtm3y+XxxH8vPz/9CPeFwWOFwOGbd2rVrVVtb6/ShAAAASZDwOTxtbW3Kzs6Wx+OR\n",
              "JLlcLvn9foVCIUfGBlJdXa2MjIyYpbGxMQHdAwCAZLgkJy2vWbNG3d3dMUt5eXmyywIAAA7xJHqH\n",
              "OTk5am9vV19fX/Ttp1AoJL/fL5/PF/exgXi9Xnm93ph1brc7Ee0DAIAkSPgdnnHjxmnatGmqr6+X\n",
              "JDU0NGjSpEnKz893ZAwAAMDRScvLly/X66+/ro6ODmVmZmr06NFqaWnR3r17VVlZqa6uLvl8PtXV\n",
              "1am4uFiSHBm7EFVVVaqpqYn/QQAAAEmXkE9pjQQEHgAA7HVJTloGAACXFgIPAACwHoEHAABYj8AD\n",
              "AACsR+ABAADWI/AAAADrEXgAAID1CDwAAMB6BB4AAGA9Ag8AALAegQcAAFiPwAMAAKxH4AEAANYj\n",
              "8AAAAOsReAAAgPUIPAAAwHoEHgAAYD0CDwAAsB6BBwAAWI/AAwAArEfgAQAA1iPwAAAA6xF4AACA\n",
              "9Qg8AADAegQeAABgPQIPAACwHoEHAABYj8ADAACsR+ABAADWI/AAAADrEXgAAID1CDwAAMB6SQs8\n",
              "gUBARUVFCgaDCgaD2rhxoySpublZM2fOVGFhocrKyrR79+7oNkMdAwAAl7ak3uHZuHGjmpqa1NTU\n",
              "pEWLFkmSli9frmXLlmnfvn1atWqVKisro88f6hgAALi0uYwxJhk7DgQC2rx5s4LBYHRdZ2en8vPz\n",
              "dfz4cXk8HhljlJ2drW3btsnn8w1pLD8//4LqqaqqUk1NjUPdAgCAZPIkc+eLFy+WMUbl5eX6yU9+\n",
              "ora2NmVnZ8vj+bQsl8slv9+vUCikjIyMIY0NFHjC4bDC4XDMukgk4nC3AAAgWZL2ltbWrVu1c+dO\n",
              "ffDBB8rKytKSJUsStu/q6mplZGTELI2NjQnbPwAASKykBR6/3y9JSk1N1UMPPaR3331XOTk5am9v\n",
              "V19fnyTJGKNQKCS/3z/ksYGsWbNG3d3dMUt5eXkCugYAAMmQlMDz8ccf6+TJk9HHGzZs0NSpUzVu\n",
              "3DhNmzZN9fX1kqSGhgZNmjRJ+fn5Qx4biNfrlc/ni1ncbrezTQMAgKRJyqTlDz/8UPPnz1ckEpEx\n",
              "Rnl5eaqtrVUgENDevXtVWVmprq4u+Xw+1dXVqbi4WJKGPHYhmLQMAIC9kvYpreGGwAMAgL34pmUA\n",
              "AGA9Ag8AALAegQcAAFiPwAMAAKxH4AEAANYj8AAAAOsReAAAgPUIPAAAwHoEHgAAYD0CDwAAsB6B\n",
              "BwAAWI/AAwAArEfgAQAA1iPwAAAA6xF4AACA9Qg8AADAegQeAABgPQIPAACwHoEHAABYj8ADAACs\n",
              "R+ABAADWI/AAAADrEXgAAID1CDwAAMB6BB4AAGA9Ag8AALAegQcAAFiPwAMAAKxH4AEAANYj8AAA\n",
              "AOsReAAAgPUIPA472xvRsdNhne2NJLsUDFE8ziGvg+Tp/uSc9h05pe5PziW7FAwR18/INxzOoSdp\n",
              "e7bc0VNh1f++VW/uOqIzvRFdlurWbVPG674Zucoa5U12ebgA8TiHvA6SZ097jx799S41fdSt/n6j\n",
              "lBSXpuaM0Y/nTVHh1aOTXR4uANfPyDeczqHLGGMSukcHNTc3a8mSJTp27JgyMjL0/PPP67rrrrug\n",
              "bauqqlRTUxOXOo6eCuu7G3aopfOU0j1upXlSdK6vX2f7IsofN1rP3juVi3WYi8c55HWQPHvae/R/\n",
              "fvaeTp3tU4pLcqW4ZPqN+o00Ot2jV749k9AzzHH9jHzD7Rxa9ZbW8uXLtWzZMu3bt0+rVq1SZWVl\n",
              "Uuqo/32rWjpPaewor668Ik1XeD268oo0jR3lVUvnKdW/dzApdeHCxeMc8jpInkd/vUunzvYpze1S\n",
              "mset1JQUpXncSnO7dOpsn9Zu3pXsEvE1uH5GvuF2Dq0JPJ2dnXr//fd13333SZLmz5+vtrY2tbS0\n",
              "fOG54XBYPT09MUskEp/3Fc/2RvTmriNK97jlccceXo87RV6PW2/s7uC96GEsHueQ10HydH9yTk0f\n",
              "dSvFJaWkxB77lJQUpbikHW0nmdMzjHH9jHzD8RxaE3ja2tqUnZ0tj+fTaUkul0t+v1+hUOgLz62u\n",
              "rlZGRkbM0tjYGJc6Tof7dKY3ojTPwIfW60nRmXMRnQ73xWV/iL94nENeB8lz5FRY/f1GrhTXgOOu\n",
              "FJf6+42OnAonuDJcKK6fkW84nkNrAs9grFmzRt3d3TFLeXl5XP72KK9Hl6W6da6vf8DxcF+/Lktz\n",
              "a5SX+eLDVTzOIa+D5Ll6tFcpf5qzMxDzpwnMV49m/sdwxfUz8g3Hc2hN4MnJyVF7e7v6+j5Ni8YY\n",
              "hUIh+f3+LzzX6/XK5/PFLG63Oy51pKe6deuUq3W2L6K+SOyJ7ov0K9wX0W3XjVd6anz2h/iLxznk\n",
              "dZA8GZenKTgpQ/1G6u+PPfb9/f3qN9LUnDHKuDwtSRXi63D9jHzD8RxaE3jGjRunadOmqb6+XpLU\n",
              "0NCgSZMmKT8/P+G13D8joPxxo3X0dFjHPz6nj8N9Ov7xOR09HVbBuNG6b0ZuwmvC4MTjHPI6SJ7H\n",
              "7irW6HSPzkWMzvVF1Nvfr3N9EZ2LGI1O9+jH86Yku0R8Da6fkW+4nUOrPpa+d+9eVVZWqqurSz6f\n",
              "T3V1dSouLr6gbeP5sXRJOnY6rPr3DuqN3R06cy6iy9Lcuu06vj9iJInHOeR1kDz7jpzS2s27tKPt\n",
              "JN/DM0Jx/Yx8w+kcWhV4Lka8A895Z3s/nZQ1yuvh9usIFY9zyOsgebo/Oacjp8K6erSXt7FGKK6f\n",
              "kW84nENmfDksPdXNBTrCxeMc8jpInozL0wg6IxzXz8g3HM6hNXN4AAAAvgyBBwAAWI/AAwAArEfg\n",
              "AQAA1iPwAAAA6xF4AACA9Qg8AADAegQeAABgPQIPAACwHoEHAABYj9/S+pO//uu/ViAQiPvfjUQi\n",
              "amxsVHl5udxu+74a3eb+bO5Nor+Rzub+bO5Nor94y83N1d/93d997fMIPA7r6elRRkaGuru75fP5\n",
              "kl1O3Nncn829SfQ30tncn829SfSXLLylBQAArEfgAQAA1iPwAAAA6xF4HOb1evXDH/5QXq832aU4\n",
              "wub+bO5Nor+Rzub+bO5Nor9kYdIyAACwHnd4AACA9Qg8AADAegQeAABgPQKPg5qbmzVz5kwVFhaq\n",
              "rKxMu3fvTnZJXysQCKioqEjBYFDBYFAbN26U9NW9DHUsEVauXKlAICCXy6WmpqaLrnm49fpl/X3Z\n",
              "eRxJ/Z09e1bz5s1TYWGhSktLddNNN6mlpUWS1NnZqVtvvVUFBQWaMmWKtm7dGt3OibFE9zdnzhxN\n",
              "njw5ev6eeuqpEdefJN18880qKSlRMBjUrFmztGPHDkl2XH9f1psN195n1dXVyeVyafPmzZJG+LVn\n",
              "4Ji5c+eauro6Y4wxL7/8srn++uuTW9AFyM3NNTt27PjC+q/qZahjifDOO++Ytra2L/TlRD/J6PXL\n",
              "+vuy8/h1dQ6n/s6cOWNef/1109/fb4wx5plnnjGzZ882xhjzwAMPmB/+8IfGGGMaGxvNxIkTzblz\n",
              "5xwbS3R/s2fPNq+++uqA242U/owx5sSJE9F/b9q0yZSUlBhj7Lj+vqw3G6698w4cOGBmzJhhKioq\n",
              "oq/HkXztEXgccuTIETN69GjT29trjDGmv7/fXH311aa5uTnJlX21gS7Wr+plqGOJ9tm+nOgn2b1e\n",
              "aOAZqf0ZY8z27dtNbm6uMcaYK664wrS3t0fHysrKzFtvveXYWCJ8tr+vCjwjtb+6ujpTWlpq5fV3\n",
              "vjdj7Ln2IpGIufHGG837778f83ocydceb2k5pK2tTdnZ2fJ4PJIkl8slv9+vUCiU5Mq+3uLFi1Vc\n",
              "XKylS5fq6NGjX9nLUMeSyYl+hmOvnz+PkjO9J0ptba3uvPNOdXV1qbe3V+PHj4+OBQIBhUIhR8YS\n",
              "5Xx/561evVrFxcVatGiRPvzwQ0kakf0tXrxYOTk5Wrt2rdavX2/V9ff53j67fqRfezU1NfrmN7+p\n",
              "6dOnR9eN9GuPwIMYW7du1c6dO/XBBx8oKytLS5YsSXZJGALbzuPjjz+ulpYWVVdXJ7sUR3y+v/Xr\n",
              "12vPnj3auXOnZs2apTvuuCPJFQ7dCy+8oLa2Nj322GNatWpVssuJq4F6s+Ha27VrlxoaGvSDH/wg\n",
              "2aXEV9zvGcEYM3Lf0vqsw4cPm1GjRo24W7EDudTe0vqs8+fRmJF3W90YY/7pn/7JTJ8+PWbOxOWX\n",
              "X/6lt8CdGHPSQP19ntfrNceOHTPGjLz+Pis9Pd10dHRYd/2d7+38OTpvpF57P/3pT8348eNNbm6u\n",
              "yc3NNV6v14wdO9b89Kc/HdHXHoHHQbNnz46ZaDZ9+vTkFvQ1Tp8+HfM/3SeffNLMmjXLGPPVvQx1\n",
              "LJE+Hwic6CeZvX62v686j19X53Dr78knnzTTpk0zx48fj1m/ZMmSmEmOEyZMiE5ydGIskf319vaa\n",
              "jo6O6ONXXnnF+P3+6OOR0t+JEyfMoUOHoo9fffVVM3HiRNPf3z/ir78v682ma++zPjuHZyRfewQe\n",
              "B+3Zs8dUVFSYgoICM336dLNz585kl/SV9u/fb4LBoCkuLjZTpkwxf/VXf2UOHDhgjPnqXoY6lgjL\n",
              "li0zEydONG6324wbN85cc801jvWTjF4H6u+rzuNI6q+trc1IMnl5eaa0tNSUlpaa8vJyY4wxHR0d\n",
              "5qabbjL5+fnm2muvNW+//XZ0OyfGEtnf6dOnzfTp082UKVNMSUmJ+cu//EvT1NQ04vprbW01ZWVl\n",
              "0T5uvPHGaCgf6dffl/Vmy7X3eZ8NPCP52uO3tAAAgPWYtAwAAKxH4AEAANYj8AAAAOsReAA4yuVy\n",
              "6eTJkzHrAoFAzG9/jRRZWVlqbW392ud98sknuueee5Sfn6/CwkK98sorzhcH4Ct5kl0AANhm3bp1\n",
              "8nq9amlp0YEDB3TDDTdo7ty5yszMTHZpwCWLOzwAkioQCOjRRx/VjBkzNHnyZD322GPRsTlz5uh7\n",
              "3/ueZs2apWuuuUYrVqyIjr344ou64YYbNHXqVJWWlupf//VfY7Z75JFH9Bd/8Rfy+/1au3atfvOb\n",
              "3+jP//zPFQgEVFNTE31uc3OzvvWtb6msrEwlJSV69tlno2Ovvfaa/uzP/kwlJSX6+7//+wvuaePG\n",
              "jdFaJ0+erDlz5ujVV18d0vEBEB/c4QGQdCdPntR7772nY8eO6ZprrtEDDzygiRMnSpL279+vLVu2\n",
              "qLe3V9dee63ee+89zZgxQ7fccovuueceuVwutba2qqKiQgcPHpTX65UkHTx4UFu2bFFPT48CgYBO\n",
              "nDihd999V4cPH1ZRUZH+9m//VqNHj9Y999yj+vp6feMb39Ann3yiiooK3XDDDcrNzdUDDzygd999\n",
              "V9dee61+/vOfq6urK1rzo48+qgkTJsSEsPNCoZByc3OjjxP9u1wAvojAAyApXC5X9N/33nuvpE/n\n",
              "yOTl5enAgQPRwLNo0SJ5PB55PB4Fg0Ht379fM2bM0IEDB/Q3f/M3+uijj+TxeHT8+HEdOHBA3/jG\n",
              "NyRJCxYskNvt1pVXXqm8vDzdcccdcrlcmjhxosaOHavW1lalpaVp9+7duvvuu6O1nDp1Sv/7v/+r\n",
              "9vZ2lZSU6Nprr5UkLV26VN/97nejz/uHf/gHx48RgPgh8ABw1NixY9XV1aUxY8ZE1x07dkzjxo2L\n",
              "Pk5PT4/+2+12q6+v72vH7r77bv3kJz/RggULJElXXXWVzp49+6XbDfR3UlNTddVVVw04gfq1116L\n",
              "efzZgPZ1/H6/Dh48qOzsbElSa2urbr755gveHkD8MYcHgKNuueUW/exnP4s+fuGFF5SXlxcNA0N1\n",
              "4sQJTZ48WZJUX1+vEydODPpvFBUVyefzqa6uLrqupaVFx48f14wZM7Rz507t2bNHkvTLX/5S586d\n",
              "u6C/u3DhQj333HOSpAMHDuh3v/ud5s2bN+j6AMQPgQeAo55++uno20PBYFAvvviiXn755Yv+u7W1\n",
              "tVqwYIGmTp2qHTt2yO/3D/pveDwe/du//Zs2bdqkkpISXXfddVq6dKnOnDmjsWPH6pe//KXuuusu\n",
              "lZaWqrm5OeZTVo8++mg01Hze97//fZ05c0bXXHONbrnlFj377LPKysoacq8ALh6/pQUAAKzHHR4A\n",
              "AGA9Ag8AALAegQcAAFiPwAMAAKxH4AEAANYj8AAAAOsReAAAgPUIPAAAwHoEHgAAYD0CDwAAsN7/\n",
              "A5NBxCDhqp8KAAAAAElFTkSuQmCC\n",
              "\">\n",
              "      </div>\n",
              "      <script type=\"text/javascript\">\n",
              "        (() => {\n",
              "          const chartElement = document.getElementById(\"chart-45e69c7e-9dd9-4f5a-88fc-65863e3a6802\");\n",
              "          async function getCodeForChartHandler(event) {\n",
              "            const chartCodeResponse =  await google.colab.kernel.invokeFunction(\n",
              "                'getCodeForChart', [\"chart-45e69c7e-9dd9-4f5a-88fc-65863e3a6802\"], {});\n",
              "            const responseJson = chartCodeResponse.data['application/json'];\n",
              "            await google.colab.notebook.addCell(responseJson.code, 'code');\n",
              "          }\n",
              "          chartElement.onclick = getCodeForChartHandler;\n",
              "        })();\n",
              "      </script>\n",
              "      <style>\n",
              "        .colab-quickchart-chart-with-code  {\n",
              "            display: block;\n",
              "            float: left;\n",
              "            border: 1px solid transparent;\n",
              "        }\n",
              "\n",
              "        .colab-quickchart-chart-with-code:hover {\n",
              "            cursor: pointer;\n",
              "            border: 1px solid #aaa;\n",
              "        }\n",
              "      </style>"
            ]
          },
          "metadata": {}
        },
        {
          "output_type": "display_data",
          "data": {
            "text/plain": [
              "<google.colab._quickchart_helpers.SectionTitle at 0x7b405b1ee020>"
            ],
            "text/html": [
              "<h4 class=\"colab-quickchart-section-title\">Values</h4>\n",
              "<style>\n",
              "  .colab-quickchart-section-title {\n",
              "      clear: both;\n",
              "  }\n",
              "</style>"
            ]
          },
          "metadata": {}
        },
        {
          "output_type": "display_data",
          "data": {
            "text/plain": [
              "from matplotlib import pyplot as plt\n",
              "_df_3['Unnamed: 0'].plot(kind='line', figsize=(8, 4), title='Unnamed: 0')\n",
              "plt.gca().spines[['top', 'right']].set_visible(False)"
            ],
            "text/html": [
              "      <div class=\"colab-quickchart-chart-with-code\" id=\"chart-f39b17a5-414e-4430-bdd0-5d80b0a741a9\">\n",
              "        <img style=\"width: 180px;\" src=\"data:image/png;base64,iVBORw0KGgoAAAANSUhEUgAAAqwAAAFuCAYAAABECkoSAAAAOXRFWHRTb2Z0d2FyZQBNYXRwbG90\n",
              "bGliIHZlcnNpb24zLjcuMSwgaHR0cHM6Ly9tYXRwbG90bGliLm9yZy/bCgiHAAAACXBIWXMAAA9h\n",
              "AAAPYQGoP6dpAABanklEQVR4nO3dd1hW9eP/8ee5b5YDUHGhiIiIW3BAilpZ2dBKc5alorm1ZcP8\n",
              "9GkPG2bZ0DaWpmk5ysosy9yGC82NA8GJgiIi877P7w+K34dvVg7g3MDrcV33dcl53+N1jjfw4tzn\n",
              "vI9hmqaJiIiIiIiLslkdQERERETkn6iwioiIiIhLU2EVEREREZemwioiIiIiLk2FVURERERcmgqr\n",
              "iIiIiLg0FVYRERERcWkqrCIiIiLi0lRYRURERMSlqbCKiJRznTp14plnnrE6hojI31JhFRH5H0FB\n",
              "QXz00Ud/WX7ttdfy3//+14JErmnbtm1cffXVVKpUiTp16vDMM8+gK32LSHFRYRURkUuSnp7OTTfd\n",
              "RMeOHTl16hRLly7lo48+4s0337Q6moiUUSqsIiKXKCEhAcMw+PTTTwkLC8Pb25v27duzc+fOgvtE\n",
              "R0dz5513Mm7cOPz8/KhVqxZPPvlkwXhWVhZ9+/albt26eHt707hxY959991CrxMUFMQzzzzDTTfd\n",
              "ROXKlWnUqBG//PILv/76K61atcLb25sbbriB48ePF3re//znPzRs2JCqVaty9dVXs2XLloLxvLw8\n",
              "HnvsMWrXrk2NGjWYOHHiJa//ggULcDgcPP/881SoUIGWLVvy6KOP8s4771zyc4mIXAwVVhGRyzRz\n",
              "5kx++OEHTp48SUBAAKNHjy40vnDhQjp16kRycjKLFi3i5ZdfZvny5QCYpkm3bt3YsWMHaWlpTJky\n",
              "hfHjx7N06dJCzxETE8Orr75KWloat99+O3fffTdvvfUWP//8M0ePHuX8+fM8/fTTBfcfNWoUsbGx\n",
              "rFixgpMnT9KvXz9uuukmzpw5A8Crr77KvHnz+OWXXzh8+DBubm789ttvhV5zzJgx3HrrrX+73nFx\n",
              "cbRu3Ro3N7eCZRERERw4cICzZ89e1rYUEfknKqwiIpfpqaeewt/fHy8vL4YMGcKGDRsKjXfs2JE7\n",
              "77wTu91Ohw4dCA8PJzY2FoAKFSowZMgQqlSpgs1mo3v37tx88838+OOPhZ5j2LBhhIWFYbfbGTRo\n",
              "EMePH+fRRx+lRo0aeHt707t374LnTElJ4dNPP+Xdd98lICAANzc3xo0bh6+vL99++y2QX4Affvhh\n",
              "mjVrhqenJ8888wxVq1Yt9JrTpk0ruP+FnD17lipVqhRa9udzqLCKSHFw+/e7iIiUH+7u7uTm5v5l\n",
              "eW5uLu7u7oWW1alTp+DflSpVIjMzk7y8vII9j/87/ud90tPTAcjOzuaJJ57gm2++4cSJExiGwfnz\n",
              "5+nfv3+hx/j7+xd6/IWW/fmc+/btA+Cqq64q9Bw5OTkcPnwYgMOHD9OgQYOCMbvdTmBg4N9ujwvx\n",
              "8fEpeL4/nT59umBMRKSoqbCKiPyP4OBg4uPjCy1zOp0cOHCAhg0bFtnrTJkyhcWLF7N48WIaNWqE\n",
              "zWajR48eV3Smfe3atYH8M/j/roQGBASQkJBQ8LXD4SApKemSXic8PJzPP/+8UDnfuHEjwcHBKqwi\n",
              "Uix0SICIyP8YOnQon3zyCcuWLSMvL4/09HSeeOKJgmNOi0paWhqenp7UqFEDp9PJl19++ZfDAS5V\n",
              "/fr16dmzJ2PHjuXQoUNA/hn9S5Ys4dixYwAMHjyY119/nd27d5Odnc1zzz1HamrqJb1Or169sNvt\n",
              "PP3002RmZrJ9+3YmT57M2LFjryi/iMjfUWEVEfkf/fv3Z+rUqTz66KNUr16dRo0asX37dpYtW0a1\n",
              "atWK7HUeeeQR6tWrR/369alTpw4///wzPXv2vOLnnT17Nm3btqVr164Fsw98+OGHBXtuJ0yYQK9e\n",
              "vbjmmmsICAggJyfnL4cQjBo1iltuueVvX8Pb25ulS5eycuVK/Pz8uOGGGxg6dCgPPfTQFecXEbkQ\n",
              "w9RMzyIiIiLiwrSHVURERERcmgqriIiIiLg0FVYRERERcWkqrCIiIiLi0lRYRURERMSlqbCKiIiI\n",
              "iEtTYRURERERl1amC+vUqVOtjiAiIiIiV6hMF9Y/L00oIiIiIqVXmS6sIiIiIlL6qbCKiIiIiEtT\n",
              "YRURERERl6bCKiIiIiIuTYVVRERERFyaCquIiIiIuDQVVhERERFxaSqsIiIiIuLSVFhFRERExKWp\n",
              "sIqIiIiIS1NhLULZeQ6rI4iIiIhctqxc1+wyl11YY2JiMAyDRYsWAZCcnMzNN99Mo0aNaNGiBStX\n",
              "riy4b3GMuZJT57J5eN5W7vpgPU6naXUcERERkUu2L/kcXd9YwfxNh62O8heXVVgTEhL48MMPad++\n",
              "fcGyxx9/nPbt2xMfH09MTAwDBgwgNze32MZcicNpsmT7MTYnnuHrrUesjiMiIiJySX47kELv6WtJ\n",
              "Ss1k+or95DqcVkcq5JILq9PpZNiwYbz99tt4enoWLJ83bx6jRo0CICIigjp16rBixYpiG3MltXy8\n",
              "GNslBIBXluzhfE6exYlERERELs7XcUcY+HEsaZm5tAmswtwR7XG3u9ZRo5ecZsqUKXTs2JG2bdsW\n",
              "LEtJSSE3N5fatWsXLAsKCiIxMbFYxi4kOzubs2fPFro5HCV3HMa9nRoQULUCx89m8d6v+0vsdUVE\n",
              "REQuh2mavLt8Hw98EUeOw8ktLWoze3h7/Cp7/vuDS9glFdbt27czf/58/vvf/xZXnss2adIkfH19\n",
              "C91iY2NL7PW93O080a0pAO+vPMDh0+dL7LVFRERELkWuw8nEBb/z2tI9AIy4Oph3B7TBy91ucbIL\n",
              "u6TCumrVKhISEmjUqBFBQUGsX7+eESNGMG/ePNzc3Dh+/HjBfRMSEggMDMTPz6/Ixy5k4sSJpKWl\n",
              "FbpFRkZeyupdsZtb1OaqBtXIznMyacnuEn1tERERkYuRnpXL0Bkb+GJDEjYDnu/RnP90a4rNZlgd\n",
              "7W9dUmEdPXo0x44dIyEhgYSEBNq3b88HH3zA6NGj6du3L++99x4AGzZs4MiRI1xzzTUAxTL2f3l6\n",
              "euLj41PoZreX7F8JhmHw1G3NMAz4btsxYg+mlujri4iIiPyTY2mZ9H1vHaviT1HB3c6Hg9oxsEOQ\n",
              "1bH+lVtRPdErr7zCwIEDadSoER4eHsyaNQt3d/diG3NVzev4cmdEIHNiE3l28Q6+GdcJuwv/xSIi\n",
              "IiLlw46jaQydsYETZ7Op4e3JJ4MjaBnga3Wsi2KYpllmJw4dP348U6ZMKfHXPXUumy6v/Up6dh6v\n",
              "9G5J/4gLH8YgIiIiUhJW7D3JmFmbyMhx0KhmZWKGRBBQtaLVsS6aa81ZUEZUr+zJ/dc3AuC1pXtI\n",
              "z3K9uWNFRESkfJgTm8jQGRvIyHHQIdiPr0ZHlaqyCiqsxWZwVBANqlfi1Lkc3lm+z+o4IiIiUs44\n",
              "nSav/rCbiQt+x+E06dW6Lp8OjcS3gmsfXnkhKqzFxMPNxn+7509zFbM6gYRTGRYnEhERkfIiO8/B\n",
              "g3PjmPbH3PAPXN+I1/uF4eFWOqtf6UxdSlzXpCadG1Unx+Hkxe93WR1HREREyoEz53MY+FEs32w9\n",
              "ipvN4LU+rXioayiGUXpPAldhLUaGYfDUrc2w2wx+2nmCNftOWR1JREREyrDElPP0mr6W2IRUvD3d\n",
              "+HRoJH3b1bM61hVTYS1mjWp5c89V+bMEPLd4J3kOp8WJREREpCzakniaO6at4cDJDOr4evHV6Cg6\n",
              "hlS3OlaRUGEtAQ91DaVKRXf2nEhnzoYkq+OIiIhIGfPD9uPc+cF6UjJyaFHXh4VjO9K4trfVsYqM\n",
              "CmsJqFLRg4duCAVgyo97SDuvaa5ERESkaHy8+iCjP99Edp6TLo1rMHdEB2r5eFkdq0ipsJaQu68K\n",
              "pFHNypw+n8ubP++1Oo6IiIiUcg6nyTPf7OD5b3dimvld48NB7ajkWWQXMnUZKqwlxM1u48lbmwEw\n",
              "c90h9iWfsziRiIiIlFbnc/IYOXMTM9YmADDxlia80LMFbvayWe3K5lq5qKtDa3B9k5rkOU1e+G6n\n",
              "1XFERESkFDqZns1dH6xn2a4TeLjZeHdAG0Ze07BUT1v1b1RYS9gT3Zvibjf4dc9Jlu9OtjqOiIiI\n",
              "lCL7ktO5Y9oath5Oo2pFd2YPu4rurfytjlXsVFhLWHCNykRHBQHw/Hc7ydU0VyIiInIR1u1Pode0\n",
              "tRw+nUmQX0UWjOlIu6BqVscqESqsFrjv+kb4VfLgwMkMPlt3yOo4IiIi4uIWbjnMoE9+42xWHm0C\n",
              "q7BgTEcaVK9kdawSo8JqAR8vdx6+sTEAU5ftJTUjx+JEIiIi4opM0+Ttn+N5aO5Wch0m3Vv6M3t4\n",
              "e6pV8rA6WolSYbVI/4h6NPX34WxWHlN+2mN1HBEREXExuQ4nE+Zv4/Wf8qfDHHl1MG/f1Rovd7vF\n",
              "yUqeCqtF7DaDp2/Ln+Zq9m+J7Dp21uJEIiIi4irOZuUydMYG5m08jM2A53s0Z2K3pthsZXcmgH+i\n",
              "wmqh9sF+3NKiNk6TPyb9Na2OJCIiIhY7eiaTfu+tY1X8KSp62PlocDsGdgiyOpalVFgt9p9uTfFw\n",
              "s7F2fwo/7jxhdRwRERGx0I6jadwxbQ27j6dTw9uTuSM6cF2TWlbHspwKq8XqVavI8M4NAHjxu11k\n",
              "5zksTiQiIiJWWL4nmX7vrePE2WxCa1Vm0diOtAzwtTqWS1BhdQFjrg2hprcniann+WR1gtVxRERE\n",
              "pITN/i2RYZ9uJCPHQVRDP74cFUXdKhWsjuUyVFhdQCVPNx67uQkA7/wST3J6lsWJREREpCQ4nSav\n",
              "/LCb/yz8HYfTpHebAGYMicS3grvV0VyKCquL6NW6LmEBvmTkOJi8VNNciYiIlHVZuQ4emBvH9F/3\n",
              "A/DQDaFM7tsKDzfVs/9LW8RF2GwGT/0xzdWXmw6z/UiaxYlERESkuJzOyGHgx7+xeOtR3GwGr/cN\n",
              "44EbGmEY5XPaqn+jwupC2tavRo/wOpgmPLt4h6a5EhERKYMOpWTQe/paNiScxtvLjc+GRtK7bYDV\n",
              "sVyaCquLmXBzE7zcbWxIOM23245ZHUdERESK0ObE09wxbS0HTmVQt0oF5o+OIiqkutWxXN4lF9Yb\n",
              "b7yRVq1aER4eTufOndmyZQsAQUFBNG7cmPDwcMLDw5k7d27BY+Lj44mKiiI0NJSIiAh27NhxxWNl\n",
              "VZ0qFRh1TUMAXl6ym6xcTXMlIiJSFvyw/Rh3fbCe1IwcWtT1YeGYKEJreVsdq1S45MI6b948tm3b\n",
              "RlxcHOPHjyc6OrpgbO7cucTFxREXF0f//v0Llo8cOZIRI0awd+9eJkyYUOgxlztWlo28uiF1fL04\n",
              "ciaTD1YesDqOiIiIXAHTNPlo1QFGf76Z7Dwn1zWpydwRHajp42V1tFLjkgtrlSpVCv6dlpb2rwcH\n",
              "Jycns3HjRu655x4AevfuTVJSEvv27bvssbKugoedx7s1BWD6r/s5lpZpcSIRERG5HA6nyTPf7OCF\n",
              "73ZhmjCwfX0+GNiWSp5uVkcrVS5raw0aNIjly5cD8P333xdabpomkZGRvPzyy9SoUYOkpCT8/f1x\n",
              "c8t/KcMwCAwMJDExEV9f38saCwkJ+Uum7OxssrOzCy1zOErvx+m3tfLns7UJbDx0mleW7ObNO1tb\n",
              "HUlEREQuwfmcPO6fs4Vlu5IBeKJbU4Z1bqCZAC7DZZ109dlnn5GUlMQLL7zAhAkTAFi5ciXbtm1j\n",
              "8+bNVK9encGDBxdp0H8zadIkfH19C91iY2NLNENRMoz/P83VorijbE48bXEiERERuVjJ6Vnc+cF6\n",
              "lu1KxsPNxrS72zD86mCV1ctkmFc4d1KFChU4fPgwfn5+BcuOHTtGaGgo6enpJCcnExISQmpqKm5u\n",
              "bpimib+/P6tXr8bHx+eyxi52D+uTTz7J1KlTr2T1LPfIl1v5atNhwupVYeHoKGw2vdFFRERcWfyJ\n",
              "dKJjNnDkTCbVKnnw4aC2tK1fzepYpdol7WE9c+YMR48eLfh60aJF+Pn54eXlxZkzZwqWz5kzh9at\n",
              "8z/CrlmzJm3atGHWrFkAzJ8/n4CAAEJCQi577EI8PT3x8fEpdLPb7Zeyei7psZsaU8nDztakMyyK\n",
              "O2J1HBEREfkHa/efotf0tRw5k0mQX0UWjI5SWS0Cl7SH9dChQ/Tt25fMzExsNhs1atRg8uTJ+Pj4\n",
              "0Lt3bxwOB6ZpEhwczNSpUwkKCgJgz549REdHk5KSgo+PDzExMbRs2fKKxi7G+PHjmTJlyiVsDtc0\n",
              "7dd9vPrDHmp6e7L8kWt1oLaIiIgLWrD5MBPmbyPXYdKuflU+GNSOapU8rI5VJlzxIQGurKwU1qxc\n",
              "B13fWEFSaibjuoTwyE2NrY4kIiIifzBNk7d/2ceUn/YC0L2lP6/3C8PLvfR/0usqdKWrUsDL3c4T\n",
              "f0xz9cGqAySlnrc4kYiIiADkOpw89tW2grI68ppg3r6rtcpqEVNhLSVual6b9sHVyMlz8vKS3VbH\n",
              "ERERKffOZuUyJGYDX246jM2AF3q2YOItTXWCdDFQYS0lDMPgqVubYzPgu9+Psf5AitWRREREyq0j\n",
              "ZzLpO30dq/edoqKHnY8HR3BP+/pWxyqzVFhLkWZ1fLgzMhCA5xbvxOEss4cfi4iIuKztR9K44901\n",
              "7DmRTk1vT+aN7ECXJjWtjlWmqbCWMg93DcXby42dx87y5cYkq+OIiIiUK8t3J9Pv/XUkp2fTuJY3\n",
              "C8d2pEVdX6tjlXkqrKWMX2VPHri+EQCTf9xDelauxYlERETKh1nrD3Hvpxs4n+OgU0h1vhzdgbpV\n",
              "Klgdq1xQYS2FBnUIIrh6JU6dy+GdX/ZZHUdERKRMczpNJi3ZxX8XbcdpQp+2AXwSHYGPl7vV0coN\n",
              "FdZSyMPNxn9vzZ/m6pM1Bzl4KsPiRCIiImVTVq6D+77YwvsrDgAwvmsor/VphYebKlRJ0tYupbo0\n",
              "rsnVoTXIdZi8+N0uq+OIiIiUOakZOdzz0W98t+0Y7naDKf3CuP/6RhiGpq0qaSqspZRhGDzZvSl2\n",
              "m8GyXSdYHX/K6kgiIiJlRsKpDHpPX8vGQ6fx9nLj06GR9GoTYHWsckuFtRRrVMubgX/M+fbctzvI\n",
              "czgtTiQiIlL6bTp0ml7T13LwVAZ1q1RgwegoohpWtzpWuabCWso9eEMjqlR0Z++Jc8yOTbQ6joiI\n",
              "SKn2/e/HuOvD9aRm5NCyri8Lx0bRqJa31bHKPRXWUq5KRQ/Gdw0FYMpPezlzPsfiRCIiIqWPaZp8\n",
              "uPIAY2dvJifPyQ1NazJ3ZHtqentZHU1QYS0TBkQGElqrMmfO5/Lmsnir44iIiJQqeQ4nT329gxe/\n",
              "34VpwuAO9Xl/YDsqerhZHU3+oMJaBrjZbTx1a3MAZq4/RPyJdIsTiYiIlA4Z2XmMnLmJmesPYRjw\n",
              "3+5Neeb25thtmgnAlaiwlhGdGlXnhqa1cDhNnv9uF6ZpWh1JRETEpSWfzaL/B+v4eXcynm42pg1o\n",
              "w7DOwZq2ygWpsJYhT3RvirvdYOXekyzfk2x1HBEREZe190Q6d0xby/YjZ6lWyYPZw9tzS0t/q2PJ\n",
              "31BhLUMaVK/EkI4NAHjh213k5GmaKxERkf9r7b5T9J6+liNnMmlQvRILx0TRtn5Vq2PJP1BhLWPG\n",
              "XReCXyUPDpzK4LN1CVbHERERcSnzNx1mcEws6Vl5tKtflQWjo6jvV8nqWPIvVFjLGB8vdx69qTEA\n",
              "U3+OJ+VctsWJRERErGeaJm8u28vDX24l12Fyayt/Zg27iqqVPKyOJhdBhbUM6tuuHs38fUjPyuP1\n",
              "n/ZaHUdERMRSOXlOHvlyW8HUj6Ouachbd7bGy91ucTK5WCqsZZDdZvD0bc0A+CI2kV3HzlqcSERE\n",
              "xBppmblEx8Qyf/Nh7DaDF+9oweO3NMGmaatKFRXWMuqqYD+6tayN04TnFu/UNFciIlLuHD59nr7v\n",
              "rWXt/hQqetj5aHA77r6qvtWx5DKosJZhE29pioebjXUHUli644TVcURERErM9iNp3DFtLXtPnKOW\n",
              "jyfzRnagS+OaVseSy6TCWobVq1aREZ2DAXjx+51k5TosTiQiIlL8ft51gn7vr+NkejaNa3mzcExH\n",
              "WtT1tTqWXAEV1jJu9LUNqentSVJqJp+sOWh1HBERkWI1c/0hhn+2kfM5Djo3qs6XoztQp0oFq2PJ\n",
              "FbrkwnrjjTfSqlUrwsPD6dy5M1u2bAEgPj6eqKgoQkNDiYiIYMeOHQWPKY4xuTiVPN2YcHMTAN79\n",
              "ZR/JZ7MsTiQiIlL0nE6Tl77fxZOLtuM0oW/bAD6JjsDHy93qaFIELrmwzps3j23bthEXF8f48eOJ\n",
              "jo4GYOTIkYwYMYK9e/cyYcKEguXFNSYX747WdQmrV4WMHAevLd1jdRwREZEilZXrYNyczXyw8gAA\n",
              "D3cN5dU+rXC364PkssIwr+D08RkzZvDmm2/y448/EhISQmpqKm5ubpimib+/P6tXr8bHx6fIx0JC\n",
              "Qi4q3/jx45kyZcrlrl6ZsjnxNL2mrQXgm3EdaRVQxdpAIiIiRSA1I4fhn21k06HTuNsNXu3Tijta\n",
              "B1gdS4qY2+U8aNCgQSxfvhyA77//nqSkJPz9/XFzy386wzAIDAwkMTERX1/fIh+7UGHNzs4mO7vw\n",
              "VZ0cDp1k9Kc2gVXpGV6HRXFHeW7xTr4c1QHD0Bx0IiJSeh08lcGQmFgSUs7j4+XG+wPb0aGhn9Wx\n",
              "pBhc1r7yzz77jKSkJF544QUmTJhQ1Jkuy6RJk/D19S10i42NtTqWS5lwSxMquNvZeOg0i7cdszqO\n",
              "iIjIZduYkEqvaWtISDlPQNUKLBgTpbJahl3RwR2DBw9m+fLlBAQEcOzYMfLy8oD86/UmJiYSGBhI\n",
              "vXr1inzsQiZOnEhaWlqhW2Rk5JWsXpnj71uBUdc0BODl73eRmaM90CIiUvp8t+0YAz76jdPnc2kV\n",
              "4MuCMVGE1PS2OpYUo0sqrGfOnOHo0aMFXy9atAg/Pz9q1qxJmzZtmDVrFgDz588nICCAkJCQYhm7\n",
              "EE9PT3x8fArd7HZdI/j/GnF1MHWrVOBoWhbvr9xvdRwREZGLZpom76/Yz9jZm8nJc3JD01p8MaI9\n",
              "Nb29rI4mxeySTro6dOgQffv2JTMzE5vNRo0aNZg8eTLh4eHs2bOH6OhoUlJS8PHxISYmhpYtWwIU\n",
              "y9jF0ElXF7Z461Hum7MFL3cbvzx8reanExERl5fncPL0Nzv4/LdEAKKjgnjy1mbYbTofozy4olkC\n",
              "XJ0K64WZpkm/99exIeE0PcLrMPXO1lZHEhER+VsZ2XmMm72Z5XtOYhjw3+7NuLdTA6tjSQnSBGXl\n",
              "kGEYPHVrcwwDvo47yqZDp62OJCIickEnzmbR7/11LN9zEk83G9PvbqOyWg6psJZTLQN86ds2f566\n",
              "5xbvwOksszvaRUSklNpzPJ073l3DjqNn8avkwRcj2nNzC3+rY4kFVFjLsUduakxlTze2Hk5jwZYj\n",
              "VscREREpsGbfKfpMX8vRtCyCq1diwZgoWgdWtTqWWESFtRyr6e3F2C75sy68+sNuMrLzLE4kIiIC\n",
              "X25MYvAnsaRn5xEZVI0FY6Ko71fJ6lhiIRXWcm5opyACq1UkOT2bab/uszqOiIiUY6ZpMuWnvTz6\n",
              "1TbynCa3hdXhs3sjqVLRw+poYjEV1nLO083OE92bAvDhqoMkpZ63OJGIiJRHOXlOHv5yK2/9HA/A\n",
              "mGsbMrV/OF7umlNdVFgFuLFZLaIa+pGT5+Sl73dZHUdERMqZtMxcBn8Sy4LNR7DbDCb1asljNzfB\n",
              "pjlW5Q8qrJI/zdVtzbAZsGT7cdYfSLE6koiIlBOHT5+nz/S1rDuQQiUPOx8PbsddkRe+DLuUXyqs\n",
              "AkCT2j4FPyCeXbwTh6a5EhGRYrbt8BnumLaW+ORz1Pbx4stRUVzbuKbVscQFqbBKgfFdQ/HxcmPX\n",
              "sbPM25hkdRwRESnDft51gv7vr+dkejZNanuzcGwUzer4WB1LXJQKqxTwq+zJAzeEAjB56R7OZuVa\n",
              "nEhERMqimesSGP7ZRjJzHXRuVJ0vR3XA37eC1bHEhamwSiGDOtQnuEYlUjJyePuPMzVFRESKgtNp\n",
              "8uJ3O3ny6x04Tejfrh6fREfg7eVudTRxcSqsUoi73caT3ZsBMGNtAgdPZVicSEREyoKsXAdjZ2/m\n",
              "w1UHAXj0psa83Lsl7nZVEfl3epfIX3RpUpNrQmuQ68j/S1hERORKpJzLZsCH61my/TgedhtT7wxn\n",
              "bJcQDEPTVsnFUWGVC3ry1qa42QyW7Upm5d6TVscREZFS6sDJc/SavpbNiWfwreDOZ/dG0iO8rtWx\n",
              "pJRRYZULCqnpzcAO9QF4/tud5DmcFicSEZHSZmNCKr2mr+VQynkCqlZg/ugo2gf7WR1LSiEVVvlb\n",
              "D14fStWK7sQnn+Pz3xKtjiMiIqXI4q1HGfDRb5w5n0tYvSosHNORkJqVrY4lpZQKq/wt34rujO+a\n",
              "P83VG8v2cuZ8jsWJRETE1ZmmyfRf93PfnC3k5Dnp2qwWXwxvTw1vT6ujSSmmwir/6K7IQBrX8ubM\n",
              "+VzeXKZprkRE5O/lOZz8d9F2XvlhNwDRUUG8d09bKnjYLU4mpZ0Kq/wjN7uNp27Ln+Zq5vpD7D2R\n",
              "bnEiERFxReey8xj22UY+/y0Rw4Cnbm3GM7c3x27TTABy5VRY5V91DKlO12a1cDhNnv92J6ZpWh1J\n",
              "RERcyImzWfR/fx2/7jmJl7uN9+5py9BODayOJWWICqtclCe6NcXdbrAq/hS/7E62Oo6IiLiI3cfP\n",
              "0vPdNew4eha/Sh7MGd6em5rXtjqWlDEqrHJRgqpXKvhr+YXvdpGTp2muRETKu9Xxp+g7fR3H0rII\n",
              "rlGJhWM60jqwqtWxpAxSYZWLNq5LCNUre3LwVAafrk2wOo6IiFho3sYkomNiSc/OI7JBNRaMjiLQ\n",
              "r6LVsaSMUmGVi+bt5c6jN+VPc/XWz/GcOpdtcSIRESlppmky5cc9PPbVNvKcJj3C6zDz3kiqVPSw\n",
              "OpqUYZdUWLOysujZsyehoaGEhYXRtWtX9u3bB8C1115LgwYNCA8PJzw8nDfeeKPgccnJydx88800\n",
              "atSIFi1asHLlyiseE2v0aVuP5nV8SM/O4/Uf91odR0RESlBOnpOH523lrV/yf/eP6xLCG/3C8XTT\n",
              "tFVSvC55D+uIESPYs2cPW7dupUePHgwbNqxg7I033iAuLo64uDgeeuihguWPP/447du3Jz4+npiY\n",
              "GAYMGEBubu4VjYk17DaDp29rDsAXGxLZcTTN4kQiIlIS0s7nMuiT31iw5Qh2m8HLvVryyE2NsWna\n",
              "KikBl1RYvby86NatG4aR/+Zs3749CQkJ//q4efPmMWrUKAAiIiKoU6cOK1asuKIxsU5kg2p0b+WP\n",
              "acJzizXNlYhIWZeUep7e761l/YFUKnu68Ul0BHdGBlodS8qRKzqGderUqfTo0aPg68cff5yWLVvS\n",
              "v39/Dhw4AEBKSgq5ubnUrv3/p7gICgoiMTHxsscuJDs7m7Nnzxa6ORyOK1k9+QcTb2mCp5uN3w6m\n",
              "8sP241bHERGRYrLt8BnumLaWfcnnqO3jxbyRHbgmtIbVsaScuezC+tJLL7Fv3z4mTZoEwMyZM9m9\n",
              "ezfbtm2jc+fO3HrrrUUW8mJMmjQJX1/fQrfY2NgSzVCeBFStyIirgwF48ftdZOXqjwMRkbJm2c4T\n",
              "9H9/PafOZdOktjcLx0bRrI6P1bGkHLqswjp58mQWLFjAkiVLqFgxfwqLevXqAWAYBuPGjePAgQOk\n",
              "pKTg5+eHm5sbx4///71wCQkJBAYGXvbYhUycOJG0tLRCt8jIyMtZPblIo65pSC0fTw6fzuTj1Qet\n",
              "jiMiIkXo07UJjJi5kcxcB1eH1uDLUR3w961gdSwppy65sE6ZMoU5c+bw008/UaVKFQDy8vI4ceJE\n",
              "wX3mz59PrVq18PPzA6Bv37689957AGzYsIEjR45wzTXXXNHY/+Xp6YmPj0+hm92usxaLUyVPNx6/\n",
              "pQkA7y7fx4mzWRYnEhGRK+V0mrzw7U6e/mYHThPujKjHx4Pb4e3lbnU0KcfcLuXOhw8f5uGHHyY4\n",
              "OJguXboA+UXxl19+oXv37mRnZ2Oz2ahevTrffPNNweNeeeUVBg4cSKNGjfDw8GDWrFm4u7tf0Zi4\n",
              "hh5hdfl07SHiks7w6g97eL1fmNWRRETkMmXlOnjwizh+2JH/6eajNzVmzLUNC062FrGKYZbhU7zH\n",
              "jx/PlClTrI5R5m1JPM0d09YC8PXYjoTVq2JtIBERuWSnzmUz/LONbEk8g4fdxmt9W9EjvK7VsUQA\n",
              "XelKikDrwKrc0Tr/h9pz32qaKxGR0ubAyXP0mraWLYln8K3gzsx7I1VWxaWosEqRmHBzEyq429l0\n",
              "6DTfbD1qdRwREblIsQdT6TV9LYmp56lXrQILxkRxVbCf1bFEClFhlSJR29eLMdc2BODlJbs5n5Nn\n",
              "cSIREfk3i7ce5Z6PfuPM+VzC6lVh4ZiONKxR2epYIn+hwipFZvjVwdStUoFjaVm8v+KA1XFERORv\n",
              "mKbJ9F/3c9+cLeQ4nNzUvBZfDG9P9cqeVkcTuSAVVikyXu52JnbLn+bq/ZX7OXom0+JEIiLyf+U5\n",
              "nPxn4XZe+WE3AEM7NmDa3W2p4KGpIMV1qbBKkere0p/IoGpk5Tp5ecluq+OIiMj/OJedx72fbmRO\n",
              "bCKGAU/f1oynbmuG3aZpq8S1qbBKkTIMg6dua4ZhwDdbj7IxIdXqSCIiAhxPy6Lfe+tYsfckXu42\n",
              "3r+nLUM6NrA6lshFUWGVIteiri/92uZfqvfZxTtxOjXNlYiIlXYfP8sd09aw89hZqlf2YO6IDtzY\n",
              "vLbVsUQumgqrFItHbmpMZU83fj+SxvzNh62OIyJSbq2KP0mf6es4lpZFwxqVWDhGF3iR0keFVYpF\n",
              "DW9Pxl0XAsCrS/dwLlvTXImIlLR5G5IYErOBc9l5XNWgGgtGd6RetYpWxxK5ZCqsUmyGdAyivl9F\n",
              "TqZn8+7yfVbHEREpN0zT5PUf9/DY/G3kOU16htfhs3sj8a3obnU0kcuiwirFxtPNzhPdmgLw8aqD\n",
              "JKactziRiEjZl53n4KG5cbz9S/6OgvuuC+GN/uF4umnaKim9VFilWHVtVouOIX7kOJy89P0uq+OI\n",
              "iJRpaedzGfxJLIvijuJmM3i1dysevrExhqFpq6R0U2GVYmUYBk/e2gybAT/sOM66/SlWRxIRKZOS\n",
              "Us/Ta/oa1h9IpbKnG59ER9Avop7VsUSKhAqrFLsmtX24+6r6ADy7eAcOTXMlIlKktiad4Y5pa9h/\n",
              "MgN/Xy++Gt2Bq0NrWB1LpMiosEqJeKhrKD5ebuw+ns4XGxKtjiMiUmb8uOM4/T9Yx6lzOTTz92Hh\n",
              "mI40qe1jdSyRIqXCKiWiWiUPHrwhFIDXf9xLWmauxYlEREq/GWsOMnLWJrJynVwTWoN5ozpQ29fL\n",
              "6lgiRU6FVUrMwA71aVijEqkZObz9c7zVcURESi2H0+S5xTt5ZvFOTBPuigzk48HtqOzpZnU0kWKh\n",
              "wiolxt1u48lbmwEwY20C+0+esziRiEjpk5njYMznm/hkzUEAJtzchJfuaIGbXb/SpezSu1tK1LWN\n",
              "a9KlcQ3ynCYvfqdprkRELsWpc9nc9eF6lu44gYfdxtt3tWb0tQ01bZWUeSqsUuL+e2sz3GwGv+xO\n",
              "ZsXek1bHEREpFfafPMcd09YQl3SGKhXd+Xz4VdwWVsfqWCIlQoVVSlzDGpUZ1CEIgOe/3Umuw2lt\n",
              "IBERFxd7MJVe09aSlJpJYLWKzB8dRURQNatjiZQYFVaxxAPXN6JqRXf2JZ/j8/WHrI4jIuKyvo47\n",
              "wj0f/UZaZi6tA6uwcEwUDWtUtjqWSIlSYRVL+FZ05+EbGwPwxrJ4TmfkWJxIRMS1mKbJu8v38cAX\n",
              "ceQ4nNzcvDZzhrfHr7Kn1dFESpwKq1jmzoh6NKntTVpmLm8s22t1HBERl5HncPKfhb/z2tI9AAzr\n",
              "1IBpd7fBy91ucTIRa6iwimXc7Dae+mOaq89/S2TviXSLE4mIWO9cdh73frqRObFJ2Ax49vbm/PfW\n",
              "ZthsmglAyq9LKqxZWVn07NmT0NBQwsLC6Nq1K/v27QMgOTmZm2++mUaNGtGiRQtWrlxZ8LjiGJOy\n",
              "ISqkOjc2q4XDafL8tzsxTdPqSCIiljmelkXf99axYu9JKrjbeX9gOwZHBVkdS8Ryl7yHdcSIEezZ\n",
              "s4etW7fSo0cPhg0bBsDjjz9O+/btiY+PJyYmhgEDBpCbm1tsY1J2PNG9KR52G6viT/HlpsNWxxER\n",
              "scSuY2fp+e4adh07S/XKnswd2Z6uzWpZHUvEJVxSYfXy8qJbt24FExS3b9+ehIQEAObNm8eoUaMA\n",
              "iIiIoE6dOqxYsaLYxqTsqO9XiWGdGwDw2FfbeHLRdrJyHRanEhEpOSv3nqTve+s4fjaLkJqVWTgm\n",
              "ilYBVayOJeIyruiiw1OnTqVHjx6kpKSQm5tL7dq1C8aCgoJITEwslrELyc7OJjs7u9Ayh0Olp7R4\n",
              "qGsoDtPk/RUHmLn+EBsSUnlnQBtCamrqFhEp2+ZuSOQ/C7fjcJq0D67G+/e0w7eiu9WxRFzKZZ90\n",
              "9dJLL7Fv3z4mTZpUlHku26RJk/D19S10i42NtTqWXCR3u42JtzRlxpAI/Cp5sPt4Ore9vZovNybp\n",
              "uFYRKZNM02Ty0j1MmP87DqfJHa3r8unQSJVVkQu4rMI6efJkFixYwJIlS6hYsSJ+fn64ublx/Pjx\n",
              "gvskJCQQGBhYLGMXMnHiRNLS0grdIiMjL2f1xELXNq7Jkgc6E9XQj8xcB49+tY2H5sZxLjvP6mgi\n",
              "IkUmO8/Bg3PjeGd5/onL918XwpR+YXi6adoqkQu55MI6ZcoU5syZw08//USVKlUKlvft25f33nsP\n",
              "gA0bNnDkyBGuueaaYhv7vzw9PfHx8Sl0s9v1jV8a1fTxYua9V/HoTY2x2wwWxR3l1rdW8fvhNKuj\n",
              "iYhcsTPncxj4cSxfxx3FzWbwap9WjL+xccH5ISLyV4Z5CZ+3Hj58mHr16hEcHIy3tzeQXxR/++03\n",
              "Tpw4wcCBAzl48CAeHh688847dOnSBaBYxi7G+PHjmTJlykXfX1zPxoRU7p+zhaNpWbjbDR6/pSlD\n",
              "OwbpB7uIlEpJqeeJjoll/8kMvD3dmH5PWzo1qm51LBGXd0mFtbRRYS0bzpzPYcL8bSzdcQKA65vU\n",
              "5LW+YVSr5GFxMhGRixeXdIZhn27g1Lkc6vh68cmQCJrU9rE6lkipoCtdicurUtGD9+5py/M9muPh\n",
              "ZuPn3cncMnUl6w+kWB1NROSiLN1xnDs/WMepczk08/dh4diOKqsil0CFVUoFwzAY2CGIhWOiCK5R\n",
              "iRNnsxnw4XreXLYXh7PMfkggImXAJ6sPMmrWJrJynXRpXIN5ozpQy8fL6lgipYoKq5Qqzev4snhc\n",
              "J/q0DcBpwpvL4hnw4XqOpWVaHU1EpBCH0+TZxTt47tudmCYMuCqQDwe1o7LnFU2BLlIuqbBKqVPJ\n",
              "043JfcN4o38YlTzs/HYwlW5TV/HzrhNWRxMRASAzx8HoWZuIWZMAwOO3NOHFni1ws+vXrsjl0HeO\n",
              "lFp3tA7g2/s706KuD6fP53Lvpxt5bvFOsvN0hTMRsc7J9Gzu/HA9P+48gYebjXcGtGbUNQ01u4nI\n",
              "FVBhlVKtQfVKzB8dxdCODQD4ZM1Bek9fy8FTGRYnE5HyaF/yOXpNX8PWpDNUqejO58Ou4tZWdayO\n",
              "JVLqqbBKqefpZuep25rx0aB2VKnozvYjZ7n1rVV8HXfE6mgiUo78diCF3tPXkpSaSX2/iiwc05GI\n",
              "oGpWxxIpE1RYpcy4oVktljzQmcgG1cjIcfDAF3E8+uVWzufosq4iUry+jjvCwI9jScvMpU1gFRaM\n",
              "jqJB9UpWxxIpM1RYpUzx963AnOHteeD6RtgM+HLTYW59ezU7j561OpqIlEGmafLu8n088EUcOQ4n\n",
              "t7Sozezh7fGr7Gl1NJEyRYVVyhy7zeChrqF8Pqw9tXw8OXAyg57T1jBzXQJl+MJuIlLCch1OJi74\n",
              "ndeW7gFgeOcGvDugDV7udouTiZQ9KqxSZnVo6MeSB67muiY1yclz8uTXOxg1axNp53OtjiYipVx6\n",
              "Vi5DZ2zgiw1J2Ax4rkdznujeDJtNMwGIFAcVVinTqlXy4OPB7Xjy1ma42w2W7jhBt7dWselQqtXR\n",
              "RKSUOpaWSd/31rEq/hQV3O18MLAdgzoEWR1LpExTYZUyzzAM7u3UgAWjO1LfryJHzmTS7/31vLt8\n",
              "H05d1lVELsGOo2n0fHcNu4+nU8Pbk3kjO3BDs1pWxxIp81RYpdxoGeDLt/d1okd4HRxOk9eW7mHQ\n",
              "J7Ekp2dZHU1ESoEVe0/S7711nDibTaOalVk4JoqWAb5WxxIpF1RYpVzx9nLnzf7hvNanFRXc7aze\n",
              "d4puU1exYu9Jq6OJiAubE5vI0BkbyMhx0CHYj69GRxFQtaLVsUTKDRVWKXcMw6Bvu3osvq8TTWp7\n",
              "c+pcDoM/iWXSkl3kOpxWxxMRF+J0mrz6w24mLvgdh9OkV+u6fDo0Et8K7lZHEylXVFil3AqpWZlF\n",
              "YzsysH19AN5fcYC+760jKfW8xclExBVk5zl4cG4c037dD8AD1zfi9X5heLjpV6dISdN3nZRrXu52\n",
              "nu/ZgvfuaYOPlxtxSWfoNnUV3207ZnU0EbHQmfM5DPwolm+2HsXNZvBan1Y81DUUw9C0VSJWUGEV\n",
              "AW5u4c/3D3SmTWAV0rPzGDt7M/9Z+DtZuQ6ro4lICUtMOU+v6WuJTUjF29ONT4dG0rddPatjiZRr\n",
              "KqwifwioWpG5IzswtktDDANm/5bI7e+sZu+JdKujiUgJ2ZJ4mjumreHAyQzq+Hrx1egoOoZUtzqW\n",
              "SLmnwiryP9ztNh69qQkzh15F9cqe7D1xjtvfWc0XsYm6rKtIGffD9uPc+cF6UjJyaFHXh4VjO9K4\n",
              "trfVsUQEFVaRC+rUqDpLHuhM50bVycp18viC37lvzhbOZumyriJl0cerDzL6801k5znp0rgGc0d0\n",
              "oJaPl9WxROQPKqwif6OGtyefDonk8Vua4GYz+HbbMbq/tYq4pDNWRxORIuJwmjzzzQ6e/3Ynpgl3\n",
              "XxXIh4PaUcnTzepoIvI/VFhF/oHNZjDqmobMG9WBgKoVSErNpM/0tXy48oAu6ypSyp3PyWPkzE3M\n",
              "WJsAwMRbmvBCzxa42fWrUcTV6LtS5CK0CazKd/d3plvL2uQ5TV78fhdDP93AqXPZVkcTkctwMj2b\n",
              "uz5Yz7JdJ/Bws/HugDaMvKahpq0ScVGXVFjvv/9+goKCMAyDuLi4guVBQUE0btyY8PBwwsPDmTt3\n",
              "bsFYfHw8UVFRhIaGEhERwY4dO654TMQKvhXceXdAG166oyWebjZ+3XOSblNXsXbfKaujicgl2Jec\n",
              "zh3T1rD1cBpVK7oze9hVdG/lb3UsEfkHl1RY+/Tpw+rVq6lfv/5fxubOnUtcXBxxcXH079+/YPnI\n",
              "kSMZMWIEe/fuZcKECURHR1/xmIhVDMNgwFWBfDOuE41qViY5PZu7P/6N13/cQ54u6yri8tYfSKHX\n",
              "tLUcPp1JkF9FFozpSLugalbHEpF/YZiXMVdPUFAQixYtIjw8/IJf/yk5OZmQkBBSU1Nxc3PDNE38\n",
              "/f1ZvXo1Pj4+lzUWEhJy0TnHjx/PlClTLnX1RC5KZo6D577dwZzYJADa1a/K1LtaU7dKBYuTiciF\n",
              "LNpyhEe/2kquw6RNYBU+GhxBtUoeVscSkYtQZMewDho0iJYtW3Lvvfdy8uRJAJKSkvD398fNLf9s\n",
              "S8MwCAwMJDEx8bLH/k52djZnz54tdHM4dJUiKT4VPOxM6tWKt+9qjbenGxsPnabb1FUs3XHc6mgi\n",
              "8j9M0+Ttn+N5cG4cuQ6Tbi1rM3t4e5VVkVKkSArrypUr2bZtG5s3b6Z69eoMHjy4KJ72kkyaNAlf\n",
              "X99Ct9jY2BLPIeXPbWF1+O7+zoQF+JKWmcvImZt4+uvtuqyriAvIdTiZMH8br/+0F4CRVwfzzl1t\n",
              "8HK3W5xMRC5FkRTWwMBAANzd3XnwwQdZtWoVAPXq1ePYsWPk5eUB+X/lJiYmEhgYeNljf2fixImk\n",
              "paUVukVGRhbF6on8q0C/inw5KooRVwcD8Om6Q/Satpb9J89ZnEyk/ErPymXojA3M23gYmwHP92jO\n",
              "xG5Nsdk0E4BIaXPFhTUjI4MzZ84UfD1nzhxat24NQM2aNWnTpg2zZs0CYP78+QQEBBASEnLZY3/H\n",
              "09MTHx+fQje7XX9BS8nxcLPxn25NiRmSf1zczmNnue3t1czfdNjqaCLlztEzmfR9bx2r4k9Rwd3O\n",
              "h4PaMbBDkNWxROQyXdJJVyNHjuS7777j+PHj+Pn54e3tzY8//kjv3r1xOByYpklwcDBTp04lKCgI\n",
              "gD179hAdHU1KSgo+Pj7ExMTQsmXLKxq7WDrpSqxy4mwWD82NY+3+FAB6ta7Lcz1bUFlXzxEpdjuO\n",
              "pjF0xgZOnM2mhrcnnwyOoGWAr9WxROQKXNYsAaWFCqtYyeE0mf7rPqb8tBenCQ2qV+Ltu1rToq5+\n",
              "cYoUl+V7khn3+WYychyE1qrMJ9ERBFStaHUsEblCutKVSDGx2wzGXdeIuSM74O/rxcFTGfSatpaY\n",
              "NQcpw38nilhm9m+JDPt0Ixk5DqIa+vHlqCiVVZEyQoVVpJhFBFVjyQOd6dqsFjkOJ88u3snwzzZx\n",
              "OiPH6mgiZYLTafLKD7v5z8LfcThNercJYMaQSHwruFsdTUSKiAqrSAmoUtGDDwa25dnbm+Nht7Fs\n",
              "1wm6vbWK2IOpVkcTKdWych08MDeO6b/uB+DBGxoxuW8rPNz0602kLNF3tEgJMQyDwVFBLBwbRXD1\n",
              "ShxLy+LOD9bx1s/xOJw6REDkUp3OyGHgx7+xeOtR3GwGk/uG8eANoRiGpq0SKWtUWEVKWPM6viy+\n",
              "rxO92wTgNGHKT3u5+6P1nDibZXU0kVLjUEoGvaevZUPCaby93PhsaCR92gZYHUtEiokKq4gFKnm6\n",
              "8Xq/MKb0C6Oih531B1K5Zeoqlu9OtjqaiMvbnHiaO6at5cCpDOpWqcD80VFEhVS3OpaIFCMVVhEL\n",
              "9WoTwLf3daJ5HR9SM3IYMmMDL3y7k5w8p9XRRFzSD9uPcdcH60nNyKFFXR8WjokitJa31bFEpJip\n",
              "sIpYLLhGZRaMiSI6KgiAj1YfpM97azmUkmFtMBEXYpomH606wOjPN5Od5+S6JjWZO6IDNX28rI4m\n",
              "IiVAhVXEBXi62Xnm9uZ8OKgdVSq6s+1wGt3fWs03W49aHU3Ecg6nyTPf7OCF73ZhmjCwfX0+GNiW\n",
              "SrpynEi5ocIq4kK6NqvFkgc6ExlUjXPZedw/ZwsTvtrG+Zw8q6OJWOJ8Th4jZ27k03WHAHiiW1Oe\n",
              "69EcN7t+fYmUJ/qOF3Ex/r4VmD38Ku6/vhGGAXM3JnH7O2vYffys1dFESlRyehZ3frCeZbuS8XCz\n",
              "Me3uNgy/OljTVomUQyqsIi7IzW5jfNdQPh92FbV8PNmXfI4e76xh1vpDuqyrlAvxJ9K54921bDuc\n",
              "RtWK7swZfhXdWvpbHUtELKLCKuLCohpW5/v7O9OlcQ2y85z8d9F2xny+mbTMXKujiRSbtftP0Wv6\n",
              "Wo6cySTIryILx3Skbf1qVscSEQupsIq4OL/Knnw8OIL/dm+Ku91gyfbjdJu6is2Jp62OJlLkFmw+\n",
              "zOBPYknPyqNt/aosGNORoOqVrI4lIhZTYRUpBWw2g2Gdg5k/Oor6fhU5ciaTvu+tY/qv+3Hqsq5S\n",
              "BpimyVs/xzN+3lZyHSbdW/rz+bCrqFbJw+poIuICVFhFSpFWAVX49r5O3BZWB4fT5JUfdjM4JpaT\n",
              "6dlWRxO5bLkOJ499tY0pP+0FYOTVwbx9V2u83O0WJxMRV6HCKlLKeHu589ad4bzauxVe7jZWxZ/i\n",
              "lqmrWBV/0upoIpfsbFYuQ2I28OWmw9gMeL5nCyZ2a4rNppkAROT/U2EVKYUMw6BfRD2+va8TTWp7\n",
              "c+pcNoM+ieW1pbt1iICUGkfOZNJ3+jpW7ztFRQ87Hw+OYGD7+lbHEhEXpMIqUoqF1PRm0diO3NM+\n",
              "ENOEd5fv56lvtmvqK3F524+kcce7a9hzIp2a3p7MG9mBLk1qWh1LRFyUCqtIKeflbueFni15rU8r\n",
              "DANmrU/kya9VWsV1Ld+dTL/315Gcnk1orcosHNuRFnV9rY4lIi5MF2IWKSP6tquHzTB45KutzFqf\n",
              "iIHBcz2a66pA4lJmrT/EU19vx2lCxxA/pt/TFh8vd6tjiYiLU2EVKUN6tw3ABB79aisz1x/CMODZ\n",
              "21VaxXpOp8krS3fz/ooDAPRpG8BLd7TEw00f9InIv1NhFSlj+rQNwDRNHpu/jc/WHcIAnlFpFQtl\n",
              "5Tp4+MutfLftGADju4Zy33Uhek+KyEVTYRUpg/q2q4cJTJi/jU/XHcIwDJ6+rZkKgpS41IwcRny2\n",
              "kY2HTuNuN3ildyt6tQmwOpaIlDIqrCJlVL929cCECQu2MWNtAoBKq5SohFMZDJmxgYOnMvD2cuP9\n",
              "e9oSFVLd6lgiUgqpsIqUYf0i6gHw2Pz80moY8NStKq1S/DYdOs3wzzaSmpFD3SoVmDEkgka1vK2O\n",
              "JSKl1CUd7X7//fcTFBSEYRjExcUVLI+PjycqKorQ0FAiIiLYsWNHsY6JyMXrF1GPV3q3BCBmTQLP\n",
              "f7tLU15Jsfr+92Pc9eF6UjNyaFnXl4Vjo1RWReSKXFJh7dOnD6tXr6Z+/cJXIhk5ciQjRoxg7969\n",
              "TJgwgejo6GIdE5FL0z8ikJd75ZfWT9Yc5IXvVFql6JmmyYcrDzB29mZy8pzc0LQmc0e2p6a3l9XR\n",
              "RKSUM8zL+K0VFBTEokWLCA8PJzk5mZCQEFJTU3Fzc8M0Tfz9/Vm9ejU+Pj5FPhYSEnLROcePH8+U\n",
              "KVMudfVEyqw5sYlMXPA7AMM6NeCJ7k11eIAUiTyHk+e+3cln6w4BMKhDfZ6+rTl2m95fInLlrvgY\n",
              "1qSkJPz9/XFzy38qwzAIDAwkMTERX1/fIh/7u8KanZ1NdnZ2oWUOh+NKV0+kTLkrMv8Srv9Z+Dsf\n",
              "rT6IYcB/uqm0ypXJyM7j/jlb+Hl3MoYBT3Rryr2dGuh9JSJFpszM2Dxp0iR8fX0L3WJjY62OJeJy\n",
              "BlwVyIt3tADgw1UHmbRktw4PkMuWfDaL/h+s4+fdyXi62Xh3QBuGdQ5WWRWRInXFhbVevXocO3aM\n",
              "vLw8IP8YpsTERAIDA4tl7O9MnDiRtLS0QrfIyMgrXT2RMunuq+rzQs/80vrBygO8rNIql2HviXTu\n",
              "mLaW7UfOUq2SB7OHt6dbS3+rY4lIGXTFhbVmzZq0adOGWbNmATB//nwCAgIICQkplrG/4+npiY+P\n",
              "T6Gb3W6/0tUTKbPuaV+f5/8ore+vPMDLP6i0ysVbu+8Uvaev5ciZTBpUr8SC0VG0rV/V6lgiUkZd\n",
              "0klXI0eO5LvvvuP48eP4+fnh7e3Nvn372LNnD9HR0aSkpODj40NMTAwtW+afkVwcYxdLJ12J/LuZ\n",
              "6xJ48uv8aeNGXdOQCTc31se58o/mbzrM4wu2keswaVe/Kh8OakfVSh5WxxKRMuyyZgkoLVRYRS7O\n",
              "Z+sSeOqP0jr62oY8dpNKq/yVaZq89fM+3li2F4Durfx5vW8YXu76NEtEipeudCUiDOoQBMBTX+9g\n",
              "+q/7MYBHVVrlf+TkOfnPwt/5atNhIH9v/GM3NcamaatEpASosIoIkF9aTROe/mYH037dj2HAIzeq\n",
              "tAqkZeYy5vNNrNmXgs2A53u24O6r6v/7A0VEiogKq4gUGBwVhGmaPLN4J+8u34+BwcM3hqq0lmNH\n",
              "zmQyJCaWvSfOUdHDzrsD2tClSU2rY4lIOaPCKiKFRHdsgAk8u3gn7yzfh2HA+K4qreXR9iNpDJmx\n",
              "gZPp2dT09uST6Aha1PW1OpaIlEMqrCLyF0M6NsA04blvd/L2L/sAldby5pfdJxg3ewvncxw0ruVN\n",
              "zJAI6lSpYHUsESmnVFhF5IKGdsrf0/r8H6XVAB5SaS0XZq4/xNNfb8dpQqeQ6ky7pw0+Xu5WxxKR\n",
              "ckyFVUT+1r2dGmCaJi98t4u3ftkHhsH4rqFWx5Ji4nSavPzDbj5YeQCAvm0DeKlXS9ztZeYq3iJS\n",
              "Sqmwisg/GtY5GCC/tP4cX7CnVcqWrFwHD8/byne/HwPg4a6hjLsuRHvURcQlqLCKyL8a1jkY04QX\n",
              "v9/F1J/jMQx48AaV1rIiNSOH4Z9tZNOh07jbDV7t04o7WgdYHUtEpIAKq4hclOFXB2Ni8tL3u3lz\n",
              "WTwGBg/c0MjqWHKFDp7KYEhMLAkp5/HxcuP9ge3o0NDP6lgiIoWosIrIRRtxdUNMEyYt2c0by/Zi\n",
              "GHD/9SqtpdWmQ6kM+3Qjp8/nUrdKBWYMiaBRLW+rY4mI/IUKq4hckpHXNMQEXl6ymyk/7cUA7lNp\n",
              "LXW+23aMh+bFkZPnpFWALx8NbkdNby+rY4mIXJAKq4hcslHX5O9pfeWH3bz+U/6e1nHXqbSWBqZp\n",
              "8sHKA0xashuAG5rW4q27wqnooV8HIuK69BNKRC7L6GsbYmLy6g97mPzjXgzDYGyXEKtjyT/Iczh5\n",
              "ZvEOZq1PBCA6Kognb22G3aaZAETEtamwishlG3NtCKYJry3dw2tL9wCotLqojOw87puzhV92J2MY\n",
              "8N/uzRjaMUjTVolIqaDCKiJX5M+C+mdpNYz8Iiuu48TZLIbO2MCOo2fxdLMx9c5wbm7hb3UsEZGL\n",
              "psIqIldsbJcQTNNk8o97efWHPRgYjL62odWxBNhzPJ0hMbEcTcvCr5IHHw5uR5vAqlbHEhG5JCqs\n",
              "IlIkxl3XCNOE13/ayys/7MYw8k/OEuus2XeKUTM3kZ6dR3D1SsQMiaC+XyWrY4mIXDIVVhEpMvdd\n",
              "3wgTmPLTXl5eshuD/GmwpOR9tekwj8/fRp7TJCKoKh8MbEfVSh5WxxIRuSwqrCJSpO6/Pn9P6xvL\n",
              "9jJpSf6e1hFXq7SWFNM0eXNZPFN/jgfgtrA6vNanFV7udouTiYhcPhVWESlyD9zQCJP84vTS97sx\n",
              "MBh+dbDVscq8nDwnjy/YxoLNRwAYc21DHrmxMTZNWyUipZwKq4gUiwdvCMU0YerP8bz4/S4MA4Z1\n",
              "VmktLmmZuYyauYl1B1Kw2wye79GCAVcFWh1LRKRIqLCKSLF5qGsoJvDWz/G88N0uQKW1OBw+fZ4h\n",
              "MRuITz5HJQ87797dhmsb17Q6lohIkVFhFZFi9dANjcA0eeuXfSqtxeD3w2kM/XQDJ9OzqeXjySfR\n",
              "ETSv42t1LBGRIqXCKiLFyjCMgj2tb/9RWg3D4N5ODayOVur9vOsE42ZvITPXQZPa3sQMicDft4LV\n",
              "sUREipwKq4gUO8MwGN81/5jWd5bv4/lvd2IAQ1VaL9vMdQk8/c0OnCZ0blSdaXe3wdvL3epYIiLF\n",
              "wlaUTxYUFETjxo0JDw8nPDycuXPnAhAfH09UVBShoaFERESwY8eOgsdc7piIlC6GYfDwjaGM7ZI/\n",
              "xdVz3+4kZs1Bi1OVPk6nyUvf7+LJr/PLav929fgkOkJlVUTKtCItrABz584lLi6OuLg4+vfvD8DI\n",
              "kSMZMWIEe/fuZcKECURHRxfc/3LHRKT0MQyDR25szJg/Ltv67OKdzFBpvWhZuQ7GzdnMBysPAPDI\n",
              "jaG83Lsl7vYi/1EuIuJSDNM0zaJ6sqCgIBYtWkR4eHjBsuTkZEJCQkhNTcXNzQ3TNPH392f16tX4\n",
              "+Phc1lhISMhF5Rk/fjxTpkwpqtUTkSJimiavLt3D9F/3A/Ds7c0ZHBVkbSgXl3Ium+GfbWRz4hk8\n",
              "7DZe7dOKnq3rWh1LRKREFPkxrIMGDcI0TSIjI3n55ZdJSkrC398fN7f8lzIMg8DAQBITE/H19b2s\n",
              "sQsV1uzsbLKzswstczgcRb16IlIEDMPgsZsaY5rw3or9PP3NDgwDBnUIsjqaSzp4KoPomFgOpZzH\n",
              "x8uNDwa1o32wn9WxRERKTJF+jrRy5Uq2bdvG5s2bqV69OoMHDy7Kp/9HkyZNwtfXt9AtNja2xF5f\n",
              "RC6NYRhMuLkxI6/Jn+Lqqa93MHNdgrWhXNDGhFR6TVvDoZTzBFStwIIxUSqrIlLuFGlhDQzMv6qK\n",
              "u7s7Dz74IKtWraJevXocO3aMvLw8IP+jwMTERAIDAy977EImTpxIWlpaoVtkZGRRrp6IFDHDMHj8\n",
              "5iaM/OOyrU9+vYOZ6w9ZnMp1fLvtKAM++o3T53MJC/Bl4ZiOhNT0tjqWiEiJK7LCmpGRwZkzZwq+\n",
              "njNnDq1bt6ZmzZq0adOGWbNmATB//nwCAgIICQm57LEL8fT0xMfHp9DNbrcX1eqJSDExDIPHb2nC\n",
              "iD9L66LtzCrnpdU0Td5bsZ9xs7eQk+eka7NazBnRnhrenlZHExGxRJGddHXgwAF69+6Nw+HANE2C\n",
              "g4OZOnUqQUFB7Nmzh+joaFJSUvDx8SEmJoaWLVsCXPbYxdBJVyKlh2nmT9f04ar8WQNevKMFd19V\n",
              "3+JUJS/P4eTpb3bw+W+JAERHBfHkrc2w2wyLk4mIWKdIZwlwNSqsIqWLaZq8+N0uPlqdX1pfuqMl\n",
              "A6668GFAZVFGdh7jZm9m+Z6TGAY82b2ZLq4gIoKudCUiLsQwDJ7o3hQT+Hj1Qf6z8HeAclFaT5zN\n",
              "YuiMDew4ehYvdxtv9m/NzS1qWx1LRMQlqLCKiEsxDIP/dm+KacIna/JLq2HAXZFlt7TuPn6WoTEb\n",
              "OJqWhV8lDz4a3I7WgVWtjiUi4jJUWEXE5RiGwZO3NsXEJGZNAhMX/I4B3FkGS+vq+FOMnrWJ9Ow8\n",
              "gmtUYkZ0JIF+Fa2OJSLiUlRYRcQlGYbBU7c2AyBmTQKPL8jf09o/ouyU1nkbk/jPgt/Jc5pENqjG\n",
              "BwPbUqWih9WxRERcjgqriLisP0uracKMtX+UVgz6RdSzOtoVMU2TN37ay1u/7APg9rA6vNa3FZ5u\n",
              "mopPRORCVFhFxKUZhsHTt+XvaZ2xNoEJC7aBAf3alc7SmpPn5PH521iw5QgAY7s05OGujbFp2ioR\n",
              "kb+lwioiLu/P0mqaJp+uO8SE+dswgL6lrLSmnc9l5KyNrD+Qit1m8GLPFmXyuFwRkaKmwioipYJh\n",
              "GDxze3NM4LN1h3hs/jYMw6BP2wCro12UpNTzDJmxgX3J56jkYWfaPW25JrSG1bFEREoFFVYRKTUM\n",
              "w+DZ25tjmjBz/SEe/WorgMuX1m2HzzB0xkZOncumto8Xn0RH0KyOj9WxRERKDRVWESlVDMPguR7N\n",
              "MTGZtT6RR7/aigH0dtHSumznCe6bs4XMXAdNansTMyQCf98KVscSESlVVFhFpNQxDIPnbm+BacLn\n",
              "vyXyyFdbMQzo1ca1SuunaxN4dvEOnCZcHVqDdwe0xtvL3epYIiKljgqriJRKNpvB8z1aYAKzf0vk\n",
              "4S/zS+sdra0vrU6nyUvf7+Kj1QcBuDOiHs/3bIG73WZxMhGR0kmFVURKLZvN4IUe+Xta58Qm8vC8\n",
              "rRgY9Gxd17JMWbkOHvwijh92HAfg0ZsaM+bahhiGpq0SEblcKqwiUqrZ/pgeCkzmxCYxfl4chgE9\n",
              "wku+tKacy2bYZxvZkngGD7uN1/q2siSHiEhZo8IqIqVefmltiWnCFxuSeGhuHFCypfXAyXNEx2wg\n",
              "MfU8vhXc+WBgW64K9iux1xcRKctUWEWkTLDZDF66oyVQ8qV1Q0Iqwz/byJnzudSrVoGY6EhCalYu\n",
              "9tcVESkvVFhFpMz4s7SaJszdmF9aDcPg9rA6xfaai7ce5eF5W8lxOAmrV4WPB7ejemXPYns9EZHy\n",
              "SIVVRMoUm81gUq+WmJjM23iYB7/YggHcVsSl1TRN3ltxgFd+2A3Ajc1qMfXO1lTwsBfp64iIiAqr\n",
              "iJRBNpvBy71aYZrw5abDPDg3/0SsW1sVTWnNczh56psdzP4tEYChHRvwRPem2G2aCUBEpDiosIpI\n",
              "mWSzGbzSuxUm8NWmwzzwRRwGBt1b+V/R857LzmPs55tZsfckhgFP3dqMIR0bFE1oERG5IBVWESmz\n",
              "CkqrCfM3H+b+L7YAXHZpPZ6WxdAZG9h57Cxe7jbeurM1NzavXZSRRUTkAlRYRaRMs9sMXu3TChOT\n",
              "BZuPcP8XWzAM6Nby0krr7uNnGRKzgWNpWVSv7MFHgyMIr1eleEKLiEghKqwiUubZbQav9QkDExZs\n",
              "OcJ9c/JPxLrlIkvrqviTjJ61mXPZeTSsUYkZQyKpV61i8YYWEZECurC1iJQLdpvBa33D6NW6Lg6n\n",
              "yX1ztvDD9mP/+rh5G5IYErOBc9l5XNWgGgtGd1RZFREpYSqsIlJu/Fla72hdlzynybjZW/hh+/EL\n",
              "3tc0TV7/cQ+Pzd9GntOkZ3gdPrs3Et+K7iWcWkREXL6wxsfHExUVRWhoKBEREezYscPqSCJSitlt\n",
              "BpP7htEzvM4fpXXzX0prdp6Dh+bG8fYv+wC477oQ3ugfjqeb5lgVEbGCyxfWkSNHMmLECPbu3cuE\n",
              "CROIjo62OpKIlHJ2m8Hr/cLp8T+ldemO/NKadj6XwZ/EsijuKHabwSu9W/LwjY0xDM2xKiJiFZcu\n",
              "rMnJyWzcuJF77rkHgN69e5OUlMS+ffssTiYipZ3dZvB63zBuD8svrWM/38zM9YfoNX0N6w+kUtnT\n",
              "jZjoCPpHBFodVUSk3HPpWQKSkpLw9/fHzS0/pmEYBAYGkpiYSEhISKH7Zmdnk52dXWiZw+Eosawi\n",
              "Uvq42W1M6RcGwDdbj/Lkou0A+Pt68Ul0BE39fayMJyIif3DpPayXYtKkSfj6+ha6xcbGWh1LRFzc\n",
              "n6X1trD8y7Y29fdh4ZiOKqsiIi7EME3TtDrE30lOTiYkJITU1FTc3NwwTRN/f39Wr159UXtYn3zy\n",
              "SaZOnVqSkUWklHI6TeIOn6GZvw9e7jq5SkTElbj0HtaaNWvSpk0bZs2aBcD8+fMJCAj4S1kF8PT0\n",
              "xMfHp9DNbtcvHRG5ODabQZvAqiqrIiIuyKWPYQV4//33iY6O5qWXXsLHx4eYmBirI4mIiIhICXL5\n",
              "wtq4cWPWrVtndQwRERERsYhLHxIgIiIiIqLCKiIiIiIuTYVVRERERFyaCquIiIiIuDQVVhERERFx\n",
              "aSqsIiIiIuLSVFhFRERExKWpsIqIiIiIS1NhFRERERGXZpimaVodorj06tWLoKCgEnkth8NBbGws\n",
              "kZGR2O26Fvnl0Da8Mtp+V07b8Mpo+105bcMro+135azYhvXr1+eBBx74x/uU6cJaks6ePYuvry9p\n",
              "aWn4+PhYHadU0ja8Mtp+V07b8Mpo+105bcMro+135Vx1G+qQABERERFxaSqsIiIiIuLSVFhFRERE\n",
              "xKWpsBYRT09Pnn76aTw9Pa2OUmppG14Zbb8rp214ZbT9rpy24ZXR9rtyrroNddKViIiIiLg07WEV\n",
              "EREREZemwioiIiIiLk2FVURERERcmgqrhd58802OHz9udQwp5RISEnjvvff+8T7t2rXj119/LZlA\n",
              "pdzRo0fp3Lmz1TFcSlZWFj179iQ0NJSwsDC6du3Kvn37ALj22mtp0KAB4eHhhIeH88YbbxQ8buTI\n",
              "kbRs2ZLrrruOtLQ0AEzT5JZbbmH//v2WrItVgoKCaNy4ccF2mjt3LgDx8fFERUURGhpKREQEO3bs\n",
              "ACA3N5eePXsSFhZGr169yMvLA/L/L66++mpOnz5t2bpYISUlpWDbhYeHExoaipubG6mpqXoPlhMq\n",
              "rBZSYZWicDGFVS5enTp1WLVqldUxXM6IESPYs2cPW7dupUePHgwbNqxg7I033iAuLo64uDgeeugh\n",
              "ALZv3058fDy///471157LTNnzgTgo48+okuXLjRs2NCS9bDS3LlzC7ZT//79gfxCNWLECPbu3cuE\n",
              "CROIjo4GYOnSpVSrVo2tW7dSpUoVfvjhBwCef/55xo0bR9WqVa1aDUv4+fkVbLu4uDhGjBjBLbfc\n",
              "QrVq1QC9B8sDFdYLWLduHZ06dSIsLIxWrVrx9ddfs3HjRqKiomjVqhWRkZGsWbMGyC8LVapUKXjs\n",
              "uXPnMAyj4GvDMHjppZeIjIykQYMGxMTEAPDcc89x9OhR+vfvT3h4OHFxcSW5isXKMAxefPFFrrrq\n",
              "KoKCgli0aBGTJk2iXbt2NGrUqNCevqVLl9KpUyfatm1LZGQky5cvB+D48eN06dKFtm3b0rx5c8aN\n",
              "G4fT6QRgxowZ3HDDDdx11120bNmSdu3aceDAAStWtcRlZmbSv39/mjVrRlhYGDfeeCOjRo1iz549\n",
              "hIeHc/vttwOwdu1awsPDadGiBUOGDCnYO1OeXez78v9+T//d93B54uXlRbdu3Qp+trVv356EhIR/\n",
              "fIy7uzvZ2dk4nU4yMjLw8PDg2LFjzJkzh/Hjx5dAateXnJzMxo0bueeeewDo3bs3SUlJ7Nu3D3d3\n",
              "d86fPw/A+fPn8fDwYNu2bezevZt+/fpZGdslfPzxx9x7773/eB+9B/+/i/35l5eXx0033US7du1o\n",
              "3rw5AwYMICMjA4DPP/+cdu3akZ2djWma3Hbbbbz44osltxKmFJKSkmLWrFnTXLlypWmapulwOMwT\n",
              "J06Y9erVM3/44QfTNE1z1apVZq1atcz09HTz4MGDpq+vb8Hj09PTzf/drIA5efJk0zRNc9euXWbl\n",
              "ypXN3Nxc0zRNs379+uaWLVtKZsVKEGC++eabpmma5rJly8xKlSqZMTExpmma5rx588x27dqZpmma\n",
              "+/fvN9u3b2+mpaWZpmma8fHxZu3atc2srCwzMzPTTE9PN03TNPPy8szu3bubc+bMMU3TNGNiYkwf\n",
              "Hx/zwIEDpmma5oQJE8wRI0aU5CpaZsGCBeaNN95Y8HVKSoq5fPlyMywsrGBZdna2GRAQYP7000+m\n",
              "aZrm0qVLTcBcvnx5Cad1LRf7vvy/39P/9D1cXt1zzz3m/fffb5qmaV5zzTVm48aNzRYtWpj9+vUz\n",
              "9+/fX3C/J554wgwLCzP79OljZmRkmP379zc3btxoVWxL1a9f32zZsqXZokULc+jQoWZycrK5ceNG\n",
              "MzQ0tND9IiIizJ9//tl0OBzmsGHDzFatWpkjRowwc3Nzzeuvv95MSkqyaA1cx5o1a8xatWoVfB/q\n",
              "PfjvLvbnn9PpNE+dOlXw71GjRpmTJk0qeJ4RI0aYY8eONV999VXz5ptvNp1OZ8mtQ4m9Uinx7bff\n",
              "mp07dy60bNu2bWb9+vULLWvVqpW5atWqiyqsx44dK/i6SpUqBT9wynJh/XOdz5w5YwJmZmamaZqm\n",
              "mZCQULC93n33XbN69epmWFhYwa1OnTrm3r17zYyMDHPMmDFmq1atzJYtW5q1atUyJ0yYYJpmfmG9\n",
              "6aabCl5v0aJF5vXXX1+yK2mR/fv3m/Xq1TNHjx5tfvHFF+bZs2f/Uli3bt1qBgUFFXpccHCwCutF\n",
              "vi8vVFj/7nu4PHrxxRfN9u3bmxkZGaZpmmZiYqJpmvm/3N5++22zadOmF3zcokWLzEceecQ8deqU\n",
              "GR0dbfbq1cv84osvSiy31Q4dOmSapmnm5OSYjz32mHnLLbf8Y2H9v9544w3z7bffNg8ePGjedddd\n",
              "Zq9evS54v/Jg6NCh5qOPPlrwtd6D/+5if/45HA7ziSeeMMPDw80WLVqY9erVM/v371/wPJmZmWar\n",
              "Vq3MevXqmSdPnizRddAhAZfpz4/G3NzccDgcBcuzsrL+cl8vL6+Cf9vt9nLx8eyf62y32//y9Z/r\n",
              "b5omXbt2LXRc0pEjR2jUqBFTpkwhOTmZ3377jW3btjFgwIBC27Y8blOA4OBgdu7cyc0338yaNWto\n",
              "0aLFRZ188b+HqZRnF/O+/KfHXcx9y7LJkyezYMEClixZQsWKFQGoV68ekP8eGzduHAcOHCAlJaXQ\n",
              "486ePcvkyZN59tlnefPNN7nmmmuYO3cuzz33HJmZmSW+HlYIDAwE8j+mfvDBB1m1ahX16tXj2LFj\n",
              "hX4mJiYmFtz3T4cOHeL7779nzJgxPPnkk4wYMYIZM2Zw3333lfh6WO3cuXPMmzePoUOHFizTe/Di\n",
              "XMzPv9mzZ/PLL7+wYsUKfv/9dx555JFCv3uTk5M5ffo0TqeTM2fOlGh+Fdb/Iyoqivj4+IKTLpxO\n",
              "J7Vq1cLpdPLTTz8B+ccHHj9+nPDwcGrXro1pmuzcuROAzz777KJfy8fHp+CsxfLopptuYtmyZWzb\n",
              "tq1gWWxsLACnT5+mdu3aeHl5cfz4cb788kurYrqUw4cPYxgGt99+O5MnT8Y0Tfz8/Aq9j5o0aUJe\n",
              "Xl7B8cDLli3T2bByxaZMmcKcOXP46aefCo7xzcvL48SJEwX3mT9/PrVq1cLPz6/QYx9//HGeeuop\n",
              "KlasSEZGBoZhYBgGubm55OTklORqWCIjI6PQL/c5c+bQunVratasSZs2bZg1axaQv/0CAgIICQkp\n",
              "9PgHHniAN954A5vNVrD9/vx3eTN37lzCwsJo0qQJoPdgUTt9+jTVq1fHx8eH9PR0ZsyYUTCWl5fH\n",
              "nXfeyfPPP8+UKVPo168f2dnZJZbNrcReqZSoWrUqCxcu5OGHHyY9PR2bzcbzzz/PggULuP/++3n4\n",
              "4Yfx8vLiq6++onLlygC8/fbb3Hrrrfj5+dGnT5+Lfq3777+f4cOHU7FiRWbMmEF4eHgxrZVrCgkJ\n",
              "Yfbs2YwcOZLz58+Tk5ND69atmT17Ng888AB9+vShefPm1KlThxtuuMHquC7h999/Z+LEiZimSV5e\n",
              "HgMHDiQqKormzZvTokULgoOD+eabb5g7dy5jxozB4XAQERFBWFiY1dGlFDt8+DAPP/wwwcHBdOnS\n",
              "Bci/3vgvv/xC9+7dyc7OxmazUb16db755ptCj12zZg2ZmZl07doVgLFjx3LXXXfxyiuvMHDgQHx9\n",
              "fUt8fUraiRMn6N27Nw6HA9M0CQ4OLti58f777xMdHc1LL72Ej4/PX07qmz17NmFhYTRv3hzIL17D\n",
              "hw8nJyeHJ598ssTXxWoff/wxw4cPL/g6Oztb78EiNGjQIL7++msaN25MjRo16Ny5M4cOHQLy33uN\n",
              "Gzdm8ODBAKxYsYIHH3yQ6dOnl0g2wzRNs0ReSURERETkMuiQABERERFxaSqsIiIiIuLSVFhFRERE\n",
              "xKWpsIqIiIiIS1NhFRERERGXpsIqIiIiIi5NhVVEREREXJoKq4iIiIi4NBVWEREREXFpKqwiIiIi\n",
              "4tJUWEVERETEpf0/QnGjgWdeB/cAAAAASUVORK5CYII=\n",
              "\">\n",
              "      </div>\n",
              "      <script type=\"text/javascript\">\n",
              "        (() => {\n",
              "          const chartElement = document.getElementById(\"chart-f39b17a5-414e-4430-bdd0-5d80b0a741a9\");\n",
              "          async function getCodeForChartHandler(event) {\n",
              "            const chartCodeResponse =  await google.colab.kernel.invokeFunction(\n",
              "                'getCodeForChart', [\"chart-f39b17a5-414e-4430-bdd0-5d80b0a741a9\"], {});\n",
              "            const responseJson = chartCodeResponse.data['application/json'];\n",
              "            await google.colab.notebook.addCell(responseJson.code, 'code');\n",
              "          }\n",
              "          chartElement.onclick = getCodeForChartHandler;\n",
              "        })();\n",
              "      </script>\n",
              "      <style>\n",
              "        .colab-quickchart-chart-with-code  {\n",
              "            display: block;\n",
              "            float: left;\n",
              "            border: 1px solid transparent;\n",
              "        }\n",
              "\n",
              "        .colab-quickchart-chart-with-code:hover {\n",
              "            cursor: pointer;\n",
              "            border: 1px solid #aaa;\n",
              "        }\n",
              "      </style>"
            ]
          },
          "metadata": {}
        },
        {
          "output_type": "display_data",
          "data": {
            "text/plain": [
              "from matplotlib import pyplot as plt\n",
              "_df_4['rating'].plot(kind='line', figsize=(8, 4), title='rating')\n",
              "plt.gca().spines[['top', 'right']].set_visible(False)"
            ],
            "text/html": [
              "      <div class=\"colab-quickchart-chart-with-code\" id=\"chart-99f962d9-1ae8-44a3-a2d7-e83da347f617\">\n",
              "        <img style=\"width: 180px;\" src=\"data:image/png;base64,iVBORw0KGgoAAAANSUhEUgAAAqwAAAFuCAYAAABECkoSAAAAOXRFWHRTb2Z0d2FyZQBNYXRwbG90\n",
              "bGliIHZlcnNpb24zLjcuMSwgaHR0cHM6Ly9tYXRwbG90bGliLm9yZy/bCgiHAAAACXBIWXMAAA9h\n",
              "AAAPYQGoP6dpAAA0SUlEQVR4nO3de3TU9Z3/8dfM5MZtEki4moSY5kILIQFJmkWBpK0WsFWPqFSL\n",
              "mCoGa1m06BY5rd3tRfJzDxvkuN3q7rbxKCuFLi7aVmu1BoLUFqkGLC25CCHhGgi5QAiTZPL5/REy\n",
              "NgqYZC7fmeT5OOd7DjOf+c73/f06ia/zzWfeH5sxxggAAAAIUnarCwAAAACuhMAKAACAoEZgBQAA\n",
              "QFAjsAIAACCoEVgBAAAQ1AisAAAACGoEVgAAAAQ1AisAAACCGoEVAAAAQY3ACgAhYu3atbrhhhus\n",
              "LgMAAs7G0qwAEHySkpL0ve99T8uWLbO6FACwHHdYASDA2tvbrS4BAEIKgRUA/CwvL08rVqzQ1772\n",
              "NY0ePVorV67U7bffrquuukqjRo1Senq6fvKTn3hev2DBAtXW1mrFihUaOXKkpk6dKkn6l3/5F113\n",
              "3XW93vehhx7SXXfdpejoaCUkJOinP/1pr2OXlJQoJSVFo0aN0q233qoVK1YoLy8vIOcNAL5CYAWA\n",
              "ACgpKdHSpUvV0NCgf/u3f9PChQu1f/9+NTc3q7i4WKtWrdLrr78uSXrttdeUmJiof//3f9e5c+e0\n",
              "f//+y77vc889p2XLlqmxsVFPPfWUVqxYoerqaklSWVmZHnjgAT399NNqamrSsmXL9POf/zwg5wsA\n",
              "vkRgBYAAuOmmm7Rw4ULZ7XaNGDFC3/jGNxQTEyO73a4bb7xR8+fP1+9+97t+v++iRYv0hS98QXa7\n",
              "XYsWLdKYMWP05z//WZL0/PPP6+abb9aCBQvkcDi0cOFCLVy40NenBgB+R2AFgAC4+uqrPf92uVx6\n",
              "9NFHlZaWpujoaMXExOi1115TfX19v9930qRJvR6PGDFCZ8+elSQdPXpUkydP7jWelJTU/+IBwGIE\n",
              "VgAIALv9o1+3xcXF+tWvfqVf/epXamxsVFNTkxYsWKC/b9ry968fqKuuukqHDx/u9dzHHwNAKCCw\n",
              "AkCANTc3KzIyUmPHjlVXV5d++ctffmI6wIQJE1RRUeHVce6++269/PLLev311+V2u/Xb3/5Wr776\n",
              "qlfvCQBWILACQIA9+uijSkhI0OTJkzVp0iT9/ve/1y233NLrNd///vf18ssvKyYmRtOnTx/QcebN\n",
              "m6f/+I//0IMPPqiYmBg9++yz+vrXv66oqCgfnAUABA4LBwDAEHLLLbdo/PjxevbZZ60uBQD6jDus\n",
              "ADCIbd26VS0tLero6NDmzZv161//Wl//+tetLgsA+iXM6gIAAP7zq1/9Svfff7/a29s1efJk/fzn\n",
              "P9fcuXOtLgsA+oUpAQAAAAhqTAkAAABAUCOwAgAAIKgRWAEAABDUCKwAAAAIaoM6sG7YsMHqEgAA\n",
              "AOClQR1YWTMbAAAg9A3qwAoAAIDQR2AFAABAUCOwAgAAIKgRWAEAABDUCKwAAAAIagRWAAAABDUC\n",
              "KwAAAIIagRUAAABBjcAKAACAoEZgBQAAQFAjsPqQMcbqEgAAAAadAQfWkpIS2Ww2bdu2TZJUX1+v\n",
              "+fPnKzU1VdOmTVNZWZnntf4YCyb1LRe04sX3tGDDTkIrAACAjw0osNbU1Oi//uu/lJub63nuscce\n",
              "U25urqqqqlRSUqK77rpLHR0dfhsLJs5h4Xrjryd14MRZVZw8a3U5AAAAg0q/A2tXV5eWLVump59+\n",
              "WpGRkZ7nt2zZogceeECSlJ2drUmTJmnHjh1+GwsmUeEOzf5MrCSp9MApi6sBAAAYXPodWIuLi3Xt\n",
              "tdfqmmuu8TzX0NCgjo4OTZgwwfNcUlKSamtr/TJ2KS6XSy0tLb02t9vd39MbsLz0cZKk7RX1ATsm\n",
              "AADAUNCvwPqXv/xFW7du1fe+9z1/1TNgRUVFio6O7rXt3r07YMfPvxhY9xxuVMuF4Ju2AAAAEKr6\n",
              "FVh37typmpoapaamKikpSX/84x9VWFioLVu2KCwsTCdOnPC8tqamRomJiYqNjfX52KWsWbNGzc3N\n",
              "vbacnJz+nJ5XEmOHK3nsCLm7jHZVnQ7YcQEAAAa7fgXWb37zmzp+/LhqampUU1Oj3Nxc/ed//qe+\n",
              "+c1v6vbbb9czzzwjSXr33Xd19OhRzZs3T5L8MvZxkZGRcjqdvTaHw9Hf6+GVvLTuu6ylTAsAAADw\n",
              "mTBfvdGTTz6pu+++W6mpqYqIiNDGjRsVHh7ut7FglD9lrH6+65C2V5ySMUY2m83qkgAAAEKezQzi\n",
              "xqGrVq1ScXFxwI7n6nQr6wdvqK3Drd+svE5TJ0UH7NgAAACDFStd+VBkmEPXpnS3t9peQXsrAAAA\n",
              "XyCw+lhPe6vSA8xjBQAA8AUCq4/lpY+VJL1X26jm87S3AgAA8BaB1cfiRw9X6riR6jJSWRXTAgAA\n",
              "ALxFYPWD/Ck9q14RWAEAALxFYPWDvLTuaQE7KuvV1TVomzAAAAAEBIHVD2YljdGICIdOn2vXX441\n",
              "W10OAABASCOw+kFEmF3XpsRJYloAAACAtwisftIzj5VlWgEAALxDYPWTnvZW5XVNOtPabnE1AAAA\n",
              "oYvA6icTo4dpyoRRMkbaSXsrAACAASOw+hGrXgEAAHiPwOpH+RenBZRVnZab9lYAAAADQmD1o5mT\n",
              "R2tUZJjOtLZr35Emq8sBAAAISQRWPwp32DUnrbu9VSntrQAAAAaEwOpneWnd81h30N4KAABgQAis\n",
              "fjbv4jzWvUeadeqsy+JqAAAAQg+B1c/GO6M0dZJTklRWybQAAACA/iKwBkDPIgLbCawAAAD9RmAN\n",
              "gPyL/VjLKk+p091lcTUAAAChhcAaAFkJMYoeFq7mtg7tpb0VAABAvxBYAyDMYdec1IvtrQ4wLQAA\n",
              "AKA/CKwB0jMtoJT2VgAAAP1CYA2QuWndX7zaf6xF9S0XLK4GAAAgdBBYA2TsqEhNj4+WRLcAAACA\n",
              "/iCwBlDexWkB25kWAAAA0Gf9Dqw33HCDpk+frqysLM2ZM0fvv/++JCkpKUnp6enKyspSVlaWNm/e\n",
              "7NmnqqpKs2fPVlpamrKzs7V//36vx0JRTz/WnVWn1UF7KwAAgD7pd2DdsmWL9u3bp/Lycq1atUoF\n",
              "BQWesc2bN6u8vFzl5eVavHix5/nly5ersLBQlZWVWr16da99BjoWijLjYzR6eLjOXujUe4cbrS4H\n",
              "AAAgJPQ7sMbExHj+3dzcLJvNdsXX19fXa8+ePVqyZIkkadGiRaqrq1N1dfWAx0KVw27TvDRWvQIA\n",
              "AOiPAc1hXbp0qRISEvT444/rhRde6PV8RkaG7rvvPp061R3I6urqNHHiRIWFhUmSbDabEhMTVVtb\n",
              "O+CxS3G5XGppaem1ud3ugZyeX/XMYy09wDxWAACAvhhQYH3++edVV1enH//4x1q9erUkqaysTPv2\n",
              "7dN7772nuLg43XPPPT4t9NMUFRUpOjq617Z79+6A1tAXc9PGymaTDpw4q+PNbVaXAwAAEPS86hJw\n",
              "zz33qLS0VA0NDUpMTJQkhYeH6+GHH9bOnTslSQkJCTp+/Lg6OzslScYY1dbWKjExccBjl7JmzRo1\n",
              "Nzf32nJycrw5Pb8YMyJCmfExkqQdFUwLAAAA+DT9CqxNTU06duyY5/G2bdsUGxurqKgoNTU1eZ7f\n",
              "tGmTZsyYIUkaN26cZs6cqY0bN0qStm7dqvj4eKWkpAx47FIiIyPldDp7bQ6Hoz+nFzCsegUAANB3\n",
              "Yf15cXNzs26//Xa1tbXJbrdr7Nix+vWvf62TJ09q0aJFcrvdMsYoOTlZzz//vGe/Z599VgUFBVq7\n",
              "dq2cTqdKSkq8Hgtl+VPGav2blXq76rTaO7sUEUY7XAAAgMuxGWOM1UX4y6pVq1RcXGx1GZ/Q1WWU\n",
              "s/ZNnT7Xrhfv/7xmfybO6pIAAACCFrf2LGC32zS3p70V81gBAACuiMBqkXyWaQUAAOgTAqtF5qTG\n",
              "yW6TKk+e05HG81aXAwAAELQIrBaJGR6hmYmjJTEtAAAA4EoIrBbKS2ceKwAAwKchsFqoZ5nWP3x4\n",
              "Wq7O4FtGFgAAIBgQWC00dZJT40ZF6ny7W+8earS6HAAAgKBEYLWQzWbTvIvtrVj1CgAA4NIIrBbL\n",
              "n8IyrQAAAFdCYLXYdalxcthtOniqVbUNtLcCAAD4OAKrxZxR4bpm8sX2VpXcZQUAAPg4AmsQ6Fn1\n",
              "qvQAgRUAAODjCKxBoKcf6zsHG3Shg/ZWAAAAf4/AGgSmTBilCc4oXejo0h8PNlhdDgAAQFAhsAYB\n",
              "m82m/CmsegUAAHApBNYgMS+tex7rdtpbAQAA9EJgDRLXpsQq3GFTTcN5HTrdanU5AAAAQYPAGiRG\n",
              "RYUrO2mMJO6yAgAA/D0CaxDp6RZQyjxWAAAADwJrEOnpx/rHgw1qa6e9FQAAgERgDSop40bqqphh\n",
              "au/s0jsHT1tdDgAAQFAgsAYRm8320bSAA0wLAAAAkAisQcezTGtFvYwxFlcDAABgPQJrkJmdEqsI\n",
              "h11HGtv04SnaWwEAABBYg8zwiDB9Ppn2VgAAAD0IrEEoL71n1SvmsQIAAPQ7sN5www2aPn26srKy\n",
              "NGfOHL3//vuSpKqqKs2ePVtpaWnKzs7W/v37Pfv4Y2ww6/ni1Z8ONajV1WlxNQAAANbqd2DdsmWL\n",
              "9u3bp/Lycq1atUoFBQWSpOXLl6uwsFCVlZVavXq153l/jQ1myXEjlDhmuDrcRruqaW8FAACGtn4H\n",
              "1piYGM+/m5ubZbPZVF9frz179mjJkiWSpEWLFqmurk7V1dV+GRvs/r691fZKpgUAAIChLWwgOy1d\n",
              "ulSlpaWSpFdffVV1dXWaOHGiwsK6385msykxMVG1tbWKjo72+VhKSsonanK5XHK5XL2ec7tDd7Wo\n",
              "/PRxev6dw9p+oLu9lc1ms7okAAAASwzoS1fPP/+86urq9OMf/1irV6/2dU0DUlRUpOjo6F7b7t27\n",
              "rS5rwHKTYxUZZtex5guqqj9ndTkAAACW8apLwD333KPS0lLFx8fr+PHj6uzs/oKQMUa1tbVKTExU\n",
              "QkKCz8cuZc2aNWpubu615eTkeHN6lhoW4VBucqwkqfQA7a0AAMDQ1a/A2tTUpGPHjnkeb9u2TbGx\n",
              "sRo3bpxmzpypjRs3SpK2bt2q+Ph4paSk+GXsUiIjI+V0OnttDoej/1ckiOT3LNNKP1YAADCE2Uw/\n",
              "1v88fPiwbr/9drW1tclut2vs2LFat26dsrKyVFFRoYKCAjU0NMjpdKqkpEQZGRmS5Jexvli1apWK\n",
              "i4v7cz2CSs3pVuWt264wu03vf/96jYoKt7okAACAgOtXYA01oR5YJSl/3XYdOt2qZ5bM1PxpE60u\n",
              "BwAAIOBY6SrI9bS3Kj1AeysAADA0EViDnGeZ1sru9lYAAABDDYE1yH3+6jGKCrfrZItLfzt+1upy\n",
              "AAAAAo7AGuSiwh269jNxkrrvsgIAAAw1BNYQ4FmmlXmsAABgCCKwhoCeeax/rm1Uc1uHxdUAAAAE\n",
              "FoE1BCSMGa6UcSPl7jJ6u+q01eUAAAAEFIE1ROSlseoVAAAYmgisISJ/ysX2VhWn1NVFeysAADB0\n",
              "EFhDxKyk0Roe4dDpcy799XiL1eUAAAAEDIE1RESGOXRtSnd7q9IDTAsAAABDB4E1hOR7Vr2ivRUA\n",
              "ABg6CKwhpKcf6/u1jWpsbbe4GgAAgMAgsIaQSTHDlD5+lLqMVFbFXVYAADA0EFhDTN6U7rusOyoI\n",
              "rAAAYGggsIaYvLSP5rHS3goAAAwFBNYQMytptEZGhulMa7v2HW22uhwAAAC/I7CGmHCHXdddbG+1\n",
              "nVWvAADAEEBgDUH5U3qWaWUeKwAAGPwIrCEo72I/1n1HmtRwzmVxNQAAAP5FYA1B451R+uxEpwzt\n",
              "rQAAwBBAYA1R+RcXESg9QGAFAACDG4E1ROVP6Z4WUFZ1Sm7aWwEAgEGMwBqiZiTEyBkVpqbzHSqv\n",
              "a7K6HAAAAL8hsIaoMIddc9J6Vr2ivRUAABi8+hVYL1y4oFtuuUVpaWnKzMzU9ddfr+rqaklSXl6e\n",
              "rr76amVlZSkrK0vr16/37FdfX6/58+crNTVV06ZNU1lZmddjkPLSaG8FAAAGv37fYS0sLFRFRYX2\n",
              "7t2rm2++WcuWLfOMrV+/XuXl5SovL9e3v/1tz/OPPfaYcnNzVVVVpZKSEt11113q6OjwagzSvItf\n",
              "vPrgaLPqz16wuBoAAAD/6FdgjYqK0sKFC2Wz2SRJubm5qqmp+dT9tmzZogceeECSlJ2drUmTJmnH\n",
              "jh1ejUEaNypKGVdFS5LKKk9bXA0AAIB/eDWHdcOGDbr55ps9jx977DFlZGRo8eLFOnjwoCSpoaFB\n",
              "HR0dmjBhgud1SUlJqq2tHfDYpbhcLrW0tPTa3G63N6cXEvJ62lsxjxUAAAxSAw6sa9euVXV1tYqK\n",
              "iiRJL7zwgg4cOKB9+/Zpzpw5+spXvuKzIvuiqKhI0dHRvbbdu3cHtAYr9Kx6tbPylDrdXRZXAwAA\n",
              "4HsDCqzr1q3TSy+9pNdee03Dhw+XJCUkJEiSbDabVqxYoYMHD6qhoUGxsbEKCwvTiRMnPPvX1NQo\n",
              "MTFxwGOXsmbNGjU3N/facnJyBnJ6ISUrIUYxw8PVcqFT79PeCgAADEL9DqzFxcXatGmT3njjDcXE\n",
              "xEiSOjs7dfLkSc9rtm7dqvHjxys2NlaSdPvtt+uZZ56RJL377rs6evSo5s2b59XYx0VGRsrpdPba\n",
              "HA5Hf08v5DjsNs1N7Vn1imkBAABg8Anrz4uPHDmiRx55RMnJycrPz5fUHRTfeust3XjjjXK5XLLb\n",
              "7YqLi9Mrr7zi2e/JJ5/U3XffrdTUVEVERGjjxo0KDw/3agwfyZ8yVq/sPabtFaf0nflTrC4HAADA\n",
              "p2zGmEG7rueqVatUXFxsdRl+13DOpVlPvCljpD+u+aImREdZXRIAAIDPsNLVIBA7MlLT42MkSTsq\n",
              "mRYAAAAGFwLrIJF/sb3Vdla9AgAAgwyBdZDwtLeqOq0O2lsBAIBBhMA6SEy/KlqxIyJ0ztWpPTWN\n",
              "VpcDAADgMwTWQcJut2le2sVpAcxjBQAAgwiBdRCZ1zOP9QDzWAEAwOBBYB1E5qaOld0mVZw8q2NN\n",
              "bVaXAwAA4BME1kFk9IgIZSXESKJbAAAAGDwIrINM/sVuAaUVzGMFAACDA4F1kMmf0h1Y/1B9Wq5O\n",
              "t8XVAAAAeI/AOsh8bqJTcSMj1drupr0VAAAYFAisg4zdblPexW4BpQeYFgAAAEIfgXUQ6pnHur2S\n",
              "L14BAIDQR2AdhK5LjZPDblN1/TnVnTlvdTkAAABeIbAOQtHDwnVN4mhJ3GUFAAChj8A6SH206hXz\n",
              "WAEAQGgjsA5SPfNYd314Whc6aG8FAABCF4F1kPrsxFEa74zUhY4u7T50xupyAAAABozAOkjZbDbl\n",
              "pbHqFQAACH0E1kEsf8rFeawVfPEKAACELgLrIHZtSpzC7DYdOt2qmtOtVpcDAAAwIATWQWxUVLhm\n",
              "JV1sb8W0AAAAEKIIrIMcq14BAIBQR2Ad5PIuBtZ3PmxQWzvtrQAAQOghsA5yaeNHalJ0lFydXfrj\n",
              "wQarywEAAOg3AusgZ7PZlDfl4rQA5rECAIAQ1K/AeuHCBd1yyy1KS0tTZmamrr/+elVXV0uS6uvr\n",
              "NX/+fKWmpmratGkqKyvz7OePMfRdXlp3e6vSilMyxlhcDQAAQP/0+w5rYWGhKioqtHfvXt18881a\n",
              "tmyZJOmxxx5Tbm6uqqqqVFJSorvuuksdHR1+G0PfXZsSp3CHTbVnzusg7a0AAECI6VdgjYqK0sKF\n",
              "C2Wz2SRJubm5qqmpkSRt2bJFDzzwgCQpOztbkyZN0o4dO/w2hr4bERmmz18dK4lFBAAAQOjxag7r\n",
              "hg0bdPPNN6uhoUEdHR2aMGGCZywpKUm1tbV+GbsUl8ullpaWXpvbzbfie+Sl96x6xTxWAAAQWgYc\n",
              "WNeuXavq6moVFRX5sp4BKyoqUnR0dK9t9+7dVpcVNHraW/3p4Bmdb++0uBoAAIC+G1BgXbdunV56\n",
              "6SW99tprGj58uGJjYxUWFqYTJ054XlNTU6PExES/jF3KmjVr1Nzc3GvLyckZyOkNSp8ZO0Lxo4ep\n",
              "3d2lP1TT3goAAISOfgfW4uJibdq0SW+88YZiYmI8z99+++165plnJEnvvvuujh49qnnz5vlt7OMi\n",
              "IyPldDp7bQ6Ho7+nN2jZbDbPqlelTAsAAAAhJKw/Lz5y5IgeeeQRJScnKz8/X1J3UPzTn/6kJ598\n",
              "UnfffbdSU1MVERGhjRs3Kjw8XJL8Mob+y58yVi/88bC2X2xv1fPlOQAAgGBmM4O4MeeqVatUXFxs\n",
              "dRlBo63drcwf/k7tnV1649tzlTp+lNUlAQAAfCpWuhpChkU4lJvc3d6KaQEAACBUEFiHmHxPeyv6\n",
              "sQIAgNBAYB1ietpbvVtzRudctLcCAADBj8A6xFwdN0JJscPV4TbaVX3a6nIAAAA+FYF1COq5y8qq\n",
              "VwAAIBQQWIegnmVaSw90t7cCAAAIZgTWISg3OVZR4XadaLmgipNnrS4HAADgigisQ1BUuEP/0NPe\n",
              "6gDdAgAAQHAjsA5R+VOYxwoAAEIDgXWIykvrDqx7Djeq5UKHxdUAAABcHoF1iEqMHa7ksSPk7jJ6\n",
              "u4r2VgAAIHgRWIewfNpbAQCAEEBgHcI87a0qaG8FAACCF4F1CMu5eoyGhTt06qxL+4+1WF0OAADA\n",
              "JRFYh7DIMIeuTYmTJO2opL0VAAAITgTWIe6jVa+YxwoAAIITgXWI6wms79U2qvk87a0AAEDwIbAO\n",
              "cfGjhytt/Eh1GamsimkBAAAg+BBYobyL7a1KaW8FAACCEIEVnmkBZZWn1NVFeysAABBcCKzQrMlj\n",
              "NCLCodPn2vWXY81WlwMAANALgRWKCLPrutTu9lalB5jHCgAAgguBFZL+bpnWSuaxAgCA4EJghSRp\n",
              "3sV5rOV1TTrT2m5xNQAAAB8hsEKSNDF6mKZMGCVjpJ20twIAAEGkX4F15cqVSkpKks1mU3l5uef5\n",
              "pKQkpaenKysrS1lZWdq8ebNnrKqqSrNnz1ZaWpqys7O1f/9+r8fgH/lTLra3YtUrAAAQRPoVWG+7\n",
              "7Ta9/fbbmjx58ifGNm/erPLycpWXl2vx4sWe55cvX67CwkJVVlZq9erVKigo8HoM/pGX1j0tYEfl\n",
              "KblpbwUAAIJEvwLr3LlzFR8f3+fX19fXa8+ePVqyZIkkadGiRaqrq1N1dfWAx+A/MyeP1qioMDWe\n",
              "79C+I01WlwMAACDJh3NYly5dqoyMDN133306dap7DmRdXZ0mTpyosLAwSZLNZlNiYqJqa2sHPHY5\n",
              "LpdLLS0tvTa32+2r0xsSwh12zelpb1XBPFYAABAcfBJYy8rKtG/fPr333nuKi4vTPffc44u37Zei\n",
              "oiJFR0f32nbv3h3wOkJdzzKt21mmFQAABAmfBNbExERJUnh4uB5++GHt3LlTkpSQkKDjx4+rs7NT\n",
              "kmSMUW1trRITEwc8djlr1qxRc3Nzry0nJ8cXpzek9Mxj3XekWafOuiyuBgAAwAeBtbW1VU1NTZ7H\n",
              "mzZt0owZMyRJ48aN08yZM7Vx40ZJ0tatWxUfH6+UlJQBj11OZGSknE5nr83hcHh7ekPOOGeUpk5y\n",
              "SpLKKpkWAAAArGczxvT56+DLly/Xb37zG504cUKxsbEaNWqUfve732nRokVyu90yxig5OVkbNmxQ\n",
              "UlKSJKmiokIFBQVqaGiQ0+lUSUmJMjIyvBrrq1WrVqm4uLhf+0Ba93qF/r20Wl/NnKSn75xhdTkA\n",
              "AGCI61dgDTUE1oH58+EzWvTTdxQ9LFx//t6XFOZgfQkAAGAdkgg+ISthtKKHhau5rUPldU1WlwMA\n",
              "AIY4Ais+wWG3ae7FL19tp70VAACwGIEVl9TTLaCU9lYAAMBiBFZc0rz07sC6/1iL6lsuWFwNAAAY\n",
              "ygisuKS4kZHKjI+WJG2nvRUAALAQgRWXNY9VrwAAQBAgsOKy8i9OC9hZdVod7i6LqwEAAEMVgRWX\n",
              "NT0+RmNGROjshU69d7jR6nIAAMAQRWDFZTnsNs1NjZMkldLeCgAAWITAiivKn8I8VgAAYC0CK65o\n",
              "TupY2WzSgRNndby5zepyAADAEERgxRWNGRGhrIQYSax6BQAArEFgxafKp70VAACwEIEVnyrvYnur\n",
              "t6tOq72T9lYAACCwCKz4VNMmRStuZIRa293ac/iM1eUAAIAhhsCKT2W32zQvrWdaAPNYAQBAYBFY\n",
              "0Sc90wJKDzCPFQAABBaBFX0yN3Ws7Dapqv6cjjSet7ocAAAwhBBY0SfRw8M1M3G0JKYFAACAwCKw\n",
              "os8+WvWKwAoAAAKHwIo+65nHuqv6tFydbourAQAAQwWBFX32uYlOjRsVqbYOt3Yfor0VAAAIDAIr\n",
              "+sxms3nusjItAAAABAqBFf3Ss0xrKcu0AgCAACGwol+uTY1TmN2mg6daVdtAeysAAOB/BFb0izMq\n",
              "XNdMvtjeqpK7rAAAwP/6FVhXrlyppKQk2Ww2lZeXe56vqqrS7NmzlZaWpuzsbO3fv9+vY7BWXs+0\n",
              "AFa9AgAAAdCvwHrbbbfp7bff1uTJk3s9v3z5chUWFqqyslKrV69WQUGBX8dgrfwp3V+8eudggy50\n",
              "0N4KAAD4l80YY/q7U1JSkrZt26asrCzV19crJSVFZ86cUVhYmIwxmjhxot5++205nU6fj6WkpPS5\n",
              "zlWrVqm4uLi/p4dPYYzR7P/3lo43X9Bz38j23HEFAADwB6/nsNbV1WnixIkKCwuT1N36KDExUbW1\n",
              "tX4ZuxyXy6WWlpZem9vN3T9/oL0VAAAIpEHzpauioiJFR0f32nbv3m11WYNWz13V7bS3AgAAfuZ1\n",
              "YE1ISNDx48fV2dkpqfvPxbW1tUpMTPTL2OWsWbNGzc3NvbacnBxvTw+XcW1KnMIdNtU0nNeh061W\n",
              "lwMAAAYxrwPruHHjNHPmTG3cuFGStHXrVsXHxyslJcUvY5cTGRkpp9PZa3M4HN6eHi5jZGSYspPG\n",
              "SKJbAAAA8K9+felq+fLl+s1vfqMTJ04oNjZWo0aNUnV1tSoqKlRQUKCGhgY5nU6VlJQoIyNDkvwy\n",
              "1ld86cq//qvsoJ549W+amzZWz9/L3WwAAOAfA+oSECoIrP5VXX9WXyouU0SYXXu/f4OGRXBHGwAA\n",
              "+N6g+dIVAu8zY0fqqphhau/s0jsHT1tdDgAAGKQIrBgwm83mWUSg9ADtrQAAgH8QWOGVvLSLy7RW\n",
              "1GsQzy4BAAAWIrDCK7NTYhXhsOtIY5s+PEV7KwAA4HsEVnhleESYPp/c3d6KRQQAAIA/EFjhtZ5V\n",
              "r0oJrAAAwA8IrPBafnr3F692HzqjVlenxdUAAIDBhsAKr10dN0KTY4erw220q5r2VgAAwLcIrPCa\n",
              "zWZTXlr3XdbtlbS3AgAAvkVghU/kTemex7r9AO2tAACAbxFY4RP/kByryDC7jjVfUOXJc1aXAwAA\n",
              "BhECK3wiKtyhf/hMrCTaWwEAAN8isMJn8mlvBQAA/IDACp/Ju9jeak9No85e6LC4GgAAMFgQWOEz\n",
              "k2NHKDluhDq7aG8FAAB8h8AKn/KsenWA9lYAAMA3CKzwqZ5pAdsraW8FAAB8g8AKn8q5eoyGhTt0\n",
              "ssWlvx0/a3U5AABgECCwwqeiwh2afbG9Fd0CAACALxBY4XM9q17tqGAeKwAA8B6BFT6Xl9Y9j/XP\n",
              "tY1qPk97KwAA4B0CK3wuYcxwpYwbKXeX0c5q7rICAADvEFjhF/k93QKYFgAAALxEYIVf9CzTur3i\n",
              "lLq6aG8FAAAGjsAKv5iVNEYjIhw6fc6lvx5vsbocAAAQwgis8IuIMLuuTYmTJJUeoL0VAAAYOJ8G\n",
              "1qSkJKWnpysrK0tZWVnavHmzJKmqqkqzZ89WWlqasrOztX//fs8+Ax1D8PMs00o/VgAA4AWf32Hd\n",
              "vHmzysvLVV5ersWLF0uSli9frsLCQlVWVmr16tUqKCjwvH6gYwh+Pcu0ltc1qbG13eJqAABAqPL7\n",
              "lID6+nrt2bNHS5YskSQtWrRIdXV1qq6uHvAYQsOkmGGaMmGUuoxUVkW3AAAAMDA+D6xLly5VRkaG\n",
              "7rvvPp06dUp1dXWaOHGiwsLCJEk2m02JiYmqra0d8NiluFwutbS09NrcbrevTw/9NI/2VgAAwEs+\n",
              "DaxlZWXat2+f3nvvPcXFxemee+7x5dtfUVFRkaKjo3ttu3fvDtjxcWk97a12VNLeCgAADIxPA2ti\n",
              "YqIkKTw8XA8//LB27typhIQEHT9+XJ2dnZIkY4xqa2uVmJg44LFLWbNmjZqbm3ttOTk5vjw9DMA1\n",
              "k0drVGSYzrS2a9/RZqvLAQAAIchngbW1tVVNTU2ex5s2bdKMGTM0btw4zZw5Uxs3bpQkbd26VfHx\n",
              "8UpJSRnw2KVERkbK6XT22hwOh69ODwMU7rDrutTu9lbb6RYAAAAGwGaM8cnfaQ8ePKhFixbJ7XbL\n",
              "GKPk5GRt2LBBSUlJqqioUEFBgRoaGuR0OlVSUqKMjAxJGvBYX6xatUrFxcW+OD14Ycu7dfrO1n3K\n",
              "TIjRy9+61upyAABAiPFZYA1GBNbgcLLlgj6/9vey2aQ93/2SYkdGWl0SAAAIIax0Bb8b74zS5yY6\n",
              "ZWhvBQAABoDAioDIn9Ld3qr0AIEVAAD0D4EVAdGzTGtZ1Sm5aW8FAAD6gcCKgJiRECNnVJiazneo\n",
              "vK7J6nIAAEAIIbAiIMIcds1N61n1ivZWAACg7wisCJieaQEs0woAAPqDwIqAmXfxDusHR5tVf/aC\n",
              "xdUAAIBQQWBFwIwdFamMq6IlSTu4ywoAAPqIwIqAyk+/OI+1ksAKAAD6hsCKgMqb0j2PdWflKXW6\n",
              "uyyuBgAAhAICKwIqMz5Go4eHq+VCp96nvRUAAOgDAisCymG3edpblR6gvRUAAPh0BFYEXP7F9lal\n",
              "fPEKAAD0AYEVATc3baxsNulvx1t0opn2VgAA4MoIrAi4MSMilBkfI0naUcm0AAAAcGUEVlgiL71n\n",
              "HivTAgAAwJURWGGJnnmsb1efVgftrQAAwBUQWGGJjKuiFTsiQudcndpT02h1OQAAIIgRWGEJu92m\n",
              "eWk9q14xjxUAAFwegRWW6Vn1ajvzWAEAwBUQWGGZualxstukipNndaypzepyAABAkCKwwjIxwyM0\n",
              "I3G0JGk7iwgAAIDLILDCUvk97a0qmMcKAAAujcAKS+VdbG+1q/q0XJ1ui6sBAADBiMAKS31uolNj\n",
              "R0XqfLub9lYAAOCSgj6wVlVVafbs2UpLS1N2drb2799vdUnwIbvdpry0nlWvmBYAAAA+KegD6/Ll\n",
              "y1VYWKjKykqtXr1aBQUFVpcEH+uZFrC9ki9eAQCATwrqwFpfX689e/ZoyZIlkqRFixaprq5O1dXV\n",
              "FlcGX7ouNU4Ou03V9edUd+a81eUAAIAgE2Z1AVdSV1eniRMnKiysu0ybzabExETV1tYqJSWl12td\n",
              "LpdcLlev59xuvsQTCqKHheuayaO1+9AZLf35bjmHhXv1fjYv67F5+QbeH9+7d/D2+EOZ8XZ/4907\n",
              "eH98L9/ABzX4pAg/Cu7qgOBwzeTR+uevTrW6jF6COrD2R1FRkX7wgx/0ei43N9eiatBfC6dN0O5D\n",
              "Z3TodKvVpQAAMKTFjoiwuoRPsBlvbwn4UX19vVJSUnTmzBmFhYXJGKOJEyfq7bff7tMd1scff1wb\n",
              "NmwIZMkYIHeX0bs1Z9Tq6uzXfgP99A5kt4H+qAzsWAM61ACPht4Gdo96IDfGB3Kkgd6BH9ixBnQo\n",
              "r/9KAcBaY0ZEKishxuoyegnqO6zjxo3TzJkztXHjRhUUFGjr1q2Kj4//RFiVpMjISEVGRvZ6zuFw\n",
              "BKpUeMlhtyk3OdbqMgAAQBAK6sAqSc8++6wKCgq0du1aOZ1OlZSUWF0SAAAAAijoA2t6erreeecd\n",
              "q8sAAACARYK6rRUAAABAYAUAAEBQI7ACAAAgqBFYAQAAENQIrAAAAAhqBFYAAAAENQIrAAAAghqB\n",
              "FQAAAEGNwAoAAICgZjPGGKuL8Jdbb71VSUlJATmW2+3W7t27lZOTI4fDEZBjDjZcQ+9w/bzHNfQO\n",
              "1897XEPvcP28Z8U1nDx5sh566KErvmZQB9ZAamlpUXR0tJqbm+V0Oq0uJyRxDb3D9fMe19A7XD/v\n",
              "cQ29w/XzXrBeQ6YEAAAAIKgRWAEAABDUCKwAAAAIagRWH4mMjNQ///M/KzIy0upSQhbX0DtcP+9x\n",
              "Db3D9fMe19A7XD/vBes15EtXAAAACGrcYQUAAEBQI7ACAAAgqBFYAQAAENQIrBZ66qmndOLECavL\n",
              "QIirqanRM888c8XXzJo1S9u3bw9MQSHu2LFjmjNnjtVlBJULFy7olltuUVpamjIzM3X99derurpa\n",
              "kpSXl6err75aWVlZysrK0vr16z37LV++XBkZGfrCF76g5uZmSZIxRgsWLNCHH35oyblYJSkpSenp\n",
              "6Z7rtHnzZklSVVWVZs+erbS0NGVnZ2v//v2SpI6ODt1yyy3KzMzUrbfeqs7OTknd/y3mzp2rxsZG\n",
              "y87FCg0NDZ5rl5WVpbS0NIWFhenMmTN8BocIAquFCKzwhb4EVvTdpEmTtHPnTqvLCDqFhYWqqKjQ\n",
              "3r17dfPNN2vZsmWesfXr16u8vFzl5eX69re/LUn6y1/+oqqqKn3wwQfKy8vTCy+8IEn67//+b+Xn\n",
              "5+szn/mMJedhpc2bN3uu0+LFiyV1B6rCwkJVVlZq9erVKigokCS9/vrrGjNmjPbu3auYmBj99re/\n",
              "lST96Ec/0ooVKzR69GirTsMSsbGxnmtXXl6uwsJCLViwQGPGjJHEZ3AoILBewjvvvKPrrrtOmZmZ\n",
              "mj59ul5++WXt2bNHs2fP1vTp05WTk6Ndu3ZJ6g4LMTExnn3PnTsnm83meWyz2bR27Vrl5OTo6quv\n",
              "VklJiSTphz/8oY4dO6bFixcrKytL5eXlgTxFv7LZbHriiSf0+c9/XklJSdq2bZuKioo0a9Yspaam\n",
              "9rrT9/rrr+u6667TNddco5ycHJWWlkqSTpw4ofz8fF1zzTWaOnWqVqxYoa6uLknSc889py996Uu6\n",
              "8847lZGRoVmzZungwYNWnGrAtbW1afHixfrc5z6nzMxM3XDDDXrggQdUUVGhrKws3XTTTZKkP/zh\n",
              "D8rKytK0adP0jW98w3N3Zijr6+fy4z/Tl/sZHkqioqK0cOFCz++23Nxc1dTUXHGf8PBwuVwudXV1\n",
              "qbW1VRERETp+/Lg2bdqkVatWBaDq4FdfX689e/ZoyZIlkqRFixaprq5O1dXVCg8P1/nz5yVJ58+f\n",
              "V0REhPbt26cDBw7ojjvusLLsoPCzn/1M99133xVfw2fwI339/dfZ2akvf/nLmjVrlqZOnaq77rpL\n",
              "ra2tkqT/+Z//0axZs+RyuWSM0Ve/+lU98cQTgTsJg14aGhrMuHHjTFlZmTHGGLfbbU6ePGkSEhLM\n",
              "b3/7W2OMMTt37jTjx483Z8+eNYcOHTLR0dGe/c+ePWv+/rJKMuvWrTPGGPO3v/3NjBw50nR0dBhj\n",
              "jJk8ebJ5//33A3NiASTJPPXUU8YYY958800zYsQIU1JSYowxZsuWLWbWrFnGGGM+/PBDk5uba5qb\n",
              "m40xxlRVVZkJEyaYCxcumLa2NnP27FljjDGdnZ3mxhtvNJs2bTLGGFNSUmKcTqc5ePCgMcaY1atX\n",
              "m8LCwkCeomVeeuklc8MNN3geNzQ0mNLSUpOZmel5zuVymfj4ePPGG28YY4x5/fXXjSRTWloa4GqD\n",
              "S18/lx//mb7Sz/BQtWTJErNy5UpjjDHz5s0z6enpZtq0aeaOO+4wH374oed13/3ud01mZqa57bbb\n",
              "TGtrq1m8eLHZs2ePVWVbavLkySYjI8NMmzbN3Hvvvaa+vt7s2bPHpKWl9Xpddna2+f3vf2/cbrdZ\n",
              "tmyZmT59uiksLDQdHR3mi1/8oqmrq7PoDILHrl27zPjx4z0/h3wGP11ff/91dXWZ06dPe/79wAMP\n",
              "mKKiIs/7FBYWmm9961vmX//1X838+fNNV1dX4M4hYEcKEb/+9a/NnDlzej23b98+M3ny5F7PTZ8+\n",
              "3ezcubNPgfX48eOexzExMZ5fOIM5sPacc1NTk5Fk2trajDHG1NTUeK7XT37yExMXF2cyMzM926RJ\n",
              "k0xlZaVpbW01Dz74oJk+fbrJyMgw48ePN6tXrzbGdAfWL3/5y57jbdu2zXzxi18M7Ela5MMPPzQJ\n",
              "CQnmm9/8pvnFL35hWlpaPhFY9+7da5KSknrtl5ycTGDt4+fyUoH1cj/DQ9ETTzxhcnNzTWtrqzHG\n",
              "mNraWmNM9//cnn76afPZz372kvtt27bNPProo+b06dOmoKDA3HrrreYXv/hFwOq22uHDh40xxrS3\n",
              "t5vvfOc7ZsGCBVcMrB+3fv168/TTT5tDhw6ZO++809x6662XfN1QcO+995p/+qd/8jzmM/jp+vr7\n",
              "z+12m+9+97smKyvLTJs2zSQkJJjFixd73qetrc1Mnz7dJCQkmFOnTgX0HJgSMEA9fxoLCwuT2+32\n",
              "PH/hwoVPvDYqKsrzb4fDMST+PNtzzg6H4xOPe87fGKPrr7++17yko0ePKjU1VcXFxaqvr9ef/vQn\n",
              "7du3T3fddVevazsUr6kkJScn669//avmz5+vXbt2adq0aX368sXfT1MZyvryubzSfn157WC2bt06\n",
              "vfTSS3rttdc0fPhwSVJCQoKk7s/YihUrdPDgQTU0NPTar6WlRevWrdMPfvADPfXUU5o3b542b96s\n",
              "H/7wh2prawv4eVghMTFRUvefqR9++GHt3LlTCQkJOn78eK/fibW1tZ7X9jh8+LBeffVVPfjgg3r8\n",
              "8cdVWFio5557Tv/4j/8Y8POw2rlz57Rlyxbde++9nuf4DPZNX37/vfjii3rrrbe0Y8cOffDBB3r0\n",
              "0Ud7/b+3vr5ejY2N6urqUlNTU0DrJ7B+zOzZs1VVVeX50kVXV5fGjx+vrq4uvfHGG5K65weeOHFC\n",
              "WVlZmjBhgowx+utf/ypJev755/t8LKfT6fnW4lD05S9/WW+++ab27dvneW737t2SpMbGRk2YMEFR\n",
              "UVE6ceKEfvnLX1pVZlA5cuSIbDabbrrpJq1bt07GGMXGxvb6HE2ZMkWdnZ2e+cBvvvkm34aF14qL\n",
              "i7Vp0ya98cYbnjm+nZ2dOnnypOc1W7du1fjx4xUbG9tr38cee0zf//73NXz4cLW2tspms8lms6mj\n",
              "o0Pt7e2BPA1LtLa29vqf+6ZNmzRjxgyNGzdOM2fO1MaNGyV1X7/4+HilpKT02v+hhx7S+vXrZbfb\n",
              "Pdev599DzebNm5WZmakpU6ZI4jPoa42NjYqLi5PT6dTZs2f13HPPecY6Ozv1ta99TT/60Y9UXFys\n",
              "O+64Qy6XK2C1hQXsSCFi9OjR+r//+z898sgjOnv2rOx2u370ox/ppZde0sqVK/XII48oKipK//u/\n",
              "/6uRI0dKkp5++ml95StfUWxsrG677bY+H2vlypW6//77NXz4cD333HPKysry01kFp5SUFL344ota\n",
              "vny5zp8/r/b2ds2YMUMvvviiHnroId12222aOnWqJk2apC996UtWlxsUPvjgA61Zs0bGGHV2duru\n",
              "u+/W7NmzNXXqVE2bNk3Jycl65ZVXtHnzZj344INyu93Kzs5WZmam1aUjhB05ckSPPPKIkpOTlZ+f\n",
              "L6l7vfG33npLN954o1wul+x2u+Li4vTKK6/02nfXrl1qa2vT9ddfL0n61re+pTvvvFNPPvmk7r77\n",
              "bkVHRwf8fALt5MmTWrRokdxut4wxSk5O9tzcePbZZ1VQUKC1a9fK6XR+4kt9L774ojIzMzV16lRJ\n",
              "3cHr/vvvV3t7ux5//PGAn4vVfvazn+n+++/3PHa5XHwGfWjp0qV6+eWXlZ6errFjx2rOnDk6fPiw\n",
              "pO7PXnp6uu655x5J0o4dO/Twww/rpz/9aUBqsxljTECOBAAAAAwAUwIAAAAQ1AisAAAACGoEVgAA\n",
              "AAQ1AisAAACCGoEVAAAAQY3ACgAAgKBGYAUAAEBQI7ACAAAgqBFYAQAAENQIrAAAAAhqBFYAAAAE\n",
              "tf8PJaKcjcRsTxYAAAAASUVORK5CYII=\n",
              "\">\n",
              "      </div>\n",
              "      <script type=\"text/javascript\">\n",
              "        (() => {\n",
              "          const chartElement = document.getElementById(\"chart-99f962d9-1ae8-44a3-a2d7-e83da347f617\");\n",
              "          async function getCodeForChartHandler(event) {\n",
              "            const chartCodeResponse =  await google.colab.kernel.invokeFunction(\n",
              "                'getCodeForChart', [\"chart-99f962d9-1ae8-44a3-a2d7-e83da347f617\"], {});\n",
              "            const responseJson = chartCodeResponse.data['application/json'];\n",
              "            await google.colab.notebook.addCell(responseJson.code, 'code');\n",
              "          }\n",
              "          chartElement.onclick = getCodeForChartHandler;\n",
              "        })();\n",
              "      </script>\n",
              "      <style>\n",
              "        .colab-quickchart-chart-with-code  {\n",
              "            display: block;\n",
              "            float: left;\n",
              "            border: 1px solid transparent;\n",
              "        }\n",
              "\n",
              "        .colab-quickchart-chart-with-code:hover {\n",
              "            cursor: pointer;\n",
              "            border: 1px solid #aaa;\n",
              "        }\n",
              "      </style>"
            ]
          },
          "metadata": {}
        }
      ]
    },
    {
      "cell_type": "code",
      "source": [
        "df['rating'].value_counts()"
      ],
      "metadata": {
        "colab": {
          "base_uri": "https://localhost:8080/"
        },
        "id": "fg7CJLMvJwSF",
        "outputId": "bc7c41b1-472b-4deb-b612-feec16a45a3c"
      },
      "execution_count": null,
      "outputs": [
        {
          "output_type": "execute_result",
          "data": {
            "text/plain": [
              "5.0    24559\n",
              "4.0     7965\n",
              "3.0     3786\n",
              "1.0     2155\n",
              "2.0     1967\n",
              "Name: rating, dtype: int64"
            ]
          },
          "metadata": {},
          "execution_count": 16
        }
      ]
    },
    {
      "cell_type": "code",
      "source": [
        "plt.figure(figsize=(15,8))\n",
        "labels = df['rating'].value_counts().keys()\n",
        "values = df['rating'].value_counts().values\n",
        "explode = (0.1,0,0,0,0)\n",
        "plt.pie(values,labels=labels,explode=explode,shadow=True,autopct='%1.1f%%')\n",
        "plt.title('Proportion of each rating',fontweight='bold',fontsize=25,pad=20,color='crimson')\n",
        "plt.show()"
      ],
      "metadata": {
        "colab": {
          "base_uri": "https://localhost:8080/",
          "height": 707
        },
        "id": "GUD-ks7MLHOO",
        "outputId": "30f03bfa-c6a2-48c6-b422-e96c9b03f5bc"
      },
      "execution_count": null,
      "outputs": [
        {
          "output_type": "display_data",
          "data": {
            "text/plain": [
              "<Figure size 1500x800 with 1 Axes>"
            ],
            "image/png": "[encoded data removed]"
          },
          "metadata": {}
        }
      ]
    },
    {
      "cell_type": "code",
      "source": [
        "def clean_text(text):\n",
        "    nopunc = [w for w in text if w not in string.punctuation]\n",
        "    nopunc = ''.join(nopunc)\n",
        "    return  ' '.join([word for word in nopunc.split() if word.lower() not in stopwords.words('english')])\n"
      ],
      "metadata": {
        "id": "WxuInVy3Lg1_"
      },
      "execution_count": null,
      "outputs": []
    },
    {
      "cell_type": "code",
      "source": [
        "import nltk\n",
        "nltk.download('stopwords')"
      ],
      "metadata": {
        "colab": {
          "base_uri": "https://localhost:8080/"
        },
        "id": "EtBgGmr9MRsk",
        "outputId": "03a4b2e5-7945-441a-8930-ea3718005b24"
      },
      "execution_count": null,
      "outputs": [
        {
          "output_type": "stream",
          "name": "stderr",
          "text": [
            "[nltk_data] Downloading package stopwords to /root/nltk_data...\n",
            "[nltk_data]   Unzipping corpora/stopwords.zip.\n"
          ]
        },
        {
          "output_type": "execute_result",
          "data": {
            "text/plain": [
              "True"
            ]
          },
          "metadata": {},
          "execution_count": 24
        }
      ]
    },
    {
      "cell_type": "code",
      "source": [
        "df['text_'][0], clean_text(df['text_'][0])"
      ],
      "metadata": {
        "colab": {
          "base_uri": "https://localhost:8080/"
        },
        "id": "QruBewyfMfS1",
        "outputId": "52c6f76a-2509-42f2-e386-499d6be2acc3"
      },
      "execution_count": null,
      "outputs": [
        {
          "output_type": "execute_result",
          "data": {
            "text/plain": [
              "('love this!  well made, sturdy, and very comfortable.  i love it!very pretty',\n",
              " 'love well made sturdy comfortable love itvery pretty')"
            ]
          },
          "metadata": {},
          "execution_count": 25
        }
      ]
    },
    {
      "cell_type": "code",
      "source": [
        "df['text_'].head().apply(clean_text)"
      ],
      "metadata": {
        "colab": {
          "base_uri": "https://localhost:8080/"
        },
        "id": "ebth2A8oMmkh",
        "outputId": "19957242-eafd-45ea-aac2-f88efed77bde"
      },
      "execution_count": null,
      "outputs": [
        {
          "output_type": "execute_result",
          "data": {
            "text/plain": [
              "0    love well made sturdy comfortable love itvery ...\n",
              "1    love great upgrade original ive mine couple years\n",
              "2              pillow saved back love look feel pillow\n",
              "3          missing information use great product price\n",
              "4                 nice set good quality set two months\n",
              "Name: text_, dtype: object"
            ]
          },
          "metadata": {},
          "execution_count": 26
        }
      ]
    },
    {
      "cell_type": "code",
      "source": [
        "df.shape"
      ],
      "metadata": {
        "colab": {
          "base_uri": "https://localhost:8080/"
        },
        "id": "KzEn0thKMo47",
        "outputId": "a7dcfc29-d9e2-4ebf-d7b4-1d0abe744ac9"
      },
      "execution_count": null,
      "outputs": [
        {
          "output_type": "execute_result",
          "data": {
            "text/plain": [
              "(40432, 5)"
            ]
          },
          "metadata": {},
          "execution_count": 27
        }
      ]
    },
    {
      "cell_type": "code",
      "source": [
        "df['text_'] = df['text_'].astype(str)"
      ],
      "metadata": {
        "id": "p1nyTtHvMsVw"
      },
      "execution_count": null,
      "outputs": []
    },
    {
      "cell_type": "code",
      "source": [
        "def preprocess(text):\n",
        "    return ' '.join([word for word in word_tokenize(text) if word not in stopwords.words('english') and not word.isdigit() and word not in string.punctuation])"
      ],
      "metadata": {
        "id": "OSPS9SldMvLh"
      },
      "execution_count": null,
      "outputs": []
    },
    {
      "cell_type": "code",
      "source": [
        "nltk.download('punkt')"
      ],
      "metadata": {
        "colab": {
          "base_uri": "https://localhost:8080/"
        },
        "id": "LwABsuM3Nazy",
        "outputId": "0f1e7c4e-6cc6-4b2c-b21e-fd0010959be9"
      },
      "execution_count": null,
      "outputs": [
        {
          "output_type": "stream",
          "name": "stderr",
          "text": [
            "[nltk_data] Downloading package punkt to /root/nltk_data...\n",
            "[nltk_data]   Unzipping tokenizers/punkt.zip.\n"
          ]
        },
        {
          "output_type": "execute_result",
          "data": {
            "text/plain": [
              "True"
            ]
          },
          "metadata": {},
          "execution_count": 33
        }
      ]
    },
    {
      "cell_type": "code",
      "source": [
        "preprocess(df['text_'][4])"
      ],
      "metadata": {
        "colab": {
          "base_uri": "https://localhost:8080/",
          "height": 35
        },
        "id": "ONa7K3wzNqYo",
        "outputId": "2ec21a07-c21c-4804-dc20-f5c7418404a9"
      },
      "execution_count": null,
      "outputs": [
        {
          "output_type": "execute_result",
          "data": {
            "text/plain": [
              "'nice set good quality set two months'"
            ],
            "application/vnd.google.colaboratory.intrinsic+json": {
              "type": "string"
            }
          },
          "metadata": {},
          "execution_count": 34
        }
      ]
    },
    {
      "cell_type": "code",
      "source": [
        "df['text_'][:10000] = df['text_'][:10000].apply(preprocess)"
      ],
      "metadata": {
        "id": "N28c7xCgNusr"
      },
      "execution_count": null,
      "outputs": []
    },
    {
      "cell_type": "code",
      "source": [
        "df['text_'][10001:20000] = df['text_'][10001:20000].apply(preprocess)"
      ],
      "metadata": {
        "id": "aO3m15FOOXp9"
      },
      "execution_count": null,
      "outputs": []
    },
    {
      "cell_type": "code",
      "source": [
        "df['text_'][20001:30000] = df['text_'][20001:30000].apply(preprocess)"
      ],
      "metadata": {
        "id": "cywzBEgAO42O"
      },
      "execution_count": null,
      "outputs": []
    },
    {
      "cell_type": "code",
      "source": [
        "df['text_'][30001:40000] = df['text_'][30001:40000].apply(preprocess)"
      ],
      "metadata": {
        "id": "ctVNp00qPsKd"
      },
      "execution_count": null,
      "outputs": []
    },
    {
      "cell_type": "code",
      "source": [
        "df['text_'][40001:40432] = df['text_'][40001:40432].apply(preprocess)"
      ],
      "metadata": {
        "id": "LAiFaGCpQiRH"
      },
      "execution_count": null,
      "outputs": []
    },
    {
      "cell_type": "code",
      "source": [
        "df['text_'] = df['text_'].str.lower()"
      ],
      "metadata": {
        "id": "SVAAQtJbRUks"
      },
      "execution_count": null,
      "outputs": []
    },
    {
      "cell_type": "code",
      "source": [
        "stemmer = PorterStemmer()\n",
        "def stem_words(text):\n",
        "    return ' '.join([stemmer.stem(word) for word in text.split()])\n",
        "df['text_'] = df['text_'].apply(lambda x: stem_words(x))"
      ],
      "metadata": {
        "id": "QsLT-ZV7R90j"
      },
      "execution_count": null,
      "outputs": []
    },
    {
      "cell_type": "code",
      "source": [
        "lemmatizer = WordNetLemmatizer()\n",
        "def lemmatize_words(text):\n",
        "    return ' '.join([lemmatizer.lemmatize(word) for word in text.split()])\n",
        "df[\"text_\"] = df[\"text_\"].apply(lambda text: lemmatize_words(text))"
      ],
      "metadata": {
        "id": "PTXJe--nSOco"
      },
      "execution_count": null,
      "outputs": []
    },
    {
      "cell_type": "code",
      "source": [
        "df['text_'].head()"
      ],
      "metadata": {
        "colab": {
          "base_uri": "https://localhost:8080/"
        },
        "id": "ujEHtQDXSbBk",
        "outputId": "846b9543-7d6a-4879-97e2-9ff83dd113f1"
      },
      "execution_count": null,
      "outputs": [
        {
          "output_type": "execute_result",
          "data": {
            "text/plain": [
              "0       love well made sturdi comfort love pretti\n",
              "1    love great upgrad origin 've mine coupl year\n",
              "2          pillow save back love look feel pillow\n",
              "3             miss inform use great product price\n",
              "4             nice set good qualiti set two month\n",
              "Name: text_, dtype: object"
            ]
          },
          "metadata": {},
          "execution_count": 43
        }
      ]
    },
    {
      "cell_type": "code",
      "source": [
        "df.drop('Unnamed: 0',axis=1,inplace=True)"
      ],
      "metadata": {
        "id": "ZGPz-fcjTAJN"
      },
      "execution_count": null,
      "outputs": []
    },
    {
      "cell_type": "code",
      "source": [
        "df.head()"
      ],
      "metadata": {
        "colab": {
          "base_uri": "https://localhost:8080/",
          "height": 206
        },
        "id": "7j2_tPEzTlvV",
        "outputId": "1e0196af-224b-40ce-d628-018e6ce94e1f"
      },
      "execution_count": null,
      "outputs": [
        {
          "output_type": "execute_result",
          "data": {
            "text/plain": [
              "             category  rating label  \\\n",
              "0  Home_and_Kitchen_5     5.0    CG   \n",
              "1  Home_and_Kitchen_5     5.0    CG   \n",
              "2  Home_and_Kitchen_5     5.0    CG   \n",
              "3  Home_and_Kitchen_5     1.0    CG   \n",
              "4  Home_and_Kitchen_5     5.0    CG   \n",
              "\n",
              "                                          text_  \n",
              "0     love well made sturdi comfort love pretti  \n",
              "1  love great upgrad origin 've mine coupl year  \n",
              "2        pillow save back love look feel pillow  \n",
              "3           miss inform use great product price  \n",
              "4           nice set good qualiti set two month  "
            ],
            "text/html": [
              "\n",
              "  <div id=\"df-f9e7bb4c-27df-4b56-a02b-a25e2996e778\" class=\"colab-df-container\">\n",
              "    <div>\n",
              "<style scoped>\n",
              "    .dataframe tbody tr th:only-of-type {\n",
              "        vertical-align: middle;\n",
              "    }\n",
              "\n",
              "    .dataframe tbody tr th {\n",
              "        vertical-align: top;\n",
              "    }\n",
              "\n",
              "    .dataframe thead th {\n",
              "        text-align: right;\n",
              "    }\n",
              "</style>\n",
              "<table border=\"1\" class=\"dataframe\">\n",
              "  <thead>\n",
              "    <tr style=\"text-align: right;\">\n",
              "      <th></th>\n",
              "      <th>category</th>\n",
              "      <th>rating</th>\n",
              "      <th>label</th>\n",
              "      <th>text_</th>\n",
              "    </tr>\n",
              "  </thead>\n",
              "  <tbody>\n",
              "    <tr>\n",
              "      <th>0</th>\n",
              "      <td>Home_and_Kitchen_5</td>\n",
              "      <td>5.0</td>\n",
              "      <td>CG</td>\n",
              "      <td>love well made sturdi comfort love pretti</td>\n",
              "    </tr>\n",
              "    <tr>\n",
              "      <th>1</th>\n",
              "      <td>Home_and_Kitchen_5</td>\n",
              "      <td>5.0</td>\n",
              "      <td>CG</td>\n",
              "      <td>love great upgrad origin 've mine coupl year</td>\n",
              "    </tr>\n",
              "    <tr>\n",
              "      <th>2</th>\n",
              "      <td>Home_and_Kitchen_5</td>\n",
              "      <td>5.0</td>\n",
              "      <td>CG</td>\n",
              "      <td>pillow save back love look feel pillow</td>\n",
              "    </tr>\n",
              "    <tr>\n",
              "      <th>3</th>\n",
              "      <td>Home_and_Kitchen_5</td>\n",
              "      <td>1.0</td>\n",
              "      <td>CG</td>\n",
              "      <td>miss inform use great product price</td>\n",
              "    </tr>\n",
              "    <tr>\n",
              "      <th>4</th>\n",
              "      <td>Home_and_Kitchen_5</td>\n",
              "      <td>5.0</td>\n",
              "      <td>CG</td>\n",
              "      <td>nice set good qualiti set two month</td>\n",
              "    </tr>\n",
              "  </tbody>\n",
              "</table>\n",
              "</div>\n",
              "    <div class=\"colab-df-buttons\">\n",
              "\n",
              "  <div class=\"colab-df-container\">\n",
              "    <button class=\"colab-df-convert\" onclick=\"convertToInteractive('df-f9e7bb4c-27df-4b56-a02b-a25e2996e778')\"\n",
              "            title=\"Convert this dataframe to an interactive table.\"\n",
              "            style=\"display:none;\">\n",
              "\n",
              "  <svg xmlns=\"http://www.w3.org/2000/svg\" height=\"24px\" viewBox=\"0 -960 960 960\">\n",
              "    <path d=\"M120-120v-720h720v720H120Zm60-500h600v-160H180v160Zm220 220h160v-160H400v160Zm0 220h160v-160H400v160ZM180-400h160v-160H180v160Zm440 0h160v-160H620v160ZM180-180h160v-160H180v160Zm440 0h160v-160H620v160Z\"/>\n",
              "  </svg>\n",
              "    </button>\n",
              "\n",
              "  <style>\n",
              "    .colab-df-container {\n",
              "      display:flex;\n",
              "      gap: 12px;\n",
              "    }\n",
              "\n",
              "    .colab-df-convert {\n",
              "      background-color: #E8F0FE;\n",
              "      border: none;\n",
              "      border-radius: 50%;\n",
              "      cursor: pointer;\n",
              "      display: none;\n",
              "      fill: #1967D2;\n",
              "      height: 32px;\n",
              "      padding: 0 0 0 0;\n",
              "      width: 32px;\n",
              "    }\n",
              "\n",
              "    .colab-df-convert:hover {\n",
              "      background-color: #E2EBFA;\n",
              "      box-shadow: 0px 1px 2px rgba(60, 64, 67, 0.3), 0px 1px 3px 1px rgba(60, 64, 67, 0.15);\n",
              "      fill: #174EA6;\n",
              "    }\n",
              "\n",
              "    .colab-df-buttons div {\n",
              "      margin-bottom: 4px;\n",
              "    }\n",
              "\n",
              "    [theme=dark] .colab-df-convert {\n",
              "      background-color: #3B4455;\n",
              "      fill: #D2E3FC;\n",
              "    }\n",
              "\n",
              "    [theme=dark] .colab-df-convert:hover {\n",
              "      background-color: #434B5C;\n",
              "      box-shadow: 0px 1px 3px 1px rgba(0, 0, 0, 0.15);\n",
              "      filter: drop-shadow(0px 1px 2px rgba(0, 0, 0, 0.3));\n",
              "      fill: #FFFFFF;\n",
              "    }\n",
              "  </style>\n",
              "\n",
              "    <script>\n",
              "      const buttonEl =\n",
              "        document.querySelector('#df-f9e7bb4c-27df-4b56-a02b-a25e2996e778 button.colab-df-convert');\n",
              "      buttonEl.style.display =\n",
              "        google.colab.kernel.accessAllowed ? 'block' : 'none';\n",
              "\n",
              "      async function convertToInteractive(key) {\n",
              "        const element = document.querySelector('#df-f9e7bb4c-27df-4b56-a02b-a25e2996e778');\n",
              "        const dataTable =\n",
              "          await google.colab.kernel.invokeFunction('convertToInteractive',\n",
              "                                                    [key], {});\n",
              "        if (!dataTable) return;\n",
              "\n",
              "        const docLinkHtml = 'Like what you see? Visit the ' +\n",
              "          '<a target=\"_blank\" href=https://colab.research.google.com/notebooks/data_table.ipynb>data table notebook</a>'\n",
              "          + ' to learn more about interactive tables.';\n",
              "        element.innerHTML = '';\n",
              "        dataTable['output_type'] = 'display_data';\n",
              "        await google.colab.output.renderOutput(dataTable, element);\n",
              "        const docLink = document.createElement('div');\n",
              "        docLink.innerHTML = docLinkHtml;\n",
              "        element.appendChild(docLink);\n",
              "      }\n",
              "    </script>\n",
              "  </div>\n",
              "\n",
              "\n",
              "<div id=\"df-6b5c71fd-d4fd-47c8-9e5c-dc10d6d6b16f\">\n",
              "  <button class=\"colab-df-quickchart\" onclick=\"quickchart('df-6b5c71fd-d4fd-47c8-9e5c-dc10d6d6b16f')\"\n",
              "            title=\"Suggest charts\"\n",
              "            style=\"display:none;\">\n",
              "\n",
              "<svg xmlns=\"http://www.w3.org/2000/svg\" height=\"24px\"viewBox=\"0 0 24 24\"\n",
              "     width=\"24px\">\n",
              "    <g>\n",
              "        <path d=\"M19 3H5c-1.1 0-2 .9-2 2v14c0 1.1.9 2 2 2h14c1.1 0 2-.9 2-2V5c0-1.1-.9-2-2-2zM9 17H7v-7h2v7zm4 0h-2V7h2v10zm4 0h-2v-4h2v4z\"/>\n",
              "    </g>\n",
              "</svg>\n",
              "  </button>\n",
              "\n",
              "<style>\n",
              "  .colab-df-quickchart {\n",
              "      --bg-color: #E8F0FE;\n",
              "      --fill-color: #1967D2;\n",
              "      --hover-bg-color: #E2EBFA;\n",
              "      --hover-fill-color: #174EA6;\n",
              "      --disabled-fill-color: #AAA;\n",
              "      --disabled-bg-color: #DDD;\n",
              "  }\n",
              "\n",
              "  [theme=dark] .colab-df-quickchart {\n",
              "      --bg-color: #3B4455;\n",
              "      --fill-color: #D2E3FC;\n",
              "      --hover-bg-color: #434B5C;\n",
              "      --hover-fill-color: #FFFFFF;\n",
              "      --disabled-bg-color: #3B4455;\n",
              "      --disabled-fill-color: #666;\n",
              "  }\n",
              "\n",
              "  .colab-df-quickchart {\n",
              "    background-color: var(--bg-color);\n",
              "    border: none;\n",
              "    border-radius: 50%;\n",
              "    cursor: pointer;\n",
              "    display: none;\n",
              "    fill: var(--fill-color);\n",
              "    height: 32px;\n",
              "    padding: 0;\n",
              "    width: 32px;\n",
              "  }\n",
              "\n",
              "  .colab-df-quickchart:hover {\n",
              "    background-color: var(--hover-bg-color);\n",
              "    box-shadow: 0 1px 2px rgba(60, 64, 67, 0.3), 0 1px 3px 1px rgba(60, 64, 67, 0.15);\n",
              "    fill: var(--button-hover-fill-color);\n",
              "  }\n",
              "\n",
              "  .colab-df-quickchart-complete:disabled,\n",
              "  .colab-df-quickchart-complete:disabled:hover {\n",
              "    background-color: var(--disabled-bg-color);\n",
              "    fill: var(--disabled-fill-color);\n",
              "    box-shadow: none;\n",
              "  }\n",
              "\n",
              "  .colab-df-spinner {\n",
              "    border: 2px solid var(--fill-color);\n",
              "    border-color: transparent;\n",
              "    border-bottom-color: var(--fill-color);\n",
              "    animation:\n",
              "      spin 1s steps(1) infinite;\n",
              "  }\n",
              "\n",
              "  @keyframes spin {\n",
              "    0% {\n",
              "      border-color: transparent;\n",
              "      border-bottom-color: var(--fill-color);\n",
              "      border-left-color: var(--fill-color);\n",
              "    }\n",
              "    20% {\n",
              "      border-color: transparent;\n",
              "      border-left-color: var(--fill-color);\n",
              "      border-top-color: var(--fill-color);\n",
              "    }\n",
              "    30% {\n",
              "      border-color: transparent;\n",
              "      border-left-color: var(--fill-color);\n",
              "      border-top-color: var(--fill-color);\n",
              "      border-right-color: var(--fill-color);\n",
              "    }\n",
              "    40% {\n",
              "      border-color: transparent;\n",
              "      border-right-color: var(--fill-color);\n",
              "      border-top-color: var(--fill-color);\n",
              "    }\n",
              "    60% {\n",
              "      border-color: transparent;\n",
              "      border-right-color: var(--fill-color);\n",
              "    }\n",
              "    80% {\n",
              "      border-color: transparent;\n",
              "      border-right-color: var(--fill-color);\n",
              "      border-bottom-color: var(--fill-color);\n",
              "    }\n",
              "    90% {\n",
              "      border-color: transparent;\n",
              "      border-bottom-color: var(--fill-color);\n",
              "    }\n",
              "  }\n",
              "</style>\n",
              "\n",
              "  <script>\n",
              "    async function quickchart(key) {\n",
              "      const quickchartButtonEl =\n",
              "        document.querySelector('#' + key + ' button');\n",
              "      quickchartButtonEl.disabled = true;  // To prevent multiple clicks.\n",
              "      quickchartButtonEl.classList.add('colab-df-spinner');\n",
              "      try {\n",
              "        const charts = await google.colab.kernel.invokeFunction(\n",
              "            'suggestCharts', [key], {});\n",
              "      } catch (error) {\n",
              "        console.error('Error during call to suggestCharts:', error);\n",
              "      }\n",
              "      quickchartButtonEl.classList.remove('colab-df-spinner');\n",
              "      quickchartButtonEl.classList.add('colab-df-quickchart-complete');\n",
              "    }\n",
              "    (() => {\n",
              "      let quickchartButtonEl =\n",
              "        document.querySelector('#df-6b5c71fd-d4fd-47c8-9e5c-dc10d6d6b16f button');\n",
              "      quickchartButtonEl.style.display =\n",
              "        google.colab.kernel.accessAllowed ? 'block' : 'none';\n",
              "    })();\n",
              "  </script>\n",
              "</div>\n",
              "    </div>\n",
              "  </div>\n"
            ]
          },
          "metadata": {},
          "execution_count": 45
        }
      ]
    },
    {
      "cell_type": "code",
      "source": [
        "df.dropna(inplace=True)"
      ],
      "metadata": {
        "id": "qAkcTdNyTpqc"
      },
      "execution_count": null,
      "outputs": []
    },
    {
      "cell_type": "code",
      "source": [
        "df['length'] = df['text_'].apply(len)"
      ],
      "metadata": {
        "id": "x9gndPfqTzn5"
      },
      "execution_count": null,
      "outputs": []
    },
    {
      "cell_type": "code",
      "source": [
        "df.info()"
      ],
      "metadata": {
        "colab": {
          "base_uri": "https://localhost:8080/"
        },
        "id": "wz5htOndT3zG",
        "outputId": "ff511d22-479f-4c3b-f3be-74fbaaf58500"
      },
      "execution_count": null,
      "outputs": [
        {
          "output_type": "stream",
          "name": "stdout",
          "text": [
            "<class 'pandas.core.frame.DataFrame'>\n",
            "RangeIndex: 40432 entries, 0 to 40431\n",
            "Data columns (total 5 columns):\n",
            " #   Column    Non-Null Count  Dtype  \n",
            "---  ------    --------------  -----  \n",
            " 0   category  40432 non-null  object \n",
            " 1   rating    40432 non-null  float64\n",
            " 2   label     40432 non-null  object \n",
            " 3   text_     40432 non-null  object \n",
            " 4   length    40432 non-null  int64  \n",
            "dtypes: float64(1), int64(1), object(3)\n",
            "memory usage: 1.5+ MB\n"
          ]
        }
      ]
    },
    {
      "cell_type": "code",
      "source": [
        "plt.hist(df['length'],bins=50)\n",
        "plt.show()"
      ],
      "metadata": {
        "colab": {
          "base_uri": "https://localhost:8080/",
          "height": 430
        },
        "id": "yc7Gp0nFT8Vr",
        "outputId": "fee250c9-0f3d-4713-b966-bfc6c244c873"
      },
      "execution_count": null,
      "outputs": [
        {
          "output_type": "display_data",
          "data": {
            "text/plain": [
              "<Figure size 640x480 with 1 Axes>"
            ],
            "image/png": "[encoded data removed]"
          },
          "metadata": {}
        }
      ]
    },
    {
      "cell_type": "code",
      "source": [
        "df.groupby('label').describe()"
      ],
      "metadata": {
        "colab": {
          "base_uri": "https://localhost:8080/",
          "height": 175
        },
        "id": "2ggBbrxKUHJ6",
        "outputId": "63104c40-778e-4062-b8ee-2677ee286874"
      },
      "execution_count": null,
      "outputs": [
        {
          "output_type": "execute_result",
          "data": {
            "text/plain": [
              "        rating                                                length  \\\n",
              "         count      mean       std  min  25%  50%  75%  max    count   \n",
              "label                                                                  \n",
              "CG     20216.0  4.259893  1.141065  1.0  4.0  5.0  5.0  5.0  20216.0   \n",
              "OR     20216.0  4.253265  1.147652  1.0  4.0  5.0  5.0  5.0  20216.0   \n",
              "\n",
              "                                                                \n",
              "             mean         std  min   25%    50%    75%     max  \n",
              "label                                                           \n",
              "CG     156.672784  158.294984  0.0  51.0   89.0  195.0  1198.0  \n",
              "OR     222.791601  239.403582  8.0  69.0  125.0  276.0  2190.0  "
            ],
            "text/html": [
              "\n",
              "  <div id=\"df-8d4c5ff1-e1d2-40a2-b6f8-06e5b761d3d3\" class=\"colab-df-container\">\n",
              "    <div>\n",
              "<style scoped>\n",
              "    .dataframe tbody tr th:only-of-type {\n",
              "        vertical-align: middle;\n",
              "    }\n",
              "\n",
              "    .dataframe tbody tr th {\n",
              "        vertical-align: top;\n",
              "    }\n",
              "\n",
              "    .dataframe thead tr th {\n",
              "        text-align: left;\n",
              "    }\n",
              "\n",
              "    .dataframe thead tr:last-of-type th {\n",
              "        text-align: right;\n",
              "    }\n",
              "</style>\n",
              "<table border=\"1\" class=\"dataframe\">\n",
              "  <thead>\n",
              "    <tr>\n",
              "      <th></th>\n",
              "      <th colspan=\"8\" halign=\"left\">rating</th>\n",
              "      <th colspan=\"8\" halign=\"left\">length</th>\n",
              "    </tr>\n",
              "    <tr>\n",
              "      <th></th>\n",
              "      <th>count</th>\n",
              "      <th>mean</th>\n",
              "      <th>std</th>\n",
              "      <th>min</th>\n",
              "      <th>25%</th>\n",
              "      <th>50%</th>\n",
              "      <th>75%</th>\n",
              "      <th>max</th>\n",
              "      <th>count</th>\n",
              "      <th>mean</th>\n",
              "      <th>std</th>\n",
              "      <th>min</th>\n",
              "      <th>25%</th>\n",
              "      <th>50%</th>\n",
              "      <th>75%</th>\n",
              "      <th>max</th>\n",
              "    </tr>\n",
              "    <tr>\n",
              "      <th>label</th>\n",
              "      <th></th>\n",
              "      <th></th>\n",
              "      <th></th>\n",
              "      <th></th>\n",
              "      <th></th>\n",
              "      <th></th>\n",
              "      <th></th>\n",
              "      <th></th>\n",
              "      <th></th>\n",
              "      <th></th>\n",
              "      <th></th>\n",
              "      <th></th>\n",
              "      <th></th>\n",
              "      <th></th>\n",
              "      <th></th>\n",
              "      <th></th>\n",
              "    </tr>\n",
              "  </thead>\n",
              "  <tbody>\n",
              "    <tr>\n",
              "      <th>CG</th>\n",
              "      <td>20216.0</td>\n",
              "      <td>4.259893</td>\n",
              "      <td>1.141065</td>\n",
              "      <td>1.0</td>\n",
              "      <td>4.0</td>\n",
              "      <td>5.0</td>\n",
              "      <td>5.0</td>\n",
              "      <td>5.0</td>\n",
              "      <td>20216.0</td>\n",
              "      <td>156.672784</td>\n",
              "      <td>158.294984</td>\n",
              "      <td>0.0</td>\n",
              "      <td>51.0</td>\n",
              "      <td>89.0</td>\n",
              "      <td>195.0</td>\n",
              "      <td>1198.0</td>\n",
              "    </tr>\n",
              "    <tr>\n",
              "      <th>OR</th>\n",
              "      <td>20216.0</td>\n",
              "      <td>4.253265</td>\n",
              "      <td>1.147652</td>\n",
              "      <td>1.0</td>\n",
              "      <td>4.0</td>\n",
              "      <td>5.0</td>\n",
              "      <td>5.0</td>\n",
              "      <td>5.0</td>\n",
              "      <td>20216.0</td>\n",
              "      <td>222.791601</td>\n",
              "      <td>239.403582</td>\n",
              "      <td>8.0</td>\n",
              "      <td>69.0</td>\n",
              "      <td>125.0</td>\n",
              "      <td>276.0</td>\n",
              "      <td>2190.0</td>\n",
              "    </tr>\n",
              "  </tbody>\n",
              "</table>\n",
              "</div>\n",
              "    <div class=\"colab-df-buttons\">\n",
              "\n",
              "  <div class=\"colab-df-container\">\n",
              "    <button class=\"colab-df-convert\" onclick=\"convertToInteractive('df-8d4c5ff1-e1d2-40a2-b6f8-06e5b761d3d3')\"\n",
              "            title=\"Convert this dataframe to an interactive table.\"\n",
              "            style=\"display:none;\">\n",
              "\n",
              "  <svg xmlns=\"http://www.w3.org/2000/svg\" height=\"24px\" viewBox=\"0 -960 960 960\">\n",
              "    <path d=\"M120-120v-720h720v720H120Zm60-500h600v-160H180v160Zm220 220h160v-160H400v160Zm0 220h160v-160H400v160ZM180-400h160v-160H180v160Zm440 0h160v-160H620v160ZM180-180h160v-160H180v160Zm440 0h160v-160H620v160Z\"/>\n",
              "  </svg>\n",
              "    </button>\n",
              "\n",
              "  <style>\n",
              "    .colab-df-container {\n",
              "      display:flex;\n",
              "      gap: 12px;\n",
              "    }\n",
              "\n",
              "    .colab-df-convert {\n",
              "      background-color: #E8F0FE;\n",
              "      border: none;\n",
              "      border-radius: 50%;\n",
              "      cursor: pointer;\n",
              "      display: none;\n",
              "      fill: #1967D2;\n",
              "      height: 32px;\n",
              "      padding: 0 0 0 0;\n",
              "      width: 32px;\n",
              "    }\n",
              "\n",
              "    .colab-df-convert:hover {\n",
              "      background-color: #E2EBFA;\n",
              "      box-shadow: 0px 1px 2px rgba(60, 64, 67, 0.3), 0px 1px 3px 1px rgba(60, 64, 67, 0.15);\n",
              "      fill: #174EA6;\n",
              "    }\n",
              "\n",
              "    .colab-df-buttons div {\n",
              "      margin-bottom: 4px;\n",
              "    }\n",
              "\n",
              "    [theme=dark] .colab-df-convert {\n",
              "      background-color: #3B4455;\n",
              "      fill: #D2E3FC;\n",
              "    }\n",
              "\n",
              "    [theme=dark] .colab-df-convert:hover {\n",
              "      background-color: #434B5C;\n",
              "      box-shadow: 0px 1px 3px 1px rgba(0, 0, 0, 0.15);\n",
              "      filter: drop-shadow(0px 1px 2px rgba(0, 0, 0, 0.3));\n",
              "      fill: #FFFFFF;\n",
              "    }\n",
              "  </style>\n",
              "\n",
              "    <script>\n",
              "      const buttonEl =\n",
              "        document.querySelector('#df-8d4c5ff1-e1d2-40a2-b6f8-06e5b761d3d3 button.colab-df-convert');\n",
              "      buttonEl.style.display =\n",
              "        google.colab.kernel.accessAllowed ? 'block' : 'none';\n",
              "\n",
              "      async function convertToInteractive(key) {\n",
              "        const element = document.querySelector('#df-8d4c5ff1-e1d2-40a2-b6f8-06e5b761d3d3');\n",
              "        const dataTable =\n",
              "          await google.colab.kernel.invokeFunction('convertToInteractive',\n",
              "                                                    [key], {});\n",
              "        if (!dataTable) return;\n",
              "\n",
              "        const docLinkHtml = 'Like what you see? Visit the ' +\n",
              "          '<a target=\"_blank\" href=https://colab.research.google.com/notebooks/data_table.ipynb>data table notebook</a>'\n",
              "          + ' to learn more about interactive tables.';\n",
              "        element.innerHTML = '';\n",
              "        dataTable['output_type'] = 'display_data';\n",
              "        await google.colab.output.renderOutput(dataTable, element);\n",
              "        const docLink = document.createElement('div');\n",
              "        docLink.innerHTML = docLinkHtml;\n",
              "        element.appendChild(docLink);\n",
              "      }\n",
              "    </script>\n",
              "  </div>\n",
              "\n",
              "\n",
              "<div id=\"df-9a2ed04d-0fd8-45ee-a023-bf4adcfcec2f\">\n",
              "  <button class=\"colab-df-quickchart\" onclick=\"quickchart('df-9a2ed04d-0fd8-45ee-a023-bf4adcfcec2f')\"\n",
              "            title=\"Suggest charts\"\n",
              "            style=\"display:none;\">\n",
              "\n",
              "<svg xmlns=\"http://www.w3.org/2000/svg\" height=\"24px\"viewBox=\"0 0 24 24\"\n",
              "     width=\"24px\">\n",
              "    <g>\n",
              "        <path d=\"M19 3H5c-1.1 0-2 .9-2 2v14c0 1.1.9 2 2 2h14c1.1 0 2-.9 2-2V5c0-1.1-.9-2-2-2zM9 17H7v-7h2v7zm4 0h-2V7h2v10zm4 0h-2v-4h2v4z\"/>\n",
              "    </g>\n",
              "</svg>\n",
              "  </button>\n",
              "\n",
              "<style>\n",
              "  .colab-df-quickchart {\n",
              "      --bg-color: #E8F0FE;\n",
              "      --fill-color: #1967D2;\n",
              "      --hover-bg-color: #E2EBFA;\n",
              "      --hover-fill-color: #174EA6;\n",
              "      --disabled-fill-color: #AAA;\n",
              "      --disabled-bg-color: #DDD;\n",
              "  }\n",
              "\n",
              "  [theme=dark] .colab-df-quickchart {\n",
              "      --bg-color: #3B4455;\n",
              "      --fill-color: #D2E3FC;\n",
              "      --hover-bg-color: #434B5C;\n",
              "      --hover-fill-color: #FFFFFF;\n",
              "      --disabled-bg-color: #3B4455;\n",
              "      --disabled-fill-color: #666;\n",
              "  }\n",
              "\n",
              "  .colab-df-quickchart {\n",
              "    background-color: var(--bg-color);\n",
              "    border: none;\n",
              "    border-radius: 50%;\n",
              "    cursor: pointer;\n",
              "    display: none;\n",
              "    fill: var(--fill-color);\n",
              "    height: 32px;\n",
              "    padding: 0;\n",
              "    width: 32px;\n",
              "  }\n",
              "\n",
              "  .colab-df-quickchart:hover {\n",
              "    background-color: var(--hover-bg-color);\n",
              "    box-shadow: 0 1px 2px rgba(60, 64, 67, 0.3), 0 1px 3px 1px rgba(60, 64, 67, 0.15);\n",
              "    fill: var(--button-hover-fill-color);\n",
              "  }\n",
              "\n",
              "  .colab-df-quickchart-complete:disabled,\n",
              "  .colab-df-quickchart-complete:disabled:hover {\n",
              "    background-color: var(--disabled-bg-color);\n",
              "    fill: var(--disabled-fill-color);\n",
              "    box-shadow: none;\n",
              "  }\n",
              "\n",
              "  .colab-df-spinner {\n",
              "    border: 2px solid var(--fill-color);\n",
              "    border-color: transparent;\n",
              "    border-bottom-color: var(--fill-color);\n",
              "    animation:\n",
              "      spin 1s steps(1) infinite;\n",
              "  }\n",
              "\n",
              "  @keyframes spin {\n",
              "    0% {\n",
              "      border-color: transparent;\n",
              "      border-bottom-color: var(--fill-color);\n",
              "      border-left-color: var(--fill-color);\n",
              "    }\n",
              "    20% {\n",
              "      border-color: transparent;\n",
              "      border-left-color: var(--fill-color);\n",
              "      border-top-color: var(--fill-color);\n",
              "    }\n",
              "    30% {\n",
              "      border-color: transparent;\n",
              "      border-left-color: var(--fill-color);\n",
              "      border-top-color: var(--fill-color);\n",
              "      border-right-color: var(--fill-color);\n",
              "    }\n",
              "    40% {\n",
              "      border-color: transparent;\n",
              "      border-right-color: var(--fill-color);\n",
              "      border-top-color: var(--fill-color);\n",
              "    }\n",
              "    60% {\n",
              "      border-color: transparent;\n",
              "      border-right-color: var(--fill-color);\n",
              "    }\n",
              "    80% {\n",
              "      border-color: transparent;\n",
              "      border-right-color: var(--fill-color);\n",
              "      border-bottom-color: var(--fill-color);\n",
              "    }\n",
              "    90% {\n",
              "      border-color: transparent;\n",
              "      border-bottom-color: var(--fill-color);\n",
              "    }\n",
              "  }\n",
              "</style>\n",
              "\n",
              "  <script>\n",
              "    async function quickchart(key) {\n",
              "      const quickchartButtonEl =\n",
              "        document.querySelector('#' + key + ' button');\n",
              "      quickchartButtonEl.disabled = true;  // To prevent multiple clicks.\n",
              "      quickchartButtonEl.classList.add('colab-df-spinner');\n",
              "      try {\n",
              "        const charts = await google.colab.kernel.invokeFunction(\n",
              "            'suggestCharts', [key], {});\n",
              "      } catch (error) {\n",
              "        console.error('Error during call to suggestCharts:', error);\n",
              "      }\n",
              "      quickchartButtonEl.classList.remove('colab-df-spinner');\n",
              "      quickchartButtonEl.classList.add('colab-df-quickchart-complete');\n",
              "    }\n",
              "    (() => {\n",
              "      let quickchartButtonEl =\n",
              "        document.querySelector('#df-9a2ed04d-0fd8-45ee-a023-bf4adcfcec2f button');\n",
              "      quickchartButtonEl.style.display =\n",
              "        google.colab.kernel.accessAllowed ? 'block' : 'none';\n",
              "    })();\n",
              "  </script>\n",
              "</div>\n",
              "    </div>\n",
              "  </div>\n"
            ]
          },
          "metadata": {},
          "execution_count": 52
        }
      ]
    },
    {
      "cell_type": "code",
      "source": [
        "df.hist(column='length',by='label',bins=50,color='blue',figsize=(12,5))\n",
        "plt.show()"
      ],
      "metadata": {
        "colab": {
          "base_uri": "https://localhost:8080/",
          "height": 476
        },
        "id": "gZ8o5RgIVGWI",
        "outputId": "bb9e42a5-884c-468f-f28b-335aa552f8ef"
      },
      "execution_count": null,
      "outputs": [
        {
          "output_type": "display_data",
          "data": {
            "text/plain": [
              "<Figure size 1200x500 with 2 Axes>"
            ],
            "image/png": "[encoded data removed]"
          },
          "metadata": {}
        }
      ]
    },
    {
      "cell_type": "code",
      "source": [
        "df[df['label']=='OR'][['text_','length']].sort_values(by='length',ascending=False).head().iloc[0].text_"
      ],
      "metadata": {
        "colab": {
          "base_uri": "https://localhost:8080/",
          "height": 178
        },
        "id": "eD-raB_MVUDV",
        "outputId": "c167e4e3-4505-4018-c0e4-3574eb33df3e"
      },
      "execution_count": null,
      "outputs": [
        {
          "output_type": "execute_result",
          "data": {
            "text/plain": [
              "\"thought 'd purchas item also nbsp data-hook= '' product-link-link '' class= '' a-link-norm '' href= '' /kidco-door-knob-locks-clear-2-pack/dp/b0010cd2io/ref=cm_cr_arp_d_rvw_txt ie=utf8 '' kidco door knob lock clear pack /a nbsp nbsp data-hook= '' product-link-link '' class= '' a-link-norm '' href= '' /door-knob-lock/dp/b00238meqa/ref=cm_cr_arp_d_rvw_txt ie=utf8 '' door knob lock /a white color nbsp data-hook= '' product-link-link '' class= '' a-link-norm '' href= '' /kidco-door-knob-lock-colors-white/dp/b001j2wjf2/ref=cm_cr_arp_d_rvw_txt ie=utf8 '' kidco door knob lock color white /a nbsp nbsp data-hook= '' product-link-link '' class= '' a-link-norm '' href= '' /door-knob-lock-2-pack/dp/b00069bvgm/ref=cm_cr_arp_d_rvw_txt ie=utf8 '' door knob lock pack /a nbsp data-hook= '' product-link-link '' class= '' a-link-norm '' href= '' /secure-grip-clear-door-knob-covers-3-pack/dp/b00068xbxe/ref=cm_cr_arp_d_rvw_txt ie=utf8 '' secur grip clear door knob cover 3-pack /a nbsp compar two overal function well although coupl disadvantag overcom `` hacks. `` advantag 's easi put two halv togeth match tab slot hing cover lock unlik safeti 1st open assembl gener prevent child turn doorknob allow adult simultan press two `` lever '' side twist disadvantag child might abl separ two halv although item resist breakag safeti 1st cover `` hack '' use strong glue like nbsp data-hook= '' product-link-link '' class= '' a-link-norm '' href= '' /henkel-01-82196-loctite-2-gram-super-glue-gel/dp/b000albzgc/ref=cm_cr_arp_d_rvw_txt ie=utf8 '' henkel 01-82196 loctit 2-gram super glue gel /a tab keep cover intact much glue wo n't abl remov cover later disadvantag certain doorknob rubber-lik pad insid cover might grip knob tightli child abl open door moder effort `` hack '' appli small amount silicon lubric like nbsp data-hook= '' product-link-link '' class= '' a-link-norm '' href= '' /10141wd-11oz-3-in-1-pro-lubricant-silicone-spray-aerosol-can-ship-ground-only-orm-d/dp/b000bbycuc/ref=cm_cr_arp_d_rvw_txt ie=utf8 '' 10141wd 11oz 3-in-1 pro lubric silicon spray aerosol ship ground orm-d /a pad insid furthermor sinc pad thick side use swiss armi knife pare knife make pad thinner buy amazon\""
            ],
            "application/vnd.google.colaboratory.intrinsic+json": {
              "type": "string"
            }
          },
          "metadata": {},
          "execution_count": 54
        }
      ]
    },
    {
      "cell_type": "code",
      "source": [
        "df.length.describe()"
      ],
      "metadata": {
        "colab": {
          "base_uri": "https://localhost:8080/"
        },
        "id": "7SbOkzEDVZ0S",
        "outputId": "9a58e038-68c4-405e-fe01-e32702b21f84"
      },
      "execution_count": null,
      "outputs": [
        {
          "output_type": "execute_result",
          "data": {
            "text/plain": [
              "count    40432.000000\n",
              "mean       189.732192\n",
              "std        205.615227\n",
              "min          0.000000\n",
              "25%         58.000000\n",
              "50%        106.000000\n",
              "75%        232.000000\n",
              "max       2190.000000\n",
              "Name: length, dtype: float64"
            ]
          },
          "metadata": {},
          "execution_count": 55
        }
      ]
    },
    {
      "cell_type": "code",
      "source": [
        "def text_process(review):\n",
        "    nopunc = [char for char in review if char not in string.punctuation]\n",
        "    nopunc = ''.join(nopunc)\n",
        "    return [word for word in nopunc.split() if word.lower() not in stopwords.words('english')]"
      ],
      "metadata": {
        "id": "uVEhMi_PVdnQ"
      },
      "execution_count": null,
      "outputs": []
    },
    {
      "cell_type": "code",
      "source": [
        "bow_transformer = CountVectorizer(analyzer=text_process)\n",
        "bow_transformer"
      ],
      "metadata": {
        "colab": {
          "base_uri": "https://localhost:8080/",
          "height": 75
        },
        "id": "0LJ1jPEXVjOo",
        "outputId": "d786d67f-1057-446f-b672-66f1b69220b2"
      },
      "execution_count": null,
      "outputs": [
        {
          "output_type": "execute_result",
          "data": {
            "text/plain": [
              "CountVectorizer(analyzer=<function text_process at 0x7b40551c00d0>)"
            ],
            "text/html": [
              "<style>#sk-container-id-1 {color: black;background-color: white;}#sk-container-id-1 pre{padding: 0;}#sk-container-id-1 div.sk-toggleable {background-color: white;}#sk-container-id-1 label.sk-toggleable__label {cursor: pointer;display: block;width: 100%;margin-bottom: 0;padding: 0.3em;box-sizing: border-box;text-align: center;}#sk-container-id-1 label.sk-toggleable__label-arrow:before {content: \"▸\";float: left;margin-right: 0.25em;color: #696969;}#sk-container-id-1 label.sk-toggleable__label-arrow:hover:before {color: black;}#sk-container-id-1 div.sk-estimator:hover label.sk-toggleable__label-arrow:before {color: black;}#sk-container-id-1 div.sk-toggleable__content {max-height: 0;max-width: 0;overflow: hidden;text-align: left;background-color: #f0f8ff;}#sk-container-id-1 div.sk-toggleable__content pre {margin: 0.2em;color: black;border-radius: 0.25em;background-color: #f0f8ff;}#sk-container-id-1 input.sk-toggleable__control:checked~div.sk-toggleable__content {max-height: 200px;max-width: 100%;overflow: auto;}#sk-container-id-1 input.sk-toggleable__control:checked~label.sk-toggleable__label-arrow:before {content: \"▾\";}#sk-container-id-1 div.sk-estimator input.sk-toggleable__control:checked~label.sk-toggleable__label {background-color: #d4ebff;}#sk-container-id-1 div.sk-label input.sk-toggleable__control:checked~label.sk-toggleable__label {background-color: #d4ebff;}#sk-container-id-1 input.sk-hidden--visually {border: 0;clip: rect(1px 1px 1px 1px);clip: rect(1px, 1px, 1px, 1px);height: 1px;margin: -1px;overflow: hidden;padding: 0;position: absolute;width: 1px;}#sk-container-id-1 div.sk-estimator {font-family: monospace;background-color: #f0f8ff;border: 1px dotted black;border-radius: 0.25em;box-sizing: border-box;margin-bottom: 0.5em;}#sk-container-id-1 div.sk-estimator:hover {background-color: #d4ebff;}#sk-container-id-1 div.sk-parallel-item::after {content: \"\";width: 100%;border-bottom: 1px solid gray;flex-grow: 1;}#sk-container-id-1 div.sk-label:hover label.sk-toggleable__label {background-color: #d4ebff;}#sk-container-id-1 div.sk-serial::before {content: \"\";position: absolute;border-left: 1px solid gray;box-sizing: border-box;top: 0;bottom: 0;left: 50%;z-index: 0;}#sk-container-id-1 div.sk-serial {display: flex;flex-direction: column;align-items: center;background-color: white;padding-right: 0.2em;padding-left: 0.2em;position: relative;}#sk-container-id-1 div.sk-item {position: relative;z-index: 1;}#sk-container-id-1 div.sk-parallel {display: flex;align-items: stretch;justify-content: center;background-color: white;position: relative;}#sk-container-id-1 div.sk-item::before, #sk-container-id-1 div.sk-parallel-item::before {content: \"\";position: absolute;border-left: 1px solid gray;box-sizing: border-box;top: 0;bottom: 0;left: 50%;z-index: -1;}#sk-container-id-1 div.sk-parallel-item {display: flex;flex-direction: column;z-index: 1;position: relative;background-color: white;}#sk-container-id-1 div.sk-parallel-item:first-child::after {align-self: flex-end;width: 50%;}#sk-container-id-1 div.sk-parallel-item:last-child::after {align-self: flex-start;width: 50%;}#sk-container-id-1 div.sk-parallel-item:only-child::after {width: 0;}#sk-container-id-1 div.sk-dashed-wrapped {border: 1px dashed gray;margin: 0 0.4em 0.5em 0.4em;box-sizing: border-box;padding-bottom: 0.4em;background-color: white;}#sk-container-id-1 div.sk-label label {font-family: monospace;font-weight: bold;display: inline-block;line-height: 1.2em;}#sk-container-id-1 div.sk-label-container {text-align: center;}#sk-container-id-1 div.sk-container {/* jupyter's `normalize.less` sets `[hidden] { display: none; }` but bootstrap.min.css set `[hidden] { display: none !important; }` so we also need the `!important` here to be able to override the default hidden behavior on the sphinx rendered scikit-learn.org. See: https://github.com/scikit-learn/scikit-learn/issues/21755 */display: inline-block !important;position: relative;}#sk-container-id-1 div.sk-text-repr-fallback {display: none;}</style><div id=\"sk-container-id-1\" class=\"sk-top-container\"><div class=\"sk-text-repr-fallback\"><pre>CountVectorizer(analyzer=&lt;function text_process at 0x7b40551c00d0&gt;)</pre><b>In a Jupyter environment, please rerun this cell to show the HTML representation or trust the notebook. <br />On GitHub, the HTML representation is unable to render, please try loading this page with nbviewer.org.</b></div><div class=\"sk-container\" hidden><div class=\"sk-item\"><div class=\"sk-estimator sk-toggleable\"><input class=\"sk-toggleable__control sk-hidden--visually\" id=\"sk-estimator-id-1\" type=\"checkbox\" checked><label for=\"sk-estimator-id-1\" class=\"sk-toggleable__label sk-toggleable__label-arrow\">CountVectorizer</label><div class=\"sk-toggleable__content\"><pre>CountVectorizer(analyzer=&lt;function text_process at 0x7b40551c00d0&gt;)</pre></div></div></div></div></div>"
            ]
          },
          "metadata": {},
          "execution_count": 57
        }
      ]
    },
    {
      "cell_type": "code",
      "source": [
        "bow_transformer.fit(df['text_'])\n",
        "print(\"Total Vocabulary:\",len(bow_transformer.vocabulary_))"
      ],
      "metadata": {
        "colab": {
          "base_uri": "https://localhost:8080/"
        },
        "id": "5felfkt_VnNn",
        "outputId": "0d1b1e27-9797-438a-87d5-06f008d08532"
      },
      "execution_count": null,
      "outputs": [
        {
          "output_type": "stream",
          "name": "stdout",
          "text": [
            "Total Vocabulary: 34498\n"
          ]
        }
      ]
    },
    {
      "cell_type": "code",
      "source": [
        "review4 = df['text_'][3]\n",
        "review4"
      ],
      "metadata": {
        "colab": {
          "base_uri": "https://localhost:8080/",
          "height": 35
        },
        "id": "anHQvbPdWX5L",
        "outputId": "fc77fc84-7c50-434e-e16f-eeb0ff3a7c12"
      },
      "execution_count": null,
      "outputs": [
        {
          "output_type": "execute_result",
          "data": {
            "text/plain": [
              "'miss inform use great product price'"
            ],
            "application/vnd.google.colaboratory.intrinsic+json": {
              "type": "string"
            }
          },
          "metadata": {},
          "execution_count": 59
        }
      ]
    },
    {
      "cell_type": "code",
      "source": [
        "bow_msg4 = bow_transformer.transform([review4])\n",
        "print(bow_msg4)\n",
        "print(bow_msg4.shape)"
      ],
      "metadata": {
        "colab": {
          "base_uri": "https://localhost:8080/"
        },
        "id": "EHp2FrYLWcR9",
        "outputId": "f1d146c7-7ed7-4345-e924-38d4c2419b8d"
      },
      "execution_count": null,
      "outputs": [
        {
          "output_type": "stream",
          "name": "stdout",
          "text": [
            "  (0, 13646)\t1\n",
            "  (0, 15888)\t1\n",
            "  (0, 19896)\t1\n",
            "  (0, 23895)\t1\n",
            "  (0, 24025)\t1\n",
            "  (0, 32230)\t1\n",
            "(1, 34498)\n"
          ]
        }
      ]
    },
    {
      "cell_type": "code",
      "source": [
        "import pandas as pd\n",
        "import matplotlib.pyplot as plt\n",
        "import plotly.express as px\n",
        "from sklearn.feature_extraction.text import CountVectorizer\n",
        "from collections import Counter\n",
        "from wordcloud import WordCloud\n",
        "print(bow_transformer.get_feature_names_out()[15841])\n",
        "print(bow_transformer.get_feature_names_out()[23848])"
      ],
      "metadata": {
        "colab": {
          "base_uri": "https://localhost:8080/"
        },
        "id": "wqeKcJVLXQNE",
        "outputId": "bf064a6b-1afd-4c47-9050-6431a24da9d1"
      },
      "execution_count": null,
      "outputs": [
        {
          "output_type": "stream",
          "name": "stdout",
          "text": [
            "inept\n",
            "presid\n"
          ]
        }
      ]
    },
    {
      "cell_type": "code",
      "source": [
        "bow_reviews = bow_transformer.transform(df['text_'])"
      ],
      "metadata": {
        "id": "bEuxaxK1aNoo"
      },
      "execution_count": null,
      "outputs": []
    },
    {
      "cell_type": "code",
      "source": [
        "print(\"Shape of Bag of Words Transformer for the entire reviews corpus:\",bow_reviews.shape)\n",
        "print(\"Amount of non zero values in the bag of words model:\",bow_reviews.nnz)"
      ],
      "metadata": {
        "colab": {
          "base_uri": "https://localhost:8080/"
        },
        "id": "zmponRJma8L3",
        "outputId": "85e380bd-a318-43cf-b096-57aad391ca71"
      },
      "execution_count": null,
      "outputs": [
        {
          "output_type": "stream",
          "name": "stdout",
          "text": [
            "Shape of Bag of Words Transformer for the entire reviews corpus: (40432, 34498)\n",
            "Amount of non zero values in the bag of words model: 1001959\n"
          ]
        }
      ]
    },
    {
      "cell_type": "code",
      "source": [
        "print(\"Sparsity:\",np.round((bow_reviews.nnz/(bow_reviews.shape[0]*bow_reviews.shape[1]))*100,2))"
      ],
      "metadata": {
        "colab": {
          "base_uri": "https://localhost:8080/"
        },
        "id": "ODd3hzEobHuu",
        "outputId": "e8864f68-6e29-467b-d87b-9a826e140a2a"
      },
      "execution_count": null,
      "outputs": [
        {
          "output_type": "stream",
          "name": "stdout",
          "text": [
            "Sparsity: 0.07\n"
          ]
        }
      ]
    },
    {
      "cell_type": "code",
      "source": [
        "tfidf_transformer = TfidfTransformer().fit(bow_reviews)\n",
        "tfidf_rev4 = tfidf_transformer.transform(bow_msg4)\n",
        "print(bow_msg4)"
      ],
      "metadata": {
        "colab": {
          "base_uri": "https://localhost:8080/"
        },
        "id": "em3p8v6XbMeD",
        "outputId": "69a477bc-aef1-433d-94fb-466c1b6988a2"
      },
      "execution_count": null,
      "outputs": [
        {
          "output_type": "stream",
          "name": "stdout",
          "text": [
            "  (0, 13646)\t1\n",
            "  (0, 15888)\t1\n",
            "  (0, 19896)\t1\n",
            "  (0, 23895)\t1\n",
            "  (0, 24025)\t1\n",
            "  (0, 32230)\t1\n"
          ]
        }
      ]
    },
    {
      "cell_type": "code",
      "source": [
        "print(tfidf_transformer.idf_[bow_transformer.vocabulary_['mango']])\n",
        "print(tfidf_transformer.idf_[bow_transformer.vocabulary_['book']])"
      ],
      "metadata": {
        "colab": {
          "base_uri": "https://localhost:8080/"
        },
        "id": "sDDC0f-5bUZI",
        "outputId": "febabc51-5327-4fe3-f6d6-a331be183392"
      },
      "execution_count": null,
      "outputs": [
        {
          "output_type": "stream",
          "name": "stdout",
          "text": [
            "10.914254381647021\n",
            "2.821709117755722\n"
          ]
        }
      ]
    },
    {
      "cell_type": "code",
      "source": [
        "tfidf_reviews = tfidf_transformer.transform(bow_reviews)\n",
        "print(\"Shape:\",tfidf_reviews.shape)\n",
        "print(\"No. of Dimensions:\",tfidf_reviews.ndim)"
      ],
      "metadata": {
        "colab": {
          "base_uri": "https://localhost:8080/"
        },
        "id": "AsA7eaFDbkDe",
        "outputId": "c1d130a1-cfdb-44ce-cd4b-51928d85650b"
      },
      "execution_count": null,
      "outputs": [
        {
          "output_type": "stream",
          "name": "stdout",
          "text": [
            "Shape: (40432, 34498)\n",
            "No. of Dimensions: 2\n"
          ]
        }
      ]
    },
    {
      "cell_type": "code",
      "source": [
        "review_train, review_test, label_train, label_test = train_test_split(df['text_'],df['label'],test_size=0.35)"
      ],
      "metadata": {
        "id": "RZcjLgISbnjY"
      },
      "execution_count": null,
      "outputs": []
    },
    {
      "cell_type": "code",
      "source": [
        "from sklearn.pipeline import Pipeline\n",
        "\n",
        "from sklearn.pipeline import Pipeline\n",
        "from sklearn.feature_extraction.text import CountVectorizer, TfidfTransformer\n",
        "from sklearn.naive_bayes import MultinomialNB\n",
        "\n",
        "pipeline = Pipeline([\n",
        "    ('bow',CountVectorizer(analyzer=text_process)),\n",
        "    ('tfidf',TfidfTransformer()),\n",
        "    ('classifier',MultinomialNB())\n",
        "])"
      ],
      "metadata": {
        "id": "f6Z3R5Zpbq5v"
      },
      "execution_count": null,
      "outputs": []
    },
    {
      "cell_type": "code",
      "source": [
        "pipeline.fit(review_train,label_train)"
      ],
      "metadata": {
        "colab": {
          "base_uri": "https://localhost:8080/",
          "height": 161
        },
        "id": "-iaV_SFWc0yB",
        "outputId": "221f86e3-498c-49fe-bb2c-4ecfa2b340e8"
      },
      "execution_count": null,
      "outputs": [
        {
          "output_type": "execute_result",
          "data": {
            "text/plain": [
              "Pipeline(steps=[('bow',\n",
              "                 CountVectorizer(analyzer=<function text_process at 0x7b40551c00d0>)),\n",
              "                ('tfidf', TfidfTransformer()),\n",
              "                ('classifier', MultinomialNB())])"
            ],
            "text/html": [
              "<style>#sk-container-id-2 {color: black;background-color: white;}#sk-container-id-2 pre{padding: 0;}#sk-container-id-2 div.sk-toggleable {background-color: white;}#sk-container-id-2 label.sk-toggleable__label {cursor: pointer;display: block;width: 100%;margin-bottom: 0;padding: 0.3em;box-sizing: border-box;text-align: center;}#sk-container-id-2 label.sk-toggleable__label-arrow:before {content: \"▸\";float: left;margin-right: 0.25em;color: #696969;}#sk-container-id-2 label.sk-toggleable__label-arrow:hover:before {color: black;}#sk-container-id-2 div.sk-estimator:hover label.sk-toggleable__label-arrow:before {color: black;}#sk-container-id-2 div.sk-toggleable__content {max-height: 0;max-width: 0;overflow: hidden;text-align: left;background-color: #f0f8ff;}#sk-container-id-2 div.sk-toggleable__content pre {margin: 0.2em;color: black;border-radius: 0.25em;background-color: #f0f8ff;}#sk-container-id-2 input.sk-toggleable__control:checked~div.sk-toggleable__content {max-height: 200px;max-width: 100%;overflow: auto;}#sk-container-id-2 input.sk-toggleable__control:checked~label.sk-toggleable__label-arrow:before {content: \"▾\";}#sk-container-id-2 div.sk-estimator input.sk-toggleable__control:checked~label.sk-toggleable__label {background-color: #d4ebff;}#sk-container-id-2 div.sk-label input.sk-toggleable__control:checked~label.sk-toggleable__label {background-color: #d4ebff;}#sk-container-id-2 input.sk-hidden--visually {border: 0;clip: rect(1px 1px 1px 1px);clip: rect(1px, 1px, 1px, 1px);height: 1px;margin: -1px;overflow: hidden;padding: 0;position: absolute;width: 1px;}#sk-container-id-2 div.sk-estimator {font-family: monospace;background-color: #f0f8ff;border: 1px dotted black;border-radius: 0.25em;box-sizing: border-box;margin-bottom: 0.5em;}#sk-container-id-2 div.sk-estimator:hover {background-color: #d4ebff;}#sk-container-id-2 div.sk-parallel-item::after {content: \"\";width: 100%;border-bottom: 1px solid gray;flex-grow: 1;}#sk-container-id-2 div.sk-label:hover label.sk-toggleable__label {background-color: #d4ebff;}#sk-container-id-2 div.sk-serial::before {content: \"\";position: absolute;border-left: 1px solid gray;box-sizing: border-box;top: 0;bottom: 0;left: 50%;z-index: 0;}#sk-container-id-2 div.sk-serial {display: flex;flex-direction: column;align-items: center;background-color: white;padding-right: 0.2em;padding-left: 0.2em;position: relative;}#sk-container-id-2 div.sk-item {position: relative;z-index: 1;}#sk-container-id-2 div.sk-parallel {display: flex;align-items: stretch;justify-content: center;background-color: white;position: relative;}#sk-container-id-2 div.sk-item::before, #sk-container-id-2 div.sk-parallel-item::before {content: \"\";position: absolute;border-left: 1px solid gray;box-sizing: border-box;top: 0;bottom: 0;left: 50%;z-index: -1;}#sk-container-id-2 div.sk-parallel-item {display: flex;flex-direction: column;z-index: 1;position: relative;background-color: white;}#sk-container-id-2 div.sk-parallel-item:first-child::after {align-self: flex-end;width: 50%;}#sk-container-id-2 div.sk-parallel-item:last-child::after {align-self: flex-start;width: 50%;}#sk-container-id-2 div.sk-parallel-item:only-child::after {width: 0;}#sk-container-id-2 div.sk-dashed-wrapped {border: 1px dashed gray;margin: 0 0.4em 0.5em 0.4em;box-sizing: border-box;padding-bottom: 0.4em;background-color: white;}#sk-container-id-2 div.sk-label label {font-family: monospace;font-weight: bold;display: inline-block;line-height: 1.2em;}#sk-container-id-2 div.sk-label-container {text-align: center;}#sk-container-id-2 div.sk-container {/* jupyter's `normalize.less` sets `[hidden] { display: none; }` but bootstrap.min.css set `[hidden] { display: none !important; }` so we also need the `!important` here to be able to override the default hidden behavior on the sphinx rendered scikit-learn.org. See: https://github.com/scikit-learn/scikit-learn/issues/21755 */display: inline-block !important;position: relative;}#sk-container-id-2 div.sk-text-repr-fallback {display: none;}</style><div id=\"sk-container-id-2\" class=\"sk-top-container\"><div class=\"sk-text-repr-fallback\"><pre>Pipeline(steps=[(&#x27;bow&#x27;,\n",
              "                 CountVectorizer(analyzer=&lt;function text_process at 0x7b40551c00d0&gt;)),\n",
              "                (&#x27;tfidf&#x27;, TfidfTransformer()),\n",
              "                (&#x27;classifier&#x27;, MultinomialNB())])</pre><b>In a Jupyter environment, please rerun this cell to show the HTML representation or trust the notebook. <br />On GitHub, the HTML representation is unable to render, please try loading this page with nbviewer.org.</b></div><div class=\"sk-container\" hidden><div class=\"sk-item sk-dashed-wrapped\"><div class=\"sk-label-container\"><div class=\"sk-label sk-toggleable\"><input class=\"sk-toggleable__control sk-hidden--visually\" id=\"sk-estimator-id-2\" type=\"checkbox\" ><label for=\"sk-estimator-id-2\" class=\"sk-toggleable__label sk-toggleable__label-arrow\">Pipeline</label><div class=\"sk-toggleable__content\"><pre>Pipeline(steps=[(&#x27;bow&#x27;,\n",
              "                 CountVectorizer(analyzer=&lt;function text_process at 0x7b40551c00d0&gt;)),\n",
              "                (&#x27;tfidf&#x27;, TfidfTransformer()),\n",
              "                (&#x27;classifier&#x27;, MultinomialNB())])</pre></div></div></div><div class=\"sk-serial\"><div class=\"sk-item\"><div class=\"sk-estimator sk-toggleable\"><input class=\"sk-toggleable__control sk-hidden--visually\" id=\"sk-estimator-id-3\" type=\"checkbox\" ><label for=\"sk-estimator-id-3\" class=\"sk-toggleable__label sk-toggleable__label-arrow\">CountVectorizer</label><div class=\"sk-toggleable__content\"><pre>CountVectorizer(analyzer=&lt;function text_process at 0x7b40551c00d0&gt;)</pre></div></div></div><div class=\"sk-item\"><div class=\"sk-estimator sk-toggleable\"><input class=\"sk-toggleable__control sk-hidden--visually\" id=\"sk-estimator-id-4\" type=\"checkbox\" ><label for=\"sk-estimator-id-4\" class=\"sk-toggleable__label sk-toggleable__label-arrow\">TfidfTransformer</label><div class=\"sk-toggleable__content\"><pre>TfidfTransformer()</pre></div></div></div><div class=\"sk-item\"><div class=\"sk-estimator sk-toggleable\"><input class=\"sk-toggleable__control sk-hidden--visually\" id=\"sk-estimator-id-5\" type=\"checkbox\" ><label for=\"sk-estimator-id-5\" class=\"sk-toggleable__label sk-toggleable__label-arrow\">MultinomialNB</label><div class=\"sk-toggleable__content\"><pre>MultinomialNB()</pre></div></div></div></div></div></div></div>"
            ]
          },
          "metadata": {},
          "execution_count": 76
        }
      ]
    },
    {
      "cell_type": "code",
      "source": [
        "predictions = pipeline.predict(review_test)\n",
        "predictions"
      ],
      "metadata": {
        "colab": {
          "base_uri": "https://localhost:8080/"
        },
        "id": "gqmtuyfhc72F",
        "outputId": "6c611aeb-6518-4815-9502-691c76297b05"
      },
      "execution_count": null,
      "outputs": [
        {
          "output_type": "execute_result",
          "data": {
            "text/plain": [
              "array(['OR', 'OR', 'CG', ..., 'OR', 'CG', 'CG'], dtype='<U2')"
            ]
          },
          "metadata": {},
          "execution_count": 77
        }
      ]
    },
    {
      "cell_type": "code",
      "source": [
        "from sklearn.metrics import accuracy_score\n",
        "\n",
        "from sklearn.metrics import accuracy_score\n",
        "from sklearn.metrics import classification_report, confusion_matrix\n",
        "\n",
        "print('Classification Report:',classification_report(label_test,predictions))\n",
        "print('Confusion Matrix:',confusion_matrix(label_test,predictions))\n",
        "print('Accuracy Score:',accuracy_score(label_test,predictions))"
      ],
      "metadata": {
        "colab": {
          "base_uri": "https://localhost:8080/"
        },
        "id": "eKhBWyt_dk20",
        "outputId": "f79be90f-0a99-426d-a4bf-9a4f5cb9bad3"
      },
      "execution_count": null,
      "outputs": [
        {
          "output_type": "stream",
          "name": "stdout",
          "text": [
            "Classification Report:               precision    recall  f1-score   support\n",
            "\n",
            "          CG       0.83      0.88      0.86      7131\n",
            "          OR       0.87      0.82      0.85      7021\n",
            "\n",
            "    accuracy                           0.85     14152\n",
            "   macro avg       0.85      0.85      0.85     14152\n",
            "weighted avg       0.85      0.85      0.85     14152\n",
            "\n",
            "Confusion Matrix: [[6282  849]\n",
            " [1263 5758]]\n",
            "Accuracy Score: 0.8507631430186546\n"
          ]
        }
      ]
    },
    {
      "cell_type": "code",
      "source": [
        "print('Model Prediction Accuracy:',str(np.round(accuracy_score(label_test,predictions)*100,2)) + '%')"
      ],
      "metadata": {
        "colab": {
          "base_uri": "https://localhost:8080/"
        },
        "id": "-9N8pvKaeR78",
        "outputId": "b6baee94-331a-4722-cb76-bcf4c8317dae"
      },
      "execution_count": null,
      "outputs": [
        {
          "output_type": "stream",
          "name": "stdout",
          "text": [
            "Model Prediction Accuracy: 85.08%\n"
          ]
        }
      ]
    },
    {
      "cell_type": "code",
      "source": [
        "from sklearn.ensemble import RandomForestClassifier\n",
        "\n",
        "from sklearn.pipeline import Pipeline\n",
        "from sklearn.feature_extraction.text import CountVectorizer, TfidfTransformer\n",
        "from sklearn.ensemble import RandomForestClassifier\n",
        "from sklearn.metrics import classification_report, confusion_matrix, accuracy_score\n",
        "\n",
        "pipeline = Pipeline([\n",
        "    ('bow',CountVectorizer(analyzer=text_process)),\n",
        "    ('tfidf',TfidfTransformer()),\n",
        "    ('classifier',RandomForestClassifier())\n",
        "])\n",
        "\n",
        "print('Classification Report:', classification_report(label_test, predictions))\n",
        "print('Confusion Matrix:', confusion_matrix(label_test, predictions))\n",
        "print('Accuracy Score:', accuracy_score(label_test, predictions))"
      ],
      "metadata": {
        "colab": {
          "base_uri": "https://localhost:8080/"
        },
        "id": "8kDKi6jFeiQO",
        "outputId": "ccf869c4-5c1d-4531-e84a-4a00f4a8fb89"
      },
      "execution_count": null,
      "outputs": [
        {
          "output_type": "stream",
          "name": "stdout",
          "text": [
            "Classification Report:               precision    recall  f1-score   support\n",
            "\n",
            "          CG       0.83      0.88      0.86      7131\n",
            "          OR       0.87      0.82      0.85      7021\n",
            "\n",
            "    accuracy                           0.85     14152\n",
            "   macro avg       0.85      0.85      0.85     14152\n",
            "weighted avg       0.85      0.85      0.85     14152\n",
            "\n",
            "Confusion Matrix: [[6282  849]\n",
            " [1263 5758]]\n",
            "Accuracy Score: 0.8507631430186546\n"
          ]
        }
      ]
    },
    {
      "cell_type": "code",
      "source": [
        "pipeline.fit(review_train,label_train)"
      ],
      "metadata": {
        "colab": {
          "base_uri": "https://localhost:8080/",
          "height": 161
        },
        "id": "xMUMOhEHfBS8",
        "outputId": "d570e368-48e8-429e-a37d-a9d6a3a65c81"
      },
      "execution_count": null,
      "outputs": [
        {
          "output_type": "execute_result",
          "data": {
            "text/plain": [
              "Pipeline(steps=[('bow',\n",
              "                 CountVectorizer(analyzer=<function text_process at 0x7b40551c00d0>)),\n",
              "                ('tfidf', TfidfTransformer()),\n",
              "                ('classifier', RandomForestClassifier())])"
            ],
            "text/html": [
              "<style>#sk-container-id-3 {color: black;background-color: white;}#sk-container-id-3 pre{padding: 0;}#sk-container-id-3 div.sk-toggleable {background-color: white;}#sk-container-id-3 label.sk-toggleable__label {cursor: pointer;display: block;width: 100%;margin-bottom: 0;padding: 0.3em;box-sizing: border-box;text-align: center;}#sk-container-id-3 label.sk-toggleable__label-arrow:before {content: \"▸\";float: left;margin-right: 0.25em;color: #696969;}#sk-container-id-3 label.sk-toggleable__label-arrow:hover:before {color: black;}#sk-container-id-3 div.sk-estimator:hover label.sk-toggleable__label-arrow:before {color: black;}#sk-container-id-3 div.sk-toggleable__content {max-height: 0;max-width: 0;overflow: hidden;text-align: left;background-color: #f0f8ff;}#sk-container-id-3 div.sk-toggleable__content pre {margin: 0.2em;color: black;border-radius: 0.25em;background-color: #f0f8ff;}#sk-container-id-3 input.sk-toggleable__control:checked~div.sk-toggleable__content {max-height: 200px;max-width: 100%;overflow: auto;}#sk-container-id-3 input.sk-toggleable__control:checked~label.sk-toggleable__label-arrow:before {content: \"▾\";}#sk-container-id-3 div.sk-estimator input.sk-toggleable__control:checked~label.sk-toggleable__label {background-color: #d4ebff;}#sk-container-id-3 div.sk-label input.sk-toggleable__control:checked~label.sk-toggleable__label {background-color: #d4ebff;}#sk-container-id-3 input.sk-hidden--visually {border: 0;clip: rect(1px 1px 1px 1px);clip: rect(1px, 1px, 1px, 1px);height: 1px;margin: -1px;overflow: hidden;padding: 0;position: absolute;width: 1px;}#sk-container-id-3 div.sk-estimator {font-family: monospace;background-color: #f0f8ff;border: 1px dotted black;border-radius: 0.25em;box-sizing: border-box;margin-bottom: 0.5em;}#sk-container-id-3 div.sk-estimator:hover {background-color: #d4ebff;}#sk-container-id-3 div.sk-parallel-item::after {content: \"\";width: 100%;border-bottom: 1px solid gray;flex-grow: 1;}#sk-container-id-3 div.sk-label:hover label.sk-toggleable__label {background-color: #d4ebff;}#sk-container-id-3 div.sk-serial::before {content: \"\";position: absolute;border-left: 1px solid gray;box-sizing: border-box;top: 0;bottom: 0;left: 50%;z-index: 0;}#sk-container-id-3 div.sk-serial {display: flex;flex-direction: column;align-items: center;background-color: white;padding-right: 0.2em;padding-left: 0.2em;position: relative;}#sk-container-id-3 div.sk-item {position: relative;z-index: 1;}#sk-container-id-3 div.sk-parallel {display: flex;align-items: stretch;justify-content: center;background-color: white;position: relative;}#sk-container-id-3 div.sk-item::before, #sk-container-id-3 div.sk-parallel-item::before {content: \"\";position: absolute;border-left: 1px solid gray;box-sizing: border-box;top: 0;bottom: 0;left: 50%;z-index: -1;}#sk-container-id-3 div.sk-parallel-item {display: flex;flex-direction: column;z-index: 1;position: relative;background-color: white;}#sk-container-id-3 div.sk-parallel-item:first-child::after {align-self: flex-end;width: 50%;}#sk-container-id-3 div.sk-parallel-item:last-child::after {align-self: flex-start;width: 50%;}#sk-container-id-3 div.sk-parallel-item:only-child::after {width: 0;}#sk-container-id-3 div.sk-dashed-wrapped {border: 1px dashed gray;margin: 0 0.4em 0.5em 0.4em;box-sizing: border-box;padding-bottom: 0.4em;background-color: white;}#sk-container-id-3 div.sk-label label {font-family: monospace;font-weight: bold;display: inline-block;line-height: 1.2em;}#sk-container-id-3 div.sk-label-container {text-align: center;}#sk-container-id-3 div.sk-container {/* jupyter's `normalize.less` sets `[hidden] { display: none; }` but bootstrap.min.css set `[hidden] { display: none !important; }` so we also need the `!important` here to be able to override the default hidden behavior on the sphinx rendered scikit-learn.org. See: https://github.com/scikit-learn/scikit-learn/issues/21755 */display: inline-block !important;position: relative;}#sk-container-id-3 div.sk-text-repr-fallback {display: none;}</style><div id=\"sk-container-id-3\" class=\"sk-top-container\"><div class=\"sk-text-repr-fallback\"><pre>Pipeline(steps=[(&#x27;bow&#x27;,\n",
              "                 CountVectorizer(analyzer=&lt;function text_process at 0x7b40551c00d0&gt;)),\n",
              "                (&#x27;tfidf&#x27;, TfidfTransformer()),\n",
              "                (&#x27;classifier&#x27;, RandomForestClassifier())])</pre><b>In a Jupyter environment, please rerun this cell to show the HTML representation or trust the notebook. <br />On GitHub, the HTML representation is unable to render, please try loading this page with nbviewer.org.</b></div><div class=\"sk-container\" hidden><div class=\"sk-item sk-dashed-wrapped\"><div class=\"sk-label-container\"><div class=\"sk-label sk-toggleable\"><input class=\"sk-toggleable__control sk-hidden--visually\" id=\"sk-estimator-id-6\" type=\"checkbox\" ><label for=\"sk-estimator-id-6\" class=\"sk-toggleable__label sk-toggleable__label-arrow\">Pipeline</label><div class=\"sk-toggleable__content\"><pre>Pipeline(steps=[(&#x27;bow&#x27;,\n",
              "                 CountVectorizer(analyzer=&lt;function text_process at 0x7b40551c00d0&gt;)),\n",
              "                (&#x27;tfidf&#x27;, TfidfTransformer()),\n",
              "                (&#x27;classifier&#x27;, RandomForestClassifier())])</pre></div></div></div><div class=\"sk-serial\"><div class=\"sk-item\"><div class=\"sk-estimator sk-toggleable\"><input class=\"sk-toggleable__control sk-hidden--visually\" id=\"sk-estimator-id-7\" type=\"checkbox\" ><label for=\"sk-estimator-id-7\" class=\"sk-toggleable__label sk-toggleable__label-arrow\">CountVectorizer</label><div class=\"sk-toggleable__content\"><pre>CountVectorizer(analyzer=&lt;function text_process at 0x7b40551c00d0&gt;)</pre></div></div></div><div class=\"sk-item\"><div class=\"sk-estimator sk-toggleable\"><input class=\"sk-toggleable__control sk-hidden--visually\" id=\"sk-estimator-id-8\" type=\"checkbox\" ><label for=\"sk-estimator-id-8\" class=\"sk-toggleable__label sk-toggleable__label-arrow\">TfidfTransformer</label><div class=\"sk-toggleable__content\"><pre>TfidfTransformer()</pre></div></div></div><div class=\"sk-item\"><div class=\"sk-estimator sk-toggleable\"><input class=\"sk-toggleable__control sk-hidden--visually\" id=\"sk-estimator-id-9\" type=\"checkbox\" ><label for=\"sk-estimator-id-9\" class=\"sk-toggleable__label sk-toggleable__label-arrow\">RandomForestClassifier</label><div class=\"sk-toggleable__content\"><pre>RandomForestClassifier()</pre></div></div></div></div></div></div></div>"
            ]
          },
          "metadata": {},
          "execution_count": 83
        }
      ]
    },
    {
      "cell_type": "code",
      "source": [
        "dtree_pred = pipeline.predict(review_test)\n",
        "dtree_pred"
      ],
      "metadata": {
        "colab": {
          "base_uri": "https://localhost:8080/"
        },
        "id": "GjCO28VUf0fN",
        "outputId": "9e38cfa6-b775-41cd-d6f3-601dbfc6608c"
      },
      "execution_count": null,
      "outputs": [
        {
          "output_type": "execute_result",
          "data": {
            "text/plain": [
              "array(['OR', 'OR', 'CG', ..., 'OR', 'CG', 'CG'], dtype=object)"
            ]
          },
          "metadata": {},
          "execution_count": 84
        }
      ]
    },
    {
      "cell_type": "code",
      "source": [
        "print('Classification Report:',classification_report(label_test,dtree_pred))\n",
        "print('Confusion Matrix:',confusion_matrix(label_test,dtree_pred))\n",
        "print('Accuracy Score:',accuracy_score(label_test,dtree_pred))\n",
        "print('Model Prediction Accuracy:',str(np.round(accuracy_score(label_test,dtree_pred)*100,2)) + '%')"
      ],
      "metadata": {
        "colab": {
          "base_uri": "https://localhost:8080/"
        },
        "id": "hgy9YC3fggOz",
        "outputId": "868c0a2b-4a3a-4b1c-a2da-14f2bdd5b72a"
      },
      "execution_count": null,
      "outputs": [
        {
          "output_type": "stream",
          "name": "stdout",
          "text": [
            "Classification Report:               precision    recall  f1-score   support\n",
            "\n",
            "          CG       0.82      0.89      0.85      7131\n",
            "          OR       0.88      0.80      0.84      7021\n",
            "\n",
            "    accuracy                           0.85     14152\n",
            "   macro avg       0.85      0.85      0.85     14152\n",
            "weighted avg       0.85      0.85      0.85     14152\n",
            "\n",
            "Confusion Matrix: [[6340  791]\n",
            " [1393 5628]]\n",
            "Accuracy Score: 0.8456755228942906\n",
            "Model Prediction Accuracy: 84.57%\n"
          ]
        }
      ]
    },
    {
      "cell_type": "code",
      "source": [
        "from sklearn.neighbors import KNeighborsClassifier\n",
        "\n",
        "from sklearn.pipeline import Pipeline\n",
        "from sklearn.feature_extraction.text import CountVectorizer, TfidfTransformer\n",
        "from sklearn.neighbors import KNeighborsClassifier\n",
        "from sklearn.metrics import classification_report, confusion_matrix, accuracy_score\n",
        "\n",
        "pipeline = Pipeline([\n",
        "    ('bow',CountVectorizer(analyzer=text_process)),\n",
        "    ('tfidf',TfidfTransformer()),\n",
        "    ('classifier',KNeighborsClassifier(n_neighbors=2))\n",
        "])"
      ],
      "metadata": {
        "colab": {
          "base_uri": "https://localhost:8080/"
        },
        "id": "ZaPda4_YgrRD",
        "outputId": "b16255a3-ae77-4eee-b49e-4b07d8972173"
      },
      "execution_count": null,
      "outputs": [
        {
          "output_type": "stream",
          "name": "stdout",
          "text": [
            "Classification Report:               precision    recall  f1-score   support\n",
            "\n",
            "          CG       0.83      0.88      0.86      7131\n",
            "          OR       0.87      0.82      0.85      7021\n",
            "\n",
            "    accuracy                           0.85     14152\n",
            "   macro avg       0.85      0.85      0.85     14152\n",
            "weighted avg       0.85      0.85      0.85     14152\n",
            "\n",
            "Confusion Matrix: [[6282  849]\n",
            " [1263 5758]]\n",
            "Accuracy Score: 0.8507631430186546\n"
          ]
        }
      ]
    }
  ]
}